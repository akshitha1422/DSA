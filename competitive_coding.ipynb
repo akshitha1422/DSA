{
  "nbformat": 4,
  "nbformat_minor": 0,
  "metadata": {
    "colab": {
      "provenance": [],
      "authorship_tag": "ABX9TyNoOjZGQb0PAS5Btm0nYoMI",
      "include_colab_link": true
    },
    "kernelspec": {
      "name": "python3",
      "display_name": "Python 3"
    },
    "language_info": {
      "name": "python"
    }
  },
  "cells": [
    {
      "cell_type": "markdown",
      "metadata": {
        "id": "view-in-github",
        "colab_type": "text"
      },
      "source": [
        "<a href=\"https://colab.research.google.com/github/akshitha1422/DSA/blob/main/competitive_coding.ipynb\" target=\"_parent\"><img src=\"https://colab.research.google.com/assets/colab-badge.svg\" alt=\"Open In Colab\"/></a>"
      ]
    },
    {
      "cell_type": "markdown",
      "source": [
        "# **recursion**"
      ],
      "metadata": {
        "id": "-VrSwDHUvq6Y"
      }
    },
    {
      "cell_type": "code",
      "execution_count": null,
      "metadata": {
        "colab": {
          "base_uri": "https://localhost:8080/"
        },
        "id": "ewxjKT9bRDG9",
        "outputId": "fd76bc9f-f520-4101-ee7d-d02f6c993d98"
      },
      "outputs": [
        {
          "output_type": "execute_result",
          "data": {
            "text/plain": [
              "120"
            ]
          },
          "metadata": {},
          "execution_count": 274
        }
      ],
      "source": [
        "def factorial(n):\n",
        "  if n==0 or n==1:\n",
        "    return n\n",
        "  else:\n",
        "    return n*factorial(n-1)\n",
        "factorial(5)"
      ]
    },
    {
      "cell_type": "code",
      "source": [
        "def fibanocci(n):\n",
        "  a=0\n",
        "  b=1\n",
        "  if n==0:\n",
        "    return []\n",
        "  elif n==1:\n",
        "    return [0]\n",
        "  else:\n",
        "    arr=[]\n",
        "    arr.append(a)\n",
        "    arr.append(b)\n",
        "    for i in range(n-1):\n",
        "      a,b=b,a+b\n",
        "      arr.append(b)\n",
        "    return arr\n",
        "fibanocci(10)"
      ],
      "metadata": {
        "colab": {
          "base_uri": "https://localhost:8080/"
        },
        "id": "L1gfFt4ZRy_A",
        "outputId": "af1802e2-1e3d-4285-8a61-683702411d0d"
      },
      "execution_count": null,
      "outputs": [
        {
          "output_type": "execute_result",
          "data": {
            "text/plain": [
              "[0, 1, 1, 2, 3, 5, 8, 13, 21, 34, 55]"
            ]
          },
          "metadata": {},
          "execution_count": 275
        }
      ]
    },
    {
      "cell_type": "code",
      "source": [
        "def add(a,b):\n",
        "  if b==0:\n",
        "    return a\n",
        "  else:\n",
        "    return add(a+1,b-1)\n",
        "add(5,3)"
      ],
      "metadata": {
        "colab": {
          "base_uri": "https://localhost:8080/"
        },
        "id": "GONDb6U0UL0v",
        "outputId": "db453688-bf0f-492a-d887-a7514148f3ba"
      },
      "execution_count": null,
      "outputs": [
        {
          "output_type": "execute_result",
          "data": {
            "text/plain": [
              "8"
            ]
          },
          "metadata": {},
          "execution_count": 276
        }
      ]
    },
    {
      "cell_type": "code",
      "source": [
        "def tower_of_hanoi(n,source,target,auxillary):\n",
        "  if n==1:\n",
        "    print(f'move disk {n} from {source} to {target}')\n",
        "  else:\n",
        "    tower_of_hanoi(n-1,source,auxillary,target)\n",
        "    print(f'move disk {n} from {source} to {target}')\n",
        "    tower_of_hanoi(n-1,auxillary,target,source)\n",
        "n=3\n",
        "tower_of_hanoi(n,'A','C','B')"
      ],
      "metadata": {
        "colab": {
          "base_uri": "https://localhost:8080/"
        },
        "id": "Sd_Kb3GEUzsv",
        "outputId": "6a236d62-64af-405e-eca6-b609abcc09bc"
      },
      "execution_count": null,
      "outputs": [
        {
          "output_type": "stream",
          "name": "stdout",
          "text": [
            "move disk 1 from A to C\n",
            "move disk 2 from A to B\n",
            "move disk 1 from C to B\n",
            "move disk 3 from A to C\n",
            "move disk 1 from B to A\n",
            "move disk 2 from B to C\n",
            "move disk 1 from A to C\n"
          ]
        }
      ]
    },
    {
      "cell_type": "code",
      "source": [
        "def linear_search(arr,target,i):\n",
        "  if i>=len(arr):\n",
        "    print('Not found')\n",
        "    return\n",
        "  if arr[i]==target:\n",
        "    print('found',target)\n",
        "    return\n",
        "  else:\n",
        "    linear_search(arr,target,i+1)\n",
        "arr=[1,2,3,4,5,6,7]\n",
        "linear_search(arr,44,0)"
      ],
      "metadata": {
        "colab": {
          "base_uri": "https://localhost:8080/"
        },
        "id": "evNoN6E9XehN",
        "outputId": "c353106d-013a-45fd-b1d8-f5851dbaacc8"
      },
      "execution_count": null,
      "outputs": [
        {
          "output_type": "stream",
          "name": "stdout",
          "text": [
            "Not found\n"
          ]
        }
      ]
    },
    {
      "cell_type": "code",
      "source": [
        "def binary_search(arr,target,low,high):\n",
        "  if low>high:\n",
        "    print('not found')\n",
        "    return\n",
        "  mid=(low+high)//2\n",
        "  if arr[mid]==target:\n",
        "    print('found',target)\n",
        "    return\n",
        "  elif arr[mid]<target:\n",
        "    return binary_search(arr,target,mid+1,high)\n",
        "  elif arr[mid]>target:\n",
        "    return binary_search(arr,target,low,mid-1)\n",
        "arr=[1,2]\n",
        "l=0\n",
        "h=len(arr)-1\n",
        "binary_search(arr,1,l,h)"
      ],
      "metadata": {
        "colab": {
          "base_uri": "https://localhost:8080/"
        },
        "id": "g0cyOaiQbKWr",
        "outputId": "638ba3d1-19af-456f-a1c6-c6eeb001fea4"
      },
      "execution_count": null,
      "outputs": [
        {
          "output_type": "stream",
          "name": "stdout",
          "text": [
            "found 1\n"
          ]
        }
      ]
    },
    {
      "cell_type": "markdown",
      "source": [
        "# **sorting**"
      ],
      "metadata": {
        "id": "2yJ7kLLdvu8K"
      }
    },
    {
      "cell_type": "code",
      "source": [
        "def bubble_sort(arr):\n",
        "  for i in range(len(arr)-1):\n",
        "    for j in range(len(arr)-1-i):\n",
        "      if arr[j+1]<arr[j]:\n",
        "        arr[j],arr[j+1]=arr[j+1],arr[j]\n",
        "  return arr\n",
        "bubble_sort([2,49,59,3,4,541,3,312])"
      ],
      "metadata": {
        "colab": {
          "base_uri": "https://localhost:8080/"
        },
        "id": "WZwa69QhvycL",
        "outputId": "8cf204d3-fe55-4009-a86d-6bcce85627a6"
      },
      "execution_count": null,
      "outputs": [
        {
          "output_type": "execute_result",
          "data": {
            "text/plain": [
              "[2, 3, 3, 4, 49, 59, 312, 541]"
            ]
          },
          "metadata": {},
          "execution_count": 280
        }
      ]
    },
    {
      "cell_type": "code",
      "source": [
        "def insertion_sort(arr):\n",
        "  for i in range(len(arr)):\n",
        "    key=arr[i]\n",
        "    j=i-1\n",
        "    while j>=0 and key<arr[j]:\n",
        "      arr[j+1]=arr[j]\n",
        "      j-=1\n",
        "    arr[j+1]=key\n",
        "  return arr\n",
        "insertion_sort([2,49,59,3,4,541,3,312])"
      ],
      "metadata": {
        "colab": {
          "base_uri": "https://localhost:8080/"
        },
        "id": "4AUPvCunxVZ-",
        "outputId": "11f1c156-302c-43d5-f8b6-1ec5898eceef"
      },
      "execution_count": null,
      "outputs": [
        {
          "output_type": "execute_result",
          "data": {
            "text/plain": [
              "[2, 3, 3, 4, 49, 59, 312, 541]"
            ]
          },
          "metadata": {},
          "execution_count": 281
        }
      ]
    },
    {
      "cell_type": "code",
      "source": [
        "def selction_sort(arr):\n",
        "  for i in range(len(arr)):\n",
        "    minin=i\n",
        "    for j in range(i+1,len(arr)):\n",
        "      if arr[j]<arr[minin]:\n",
        "        minin=j\n",
        "    arr[i],arr[minin]=arr[minin],arr[i]\n",
        "  return arr\n",
        "selction_sort([2,49,59,3,4,541,3,312])"
      ],
      "metadata": {
        "colab": {
          "base_uri": "https://localhost:8080/"
        },
        "id": "6L0jMmNFz5SG",
        "outputId": "d7f67657-cd0c-4568-b0d7-c2ac82475b58"
      },
      "execution_count": null,
      "outputs": [
        {
          "output_type": "execute_result",
          "data": {
            "text/plain": [
              "[2, 3, 3, 4, 49, 59, 312, 541]"
            ]
          },
          "metadata": {},
          "execution_count": 282
        }
      ]
    },
    {
      "cell_type": "code",
      "source": [
        "def quick_sort(arr):\n",
        "  if len(arr)<=1:\n",
        "    return arr\n",
        "  pivot=arr[0]\n",
        "  left=[]\n",
        "  right=[]\n",
        "  for i in range(1,len(arr)):\n",
        "    if arr[i]<pivot:\n",
        "      left.append(arr[i])\n",
        "    else:\n",
        "      right.append(arr[i])\n",
        "  return quick_sort(left)+[pivot]+quick_sort(right)\n",
        "quick_sort([2,49,59,3,4,541,3,312])"
      ],
      "metadata": {
        "colab": {
          "base_uri": "https://localhost:8080/"
        },
        "id": "Fa4LtTr79lcw",
        "outputId": "a38dd7ca-2664-498c-8786-5aaec7739ee0"
      },
      "execution_count": null,
      "outputs": [
        {
          "output_type": "execute_result",
          "data": {
            "text/plain": [
              "[2, 3, 3, 4, 49, 59, 312, 541]"
            ]
          },
          "metadata": {},
          "execution_count": 283
        }
      ]
    },
    {
      "cell_type": "code",
      "source": [
        "def merge_sort(arr):\n",
        "  if len(arr)<=1:\n",
        "    return arr\n",
        "  mid=len(arr)//2\n",
        "  left=arr[:mid]\n",
        "  right=arr[mid:]\n",
        "  return merge(merge_sort(left),merge_sort(right))\n",
        "def merge(left,right):\n",
        "  l_index=0\n",
        "  r_index=0\n",
        "  m=[]\n",
        "  while l_index<len(left) and r_index<len(right):\n",
        "    if left[l_index]<right[r_index]:\n",
        "      m.append(left[l_index])\n",
        "      l_index+=1\n",
        "    else:\n",
        "      m.append(right[r_index])\n",
        "      r_index+=1\n",
        "  while l_index<len(left):\n",
        "    m.append(left[l_index])\n",
        "    l_index+=1\n",
        "  while r_index<len(right):\n",
        "    m.append(right[r_index])\n",
        "    r_index+=1\n",
        "  return m\n",
        "merge_sort([2,49,59,3,4,541,3,312])"
      ],
      "metadata": {
        "colab": {
          "base_uri": "https://localhost:8080/"
        },
        "id": "eHpK1r-73eLc",
        "outputId": "23feab2c-e897-4317-da15-ad1e0a3d49a3"
      },
      "execution_count": null,
      "outputs": [
        {
          "output_type": "execute_result",
          "data": {
            "text/plain": [
              "[2, 3, 3, 4, 49, 59, 312, 541]"
            ]
          },
          "metadata": {},
          "execution_count": 284
        }
      ]
    },
    {
      "cell_type": "code",
      "source": [
        "def counting_sort(arr):\n",
        "  max_val=max(arr)\n",
        "  count=[0]*(max_val+1)\n",
        "  output=[0]*len(arr)\n",
        "  for n in arr:\n",
        "    count[n]+=1\n",
        "  for i in range(1,len(count)):\n",
        "    count[i]+=count[i-1]\n",
        "  for n in reversed(arr):\n",
        "    output[count[n]-1]=n\n",
        "    count[n]-=1\n",
        "  return output\n",
        "counting_sort([1,1,1,1])"
      ],
      "metadata": {
        "colab": {
          "base_uri": "https://localhost:8080/"
        },
        "id": "N6LwLN1o-uJ8",
        "outputId": "6f714a1f-3c9c-4d99-ac79-a451e423f15a"
      },
      "execution_count": null,
      "outputs": [
        {
          "output_type": "execute_result",
          "data": {
            "text/plain": [
              "[1, 1, 1, 1]"
            ]
          },
          "metadata": {},
          "execution_count": 285
        }
      ]
    },
    {
      "cell_type": "code",
      "source": [
        "def radix(arr):\n",
        "  max_val=max(arr)\n",
        "  exp=1\n",
        "  while max_val//exp>0:\n",
        "    counting(arr,exp)\n",
        "    exp*=10\n",
        "\n",
        "def counting(arr,exp):\n",
        "  output=[0]*len(arr)\n",
        "  count=[0]*10\n",
        "  for i in range(len(arr)):\n",
        "    index=(arr[i]//exp)%10\n",
        "    count[index]+=1\n",
        "  for i in range(1,10):\n",
        "    count[i]+=count[i-1]\n",
        "  i=len(arr)-1\n",
        "  while i>=0:\n",
        "    index=(arr[i]//exp)%10\n",
        "    output[count[index]-1]=arr[i]\n",
        "    count[index]-=1\n",
        "    i-=1\n",
        "  for i in range(len(arr)):\n",
        "    arr[i]=output[i]\n",
        "b=[2,49,59,3,4,541,3,312]\n",
        "radix(b)\n",
        "print(b)"
      ],
      "metadata": {
        "colab": {
          "base_uri": "https://localhost:8080/"
        },
        "id": "0vpJ-wG5IIBt",
        "outputId": "d14d0dd9-f88f-4d97-cd03-e1fb800bb137"
      },
      "execution_count": null,
      "outputs": [
        {
          "output_type": "stream",
          "name": "stdout",
          "text": [
            "[2, 3, 3, 4, 49, 59, 312, 541]\n"
          ]
        }
      ]
    },
    {
      "cell_type": "markdown",
      "source": [
        "# **stack**"
      ],
      "metadata": {
        "id": "e35sC39jWWns"
      }
    },
    {
      "cell_type": "code",
      "source": [
        "class stack():\n",
        "  def __init__(self):\n",
        "    self.limit=5\n",
        "    self.items=[]\n",
        "  def push(self,x):\n",
        "    if len(self.items)==self.limit:\n",
        "      print('stack is full')\n",
        "    else:\n",
        "      self.items.append(x)\n",
        "  def pop(self):\n",
        "    if len(self.items)==0:\n",
        "      print('stack is empty')\n",
        "    else:\n",
        "      self.items.pop()\n",
        "  def isfull(self):\n",
        "    return len(self.items)==self.limit\n",
        "  def isempty(self):\n",
        "    return len(self.items)==0\n",
        "  def display(self):\n",
        "    print(self.items)\n",
        "\n",
        "s=stack()\n",
        "s.push(1)\n",
        "s.push(2)\n",
        "s.push(2)\n",
        "s.pop()\n",
        "s.display()\n",
        "s.isfull()"
      ],
      "metadata": {
        "colab": {
          "base_uri": "https://localhost:8080/"
        },
        "id": "LyR8-uQ2WUpm",
        "outputId": "9c69fc6b-db61-4c75-9681-d5843baf6670"
      },
      "execution_count": null,
      "outputs": [
        {
          "output_type": "stream",
          "name": "stdout",
          "text": [
            "[1, 2]\n"
          ]
        },
        {
          "output_type": "execute_result",
          "data": {
            "text/plain": [
              "False"
            ]
          },
          "metadata": {},
          "execution_count": 287
        }
      ]
    },
    {
      "cell_type": "code",
      "source": [
        "class stack_growable():\n",
        "  def __init__(self):\n",
        "    self.limit=5\n",
        "    self.items=[]\n",
        "  def push(self,x):\n",
        "    if len(self.items)==self.limit:\n",
        "      print('stack is full')\n",
        "    else:\n",
        "      self.items.append(x)\n",
        "  def pop(self):\n",
        "    if len(self.items)==0:\n",
        "      print('stack is empty')\n",
        "    else:\n",
        "      self.items.pop()\n",
        "  def peek(self):\n",
        "    print(self.items[-1])\n",
        "  def isfull(self):\n",
        "    return len(self.items)==self.limit\n",
        "  def isempty(self):\n",
        "    return len(self.items)==0\n",
        "  def size(self):\n",
        "    print(len(self.items))\n",
        "  def display(self):\n",
        "    print(self.items)\n",
        "\n",
        "s=stack_growable()\n",
        "s.push(1)\n",
        "s.push(2)\n",
        "s.peek()\n",
        "s.push(3)\n",
        "s.size()\n",
        "s.pop()\n",
        "s.display()"
      ],
      "metadata": {
        "colab": {
          "base_uri": "https://localhost:8080/"
        },
        "id": "M7kO-3v4Wsho",
        "outputId": "c16bc6fd-ed00-4b97-e339-36de0e688296"
      },
      "execution_count": null,
      "outputs": [
        {
          "output_type": "stream",
          "name": "stdout",
          "text": [
            "2\n",
            "3\n",
            "[1, 2]\n"
          ]
        }
      ]
    },
    {
      "cell_type": "code",
      "source": [
        "class stack_queue():\n",
        "  def __init__(self):\n",
        "    self.q1=[]\n",
        "    self.q2=[]\n",
        "  def push(self,x):\n",
        "    self.q2.append(x)\n",
        "    while self.q1:\n",
        "      self.q2.append(self.q1.pop(0))\n",
        "    self.q1,self.q2=self.q2,self.q1\n",
        "  def pop(self):\n",
        "    if len(self.q1)==0:\n",
        "      print('stack is empty')\n",
        "    else:\n",
        "      return self.q1.pop(0)\n",
        "  def display(self):\n",
        "    print(self.q1)\n",
        "s=stack_queue()\n",
        "s.push(1)\n",
        "s.push(2)\n",
        "s.display()\n",
        "s.pop()"
      ],
      "metadata": {
        "colab": {
          "base_uri": "https://localhost:8080/"
        },
        "id": "3YG_Q16XZ6Lq",
        "outputId": "ecc85a98-afc3-450f-e6b8-fa2194ba6334"
      },
      "execution_count": null,
      "outputs": [
        {
          "output_type": "stream",
          "name": "stdout",
          "text": [
            "[2, 1]\n"
          ]
        },
        {
          "output_type": "execute_result",
          "data": {
            "text/plain": [
              "2"
            ]
          },
          "metadata": {},
          "execution_count": 289
        }
      ]
    },
    {
      "cell_type": "code",
      "source": [
        "class stack_list():\n",
        "  def __init__(self):\n",
        "    self.items=[]\n",
        "  def push(self,x):\n",
        "    self.items.append(x)\n",
        "  def pop(self):\n",
        "    if len(self.items)==0:\n",
        "      print('stack is empty')\n",
        "    else:\n",
        "      self.items.pop()\n",
        "  def display(self):\n",
        "    print(self.items)\n",
        "s=stack_list()\n",
        "s.push(1)\n",
        "s.push(2)\n",
        "s.display()\n",
        "s.pop()"
      ],
      "metadata": {
        "colab": {
          "base_uri": "https://localhost:8080/"
        },
        "id": "0q0Jmxz5f9DC",
        "outputId": "d1fcc981-07fd-4c9b-b121-ccf05a2173cb"
      },
      "execution_count": null,
      "outputs": [
        {
          "output_type": "stream",
          "name": "stdout",
          "text": [
            "[1, 2]\n"
          ]
        }
      ]
    },
    {
      "cell_type": "code",
      "source": [
        "#stack using ll"
      ],
      "metadata": {
        "id": "Trfvcw9ogmBm"
      },
      "execution_count": null,
      "outputs": []
    },
    {
      "cell_type": "code",
      "source": [
        "def palindrome(exp):\n",
        "  stack=[]\n",
        "  for i in exp:\n",
        "    stack.append(i)\n",
        "    s1=stack[:]\n",
        "    s2=[]\n",
        "  for i in exp:\n",
        "    s2.append(stack.pop())\n",
        "  if s1==s2:\n",
        "    return 'palindrome'\n",
        "  else:\n",
        "    return 'not palindrome'\n",
        "exp='madam'\n",
        "print(palindrome(exp))"
      ],
      "metadata": {
        "colab": {
          "base_uri": "https://localhost:8080/"
        },
        "id": "KDt85Ex-pCkf",
        "outputId": "3761da4c-60aa-4683-da65-5958705b3e0a"
      },
      "execution_count": null,
      "outputs": [
        {
          "output_type": "stream",
          "name": "stdout",
          "text": [
            "palindrome\n"
          ]
        }
      ]
    },
    {
      "cell_type": "code",
      "source": [
        "def infix_post(exp):\n",
        "  pre={'+':1,'-':1,'*':2,'/':2,'^':3}\n",
        "  stack=[]\n",
        "  postfix=[]\n",
        "  def is_op(char):\n",
        "    return char in '+-*^/'\n",
        "  for char in exp:\n",
        "    if char.isalnum():\n",
        "      postfix.append(char)\n",
        "    elif char=='(':\n",
        "      stack.append(char)\n",
        "    elif char==')':\n",
        "      while len(stack)!=0 and stack[-1]!='(':\n",
        "        postfix.append(stack.pop())\n",
        "      stack.pop()\n",
        "    elif is_op(char):\n",
        "      while len(stack)!=0 and is_op(stack[-1]) and pre[char]<=pre[stack[-1]]:\n",
        "        postfix.append(stack.pop())\n",
        "      stack.append(char)\n",
        "  while len(stack)!=0:\n",
        "    postfix.append(stack.pop())\n",
        "  return \"\".join(postfix)\n",
        "exp = \"a+b*c-(d/e+f)*g\"\n",
        "print(\"Infix EXp : \",exp)\n",
        "print(\"Postfix exp : \",infix_post(exp))"
      ],
      "metadata": {
        "colab": {
          "base_uri": "https://localhost:8080/"
        },
        "id": "-KyaywxOnlqX",
        "outputId": "18040210-e7bc-40a1-ef44-791230131322"
      },
      "execution_count": null,
      "outputs": [
        {
          "output_type": "stream",
          "name": "stdout",
          "text": [
            "Infix EXp :  a+b*c-(d/e+f)*g\n",
            "Postfix exp :  abc*+de/f+g*-\n"
          ]
        }
      ]
    },
    {
      "cell_type": "code",
      "source": [
        "def post_eval(exp):\n",
        "  stack=[]\n",
        "  for char in exp:\n",
        "    if char.isdigit():\n",
        "      stack.append(int(char))\n",
        "    else:\n",
        "      val1=stack.pop()\n",
        "      val2=stack.pop()\n",
        "      if char=='+':\n",
        "        stack.append(val2+val1)\n",
        "      elif char=='-':\n",
        "        stack.append(val2-val1)\n",
        "      elif char=='*':\n",
        "        stack.append(val2*val1)\n",
        "      elif char=='/':\n",
        "        stack.append(val2/val1)\n",
        "      elif char=='^':\n",
        "        stack.append(val2**val1)\n",
        "  return stack[0]\n",
        "exp = \"567*+\"\n",
        "print(\"postfix Exp : \",exp)\n",
        "print(\"Final evalauted result : \",post_eval(exp))"
      ],
      "metadata": {
        "colab": {
          "base_uri": "https://localhost:8080/"
        },
        "id": "3Alu-p-Do8kY",
        "outputId": "d7f05c51-e2c3-4a37-92d1-b3aca5a01f9a"
      },
      "execution_count": null,
      "outputs": [
        {
          "output_type": "stream",
          "name": "stdout",
          "text": [
            "postfix Exp :  567*+\n",
            "Final evalauted result :  47\n"
          ]
        }
      ]
    },
    {
      "cell_type": "code",
      "source": [
        "def reverse(exp):\n",
        "  stack=[]\n",
        "  for i in exp:\n",
        "    stack.insert(0,i)\n",
        "  return ''.join(stack)\n",
        "exp='akshitha'\n",
        "reverse(exp)"
      ],
      "metadata": {
        "colab": {
          "base_uri": "https://localhost:8080/",
          "height": 35
        },
        "id": "BcBarGMBuPar",
        "outputId": "a004647b-9c8c-42d9-ff3c-cc6465b51c30"
      },
      "execution_count": null,
      "outputs": [
        {
          "output_type": "execute_result",
          "data": {
            "text/plain": [
              "'ahtihska'"
            ],
            "application/vnd.google.colaboratory.intrinsic+json": {
              "type": "string"
            }
          },
          "metadata": {},
          "execution_count": 295
        }
      ]
    },
    {
      "cell_type": "markdown",
      "source": [
        "# **queue**"
      ],
      "metadata": {
        "id": "l4BF9On1u2U6"
      }
    },
    {
      "cell_type": "code",
      "source": [
        "class queue():\n",
        "    def __init__(self, limit):\n",
        "        self.limit = limit\n",
        "        self.items = [None] * limit\n",
        "        self.front = self.rear = -1\n",
        "    def enqueue(self, x):\n",
        "        if self.rear == self.limit - 1:\n",
        "            print('Queue is full')\n",
        "        else:\n",
        "            if self.front == -1:\n",
        "                self.front = 0\n",
        "            self.rear += 1\n",
        "            self.items[self.rear] = x\n",
        "    def dequeue(self):\n",
        "        if self.front == -1 or self.front > self.rear:\n",
        "            print('Queue is empty')\n",
        "            return None\n",
        "        x = self.items[self.front]\n",
        "        for i in range(self.front, self.rear):\n",
        "            self.items[i] = self.items[i + 1]\n",
        "        self.items[self.rear] = None\n",
        "        self.rear -= 1\n",
        "        if self.rear < self.front:\n",
        "            self.front = self.rear = -1\n",
        "        return x\n",
        "\n",
        "queue = queue(5)\n",
        "queue.enqueue(10)\n",
        "queue.enqueue(20)\n",
        "print(\"Popped ele: \", queue.dequeue())\n",
        "print(\"Final queue: \", queue.items)"
      ],
      "metadata": {
        "colab": {
          "base_uri": "https://localhost:8080/"
        },
        "id": "rkyfFpY31tfk",
        "outputId": "e3fc5d53-5da7-4786-bf89-5fbe06554ada"
      },
      "execution_count": null,
      "outputs": [
        {
          "output_type": "stream",
          "name": "stdout",
          "text": [
            "Popped ele:  10\n",
            "Final queue:  [20, None, None, None, None]\n"
          ]
        }
      ]
    },
    {
      "cell_type": "code",
      "source": [
        "class queue_list():\n",
        "  def __init__(self):\n",
        "    self.items=[]\n",
        "  def enqueue(self,x):\n",
        "    self.items.append(x)\n",
        "  def dequeue(self):\n",
        "    if len(self.items)==0:\n",
        "      print('queue is empty')\n",
        "    else:\n",
        "      return self.items.pop(0)\n",
        "q=queue_list()\n",
        "q.enqueue(10)\n",
        "q.enqueue(20)\n",
        "q.enqueue(30)\n",
        "print(q.dequeue())\n",
        "print(f\"Final queue (List): {q.items}\")"
      ],
      "metadata": {
        "colab": {
          "base_uri": "https://localhost:8080/"
        },
        "id": "IlEmUvByaOJ_",
        "outputId": "f69e08cd-fc18-42ed-f70f-b60f34c159cf"
      },
      "execution_count": null,
      "outputs": [
        {
          "output_type": "stream",
          "name": "stdout",
          "text": [
            "10\n",
            "Final queue (List): [20, 30]\n"
          ]
        }
      ]
    },
    {
      "cell_type": "code",
      "source": [
        "from queue import LifoQueue,Queue,PriorityQueue\n",
        "from collections import deque\n",
        "print('LifoQueue')\n",
        "q1=LifoQueue()\n",
        "q1.put(10)\n",
        "q1.put(20)\n",
        "q1.get()\n",
        "print(q1.queue)\n",
        "print('Queue')\n",
        "q2=Queue()\n",
        "q2.put(10)\n",
        "q2.put(20)\n",
        "print(q2.get())\n",
        "print(q2.queue)\n",
        "print('priorityQueue')\n",
        "q3=PriorityQueue()\n",
        "q3.put(10)\n",
        "q3.put(20)\n",
        "print(q3.get())\n",
        "print(q3.queue)\n",
        "print('deQue')\n",
        "q4=deque()\n",
        "q4.append(10)\n",
        "q4.appendleft(20)\n",
        "q4.pop()\n",
        "print(q4)"
      ],
      "metadata": {
        "colab": {
          "base_uri": "https://localhost:8080/"
        },
        "id": "I0nokHFObOfa",
        "outputId": "a7a17516-c3aa-40de-c8b8-27a59bafda32"
      },
      "execution_count": null,
      "outputs": [
        {
          "output_type": "stream",
          "name": "stdout",
          "text": [
            "LifoQueue\n",
            "[10]\n",
            "Queue\n",
            "10\n",
            "deque([20])\n",
            "priorityQueue\n",
            "10\n",
            "[20]\n",
            "deQue\n",
            "deque([20])\n"
          ]
        }
      ]
    },
    {
      "cell_type": "code",
      "source": [
        "class queue_stack():\n",
        "  def __init__(self):\n",
        "    self.stack1=[]\n",
        "    self.stack2=[]\n",
        "  def enqueue(self,x):\n",
        "    self.stack1.append(x)\n",
        "  def dequeue(self):\n",
        "    if not self.stack1 and not self.stack2:\n",
        "      print('Queue is empty')\n",
        "      return None\n",
        "    if not self.stack2:\n",
        "      while self.stack1:\n",
        "        self.stack2.append(self.stack1.pop())\n",
        "    return self.stack2.pop()\n",
        "  def display(self):\n",
        "    return self.stack2\n",
        "queue = queue_stack()\n",
        "print(f\"Initial queue (Stack): {queue.stack1}\")\n",
        "queue.enqueue(10)\n",
        "queue.enqueue(20)\n",
        "queue.enqueue(30)\n",
        "print(queue.dequeue())\n",
        "print(queue.display())\n",
        "print(f\"Final queue (Stack): {queue.stack2}\")"
      ],
      "metadata": {
        "colab": {
          "base_uri": "https://localhost:8080/"
        },
        "id": "ufMepzC9eYDV",
        "outputId": "8f5d3453-9ce0-4758-9e25-6c935cf47c7e"
      },
      "execution_count": null,
      "outputs": [
        {
          "output_type": "stream",
          "name": "stdout",
          "text": [
            "Initial queue (Stack): []\n",
            "10\n",
            "[30, 20]\n",
            "Final queue (Stack): [30, 20]\n"
          ]
        }
      ]
    },
    {
      "cell_type": "code",
      "source": [
        "class priority_queue():\n",
        "  def __init__(self):\n",
        "    self.items=[]\n",
        "  def enqueue(self,x):\n",
        "    self.items.append(x)\n",
        "    self.items.sort()\n",
        "  def dequeue(self):\n",
        "    if len(self.items)==0:\n",
        "      print('queue is empty')\n",
        "      return None\n",
        "    return self.items.pop(0)\n",
        "pq = priority_queue()\n",
        "pq.enqueue(20)\n",
        "pq.enqueue(10)\n",
        "print(f\"Initial PriorityQueue: {pq.items}\")\n",
        "print(pq.dequeue())\n",
        "print(f\"Final PriorityQueue: {pq.items}\")"
      ],
      "metadata": {
        "colab": {
          "base_uri": "https://localhost:8080/"
        },
        "id": "rPvHlX5Mgg_k",
        "outputId": "c8c50aff-e149-47de-a350-211bcb347f6d"
      },
      "execution_count": null,
      "outputs": [
        {
          "output_type": "stream",
          "name": "stdout",
          "text": [
            "Initial PriorityQueue: [10, 20]\n",
            "10\n",
            "Final PriorityQueue: [20]\n"
          ]
        }
      ]
    },
    {
      "cell_type": "code",
      "source": [
        "class doubleendedqueue():\n",
        "  def __init__(self):\n",
        "    self.items=[]\n",
        "  def append(self,x):\n",
        "    self.items.append(x)\n",
        "  def appendleft(self,x):\n",
        "    self.items.insert(0,x)\n",
        "  def pop(self):\n",
        "    if len(self.items)==0:\n",
        "      print('queue is empty')\n",
        "    return self.items.pop()\n",
        "  def popleft(self):\n",
        "    if len(self.items)==0:\n",
        "      print('queue is empty')\n",
        "    return self.items.pop(0)\n",
        "dq = doubleendedqueue()\n",
        "dq.append(10)\n",
        "dq.appendleft(20)\n",
        "print(f\"Initial Deque: {dq.items}\")\n",
        "dq.pop()\n",
        "print(f\"Final Deque: {dq.items}\")"
      ],
      "metadata": {
        "colab": {
          "base_uri": "https://localhost:8080/"
        },
        "id": "coYK3ET_iIoF",
        "outputId": "f7bd0aa0-8fc6-43c7-dc54-37b89e4ba675"
      },
      "execution_count": null,
      "outputs": [
        {
          "output_type": "stream",
          "name": "stdout",
          "text": [
            "Initial Deque: [20, 10]\n",
            "Final Deque: [20]\n"
          ]
        }
      ]
    },
    {
      "cell_type": "code",
      "source": [
        "def interleave_queue(q):\n",
        "    size=len(q)//2\n",
        "    first_half=[]\n",
        "    for _ in range(size):\n",
        "      first_half.append(q.pop(0))\n",
        "    while first_half:\n",
        "      q.append(first_half.pop(0))\n",
        "      q.append(q.pop(0))\n",
        "queue = [1, 2, 3, 4, 5, 6, 7, 8]\n",
        "print(f\"Initial Queue: {queue}\")\n",
        "interleave_queue(queue)\n",
        "print(f\"Final Queue: {queue}\")"
      ],
      "metadata": {
        "colab": {
          "base_uri": "https://localhost:8080/"
        },
        "id": "6mrsshgVkY8F",
        "outputId": "275f50a9-7aee-4d9b-c330-e7e3bb81aaf4"
      },
      "execution_count": null,
      "outputs": [
        {
          "output_type": "stream",
          "name": "stdout",
          "text": [
            "Initial Queue: [1, 2, 3, 4, 5, 6, 7, 8]\n",
            "Final Queue: [1, 5, 2, 6, 3, 7, 4, 8]\n"
          ]
        }
      ]
    },
    {
      "cell_type": "code",
      "source": [
        "class CircularQueue:\n",
        "    def __init__(self, size):\n",
        "        self.size = size\n",
        "        self.queue = [None] * size\n",
        "        self.front = -1\n",
        "        self.rear = -1\n",
        "\n",
        "    def enqueue(self, data):\n",
        "        # Queue is full\n",
        "        if (self.rear + 1) % self.size == self.front:\n",
        "            print(\"Queue is Full\")\n",
        "            return\n",
        "\n",
        "        # First element\n",
        "        if self.front == -1:\n",
        "            self.front = 0\n",
        "            self.rear = 0\n",
        "            self.queue[self.rear] = data\n",
        "        else:\n",
        "            self.rear = (self.rear + 1) % self.size\n",
        "            self.queue[self.rear] = data\n",
        "\n",
        "    def dequeue(self):\n",
        "        # Queue is empty\n",
        "        if self.front == -1:\n",
        "            print(\"Queue is Empty\")\n",
        "            return\n",
        "\n",
        "        removed = self.queue[self.front]\n",
        "        # Only one element left\n",
        "        if self.front == self.rear:\n",
        "            self.front = -1\n",
        "            self.rear = -1\n",
        "        else:\n",
        "            self.front = (self.front + 1) % self.size\n",
        "        return removed\n",
        "\n",
        "    def Front(self):\n",
        "        if self.front == -1:\n",
        "            print(\"Queue is Empty\")\n",
        "            return None\n",
        "        return self.queue[self.front]\n",
        "\n",
        "    def Rear(self):\n",
        "        if self.rear == -1:\n",
        "            print(\"Queue is Empty\")\n",
        "            return None\n",
        "        return self.queue[self.rear]\n",
        "\n",
        "    def display(self):\n",
        "        if self.front == -1:\n",
        "            print(\"Queue is Empty\")\n",
        "            return\n",
        "\n",
        "        print(\"Queue elements:\")\n",
        "        i = self.front\n",
        "        while True:\n",
        "            print(self.queue[i], end=\" \")\n",
        "            if i == self.rear:\n",
        "                break\n",
        "            i = (i + 1) % self.size\n",
        "        print()\n",
        "q = CircularQueue(5)\n",
        "q.enqueue(10)\n",
        "q.enqueue(20)\n",
        "q.enqueue(30)\n",
        "q.enqueue(40)\n",
        "q.enqueue(50)  # Queue is Full (one space kept empty to avoid overlap)\n",
        "\n",
        "q.display()  # Output: 10 20 30 40\n",
        "\n",
        "print(\"Dequeued:\", q.dequeue())  # 10\n",
        "q.display()  # Output: 20 30 40 60\n"
      ],
      "metadata": {
        "colab": {
          "base_uri": "https://localhost:8080/"
        },
        "id": "enYlHiKrMV2V",
        "outputId": "7848667c-9be0-48e8-e9b7-567824187ee1"
      },
      "execution_count": null,
      "outputs": [
        {
          "output_type": "stream",
          "name": "stdout",
          "text": [
            "Queue elements:\n",
            "10 20 30 40 50 \n",
            "Dequeued: 10\n",
            "Queue elements:\n",
            "20 30 40 50 \n"
          ]
        }
      ]
    },
    {
      "cell_type": "markdown",
      "source": [
        "# **linked list**"
      ],
      "metadata": {
        "id": "UQgqGh3VvClb"
      }
    },
    {
      "cell_type": "code",
      "source": [
        "class node:\n",
        "    def __init__(self,data):\n",
        "        self.data=data\n",
        "        self.next=None\n",
        "class SLL:\n",
        "    def __init__(self):\n",
        "        self.head=None\n",
        "    def add_begin(self,data):\n",
        "        nn=node(data)\n",
        "        nn.next=self.head\n",
        "        self.head=nn\n",
        "    def add_end(self,data):\n",
        "        nn=node(data)\n",
        "        if self.head==None:\n",
        "            nn.next=self.head\n",
        "            self.head=nn\n",
        "        n=self.head\n",
        "        while n.next!=None:\n",
        "            n=n.next\n",
        "        n.next=nn\n",
        "    def add_middle(self,x,data):\n",
        "        nn=node(data)\n",
        "        if self.head==x:\n",
        "            nn.next=self.head\n",
        "            self.head=nn\n",
        "        n=self.head\n",
        "        while n!=None:\n",
        "            if x==n.data:\n",
        "                break\n",
        "            n=n.next\n",
        "        if n==None:\n",
        "            print(\"node not found\")\n",
        "            return\n",
        "        else:\n",
        "            nn.next=n.next\n",
        "            n.next=nn\n",
        "    def display(self):\n",
        "        n=self.head\n",
        "        while n!=None:\n",
        "            print(n.data,end=\"->\")\n",
        "            n=n.next\n",
        "    def delete_begin(self):\n",
        "        if self.head==None:\n",
        "            print('List is empty')\n",
        "        self.head=self.head.next\n",
        "    def delete_end(self):\n",
        "        if self.head==None:\n",
        "            print('List is empty')\n",
        "        n=self.head\n",
        "        while n.next.next!=None:\n",
        "            n=n.next\n",
        "        n.next=None\n",
        "    def delete_middle(self,x):\n",
        "        if self.head==None:\n",
        "            print('List is empty')\n",
        "        n=self.head\n",
        "        while n.next!=None:\n",
        "            if n.data==x:\n",
        "                break\n",
        "            n=n.next\n",
        "        if n.next==None:\n",
        "            print(\"node not found\")\n",
        "        else:\n",
        "            n.next=n.next.next\n",
        "\n",
        "\n",
        "s=SLL()\n",
        "s.add_begin(10)\n",
        "s.add_end(30)\n",
        "s.add_end(60)\n",
        "s.add_end(70)\n",
        "s.add_end(80)\n",
        "s.add_middle(10,20)\n",
        "s.display()\n",
        "print(' ')\n",
        "s.delete_begin()\n",
        "s.delete_end()\n",
        "s.delete_middle(60)\n",
        "s.display()\n"
      ],
      "metadata": {
        "colab": {
          "base_uri": "https://localhost:8080/"
        },
        "id": "TeArz58Clqpj",
        "outputId": "1c61da37-f41f-4f78-c10a-c8eed39f58af"
      },
      "execution_count": null,
      "outputs": [
        {
          "output_type": "stream",
          "name": "stdout",
          "text": [
            "10->20->30->60->70->80-> \n",
            "20->30->60->"
          ]
        }
      ]
    },
    {
      "cell_type": "code",
      "source": [
        "class Node:\n",
        "    def __init__(self, data):\n",
        "        self.data = data\n",
        "        self.next = None  # Pointer to the next node\n",
        "        self.prev = None  # Pointer to the previous node\n",
        "\n",
        "class DLL:\n",
        "    def __init__(self):\n",
        "        self.head = None\n",
        "\n",
        "    def add_begin(self, data):\n",
        "        new_node = Node(data)\n",
        "        new_node.next = self.head\n",
        "        if self.head != None:\n",
        "            self.head.prev = new_node\n",
        "        self.head = new_node\n",
        "\n",
        "    def add_end(self, data):\n",
        "        new_node = Node(data)\n",
        "        if self.head ==None:\n",
        "            self.head = new_node\n",
        "        n = self.head\n",
        "        while n.next != None:\n",
        "            n = n.next\n",
        "        n.next = new_node\n",
        "        new_node.prev = n\n",
        "\n",
        "    def add_in(self, data, x):\n",
        "        n = self.head\n",
        "        while n != None:\n",
        "            if x == n.data:\n",
        "                break\n",
        "            n = n.next\n",
        "        if n == None:\n",
        "            print(\"Node not found\")\n",
        "        else:\n",
        "            new_node = Node(data)\n",
        "            new_node.next = n.next\n",
        "            new_node.prev = n\n",
        "            if n.next != None:\n",
        "                n.next.prev = new_node\n",
        "            n.next = new_node\n",
        "\n",
        "    def delete_begin(self):\n",
        "        if self.head == None:\n",
        "            print(\"Cannot delete\")\n",
        "        self.head = self.head.next\n",
        "        if self.head != None:\n",
        "            self.head.prev = None\n",
        "\n",
        "    def delete_end(self):\n",
        "        if self.head == None:\n",
        "            print(\"Cannot delete\")\n",
        "        n = self.head\n",
        "        while n.next != None:\n",
        "            n = n.next\n",
        "        if n.prev != None:\n",
        "            n.prev.next = None\n",
        "        else:  # If there was only one node\n",
        "            self.head = None\n",
        "\n",
        "    def delete_value(self, x):\n",
        "        if self.head == None:\n",
        "            print(\"List is empty\")\n",
        "            return\n",
        "\n",
        "        if x == self.head.data:  # Deleting the head node\n",
        "            self.delete_begin()\n",
        "            return\n",
        "\n",
        "        n = self.head\n",
        "        while n != None:\n",
        "            if n.data == x:\n",
        "                break\n",
        "            n = n.next\n",
        "\n",
        "        if n == None:\n",
        "            print(\"Node not found\")\n",
        "        else:\n",
        "            if n.next != None:  # Node to be deleted != the last node\n",
        "                n.next.prev = n.prev\n",
        "\n",
        "            if n.prev != None:  # Node to be deleted != the first node\n",
        "                n.prev.next = n.next\n",
        "\n",
        "    def print_list(self):\n",
        "        n = self.head\n",
        "        while n:\n",
        "            print(n.data)\n",
        "            n = n.next\n",
        "    def print_list_back(self):\n",
        "        n = self.head\n",
        "        while n.next!=None:\n",
        "            n=n.next\n",
        "        while n!=None:\n",
        "            print(n.data)\n",
        "            n = n.prev\n",
        "\n",
        "# Example usage\n",
        "dlist = DLL()\n",
        "dlist.add_begin(1)\n",
        "dlist.add_end(2)\n",
        "dlist.add_begin(4)\n",
        "dlist.add_end(15)\n",
        "dlist.add_end(6)\n",
        "dlist.add_in(3, 2)  # Insert 3 after 2\n",
        "dlist.delete_begin()  # Delete the first element (4)\n",
        "dlist.delete_end()    # Delete the last element (5)\n",
        "dlist.delete_value(2) # Delete value 2\n",
        "dlist.print_list()\n",
        "print(' ')\n",
        "dlist.print_list_back()  # Print remaining elements in the list"
      ],
      "metadata": {
        "id": "YUJ3y7sVIE76",
        "colab": {
          "base_uri": "https://localhost:8080/"
        },
        "outputId": "0a9b1c8c-7f89-4410-83f0-c205ee4543e5"
      },
      "execution_count": null,
      "outputs": [
        {
          "output_type": "stream",
          "name": "stdout",
          "text": [
            "1\n",
            "3\n",
            "15\n",
            " \n",
            "15\n",
            "3\n",
            "1\n"
          ]
        }
      ]
    },
    {
      "cell_type": "code",
      "source": [
        "class Node:\n",
        "    def __init__(self, data):\n",
        "        self.data = data\n",
        "        self.next = None\n",
        "\n",
        "class CircularSinglyLinkedList:\n",
        "    def __init__(self):\n",
        "        self.head = None\n",
        "\n",
        "    # Append at end\n",
        "    def append(self, data):\n",
        "        new_node = Node(data)\n",
        "        if not self.head:\n",
        "            self.head = new_node\n",
        "            new_node.next = self.head\n",
        "        else:\n",
        "            temp = self.head\n",
        "            while temp.next != self.head:\n",
        "                temp = temp.next\n",
        "            temp.next = new_node\n",
        "            new_node.next = self.head\n",
        "\n",
        "    # Delete a node by value\n",
        "    def delete(self, key):\n",
        "        if not self.head:\n",
        "            print(\"List is empty.\")\n",
        "            return\n",
        "\n",
        "        curr = self.head\n",
        "        if curr.data == key:\n",
        "            if curr.next == self.head:\n",
        "                self.head = None\n",
        "            else:\n",
        "                temp = self.head\n",
        "                while temp.next != self.head:\n",
        "                    temp = temp.next\n",
        "                temp.next = curr.next\n",
        "                self.head = curr.next\n",
        "            return\n",
        "        prev = None\n",
        "        while curr.next != self.head:\n",
        "            prev = curr\n",
        "            curr = curr.next\n",
        "            if curr.data == key:\n",
        "                prev.next = curr.next\n",
        "                return\n",
        "        if curr.data == key:\n",
        "            prev.next = curr.next\n",
        "        else:\n",
        "            print(\"Node not found.\")\n",
        "\n",
        "    # Display\n",
        "    def display(self):\n",
        "        if not self.head:\n",
        "            print(\"List is empty.\")\n",
        "            return\n",
        "        temp = self.head\n",
        "        while True:\n",
        "            print(temp.data, end=\" -> \")\n",
        "            temp = temp.next\n",
        "            if temp == self.head:\n",
        "                break\n",
        "        print(\"(back to head)\")\n",
        "\n",
        "# Example usage:\n",
        "csll = CircularSinglyLinkedList()\n",
        "csll.append(10)\n",
        "csll.append(20)\n",
        "csll.append(30)\n",
        "csll.display()       # 10 -> 20 -> 30 -> (back to head)\n",
        "csll.delete(20)\n",
        "csll.display()       # 10 -> 30 -> (back to head)"
      ],
      "metadata": {
        "id": "1WeRcBNQIFon",
        "colab": {
          "base_uri": "https://localhost:8080/"
        },
        "outputId": "4e9a39ed-6fe7-4b50-bd17-d4e9b93be119"
      },
      "execution_count": null,
      "outputs": [
        {
          "output_type": "stream",
          "name": "stdout",
          "text": [
            "10 -> 20 -> 30 -> (back to head)\n",
            "10 -> 30 -> (back to head)\n"
          ]
        }
      ]
    },
    {
      "cell_type": "code",
      "source": [
        "class node:\n",
        "    def __init__(self,val):\n",
        "        self.val=val\n",
        "        self.next=None\n",
        "        self.prev=None\n",
        "class SLL:\n",
        "    def __init__(self):\n",
        "        self.head=None\n",
        "    def append(self,data):\n",
        "        nn=node(data)\n",
        "        if self.head==None:\n",
        "            self.head=nn\n",
        "            nn.next=self.head\n",
        "            return\n",
        "        n=self.head\n",
        "        while n.next!=self.head:\n",
        "            n=n.next\n",
        "        n.next=nn\n",
        "        nn.next=self.head\n",
        "    def delete(self,x):\n",
        "        if self.head==None:\n",
        "            print('node is empty')\n",
        "            return\n",
        "        n=self.head\n",
        "        if n.val==x:\n",
        "            if n.next==self.head:\n",
        "                self.head=None\n",
        "            else:\n",
        "                m=self.head\n",
        "                while m.next!=self.head:\n",
        "                    m=m.next\n",
        "                m.next=n.next\n",
        "                self.head=n.next\n",
        "            return\n",
        "        prev=None\n",
        "        while n.next!=self.head:\n",
        "            if n.next.val==x:\n",
        "                prev=n\n",
        "                n=n.next\n",
        "                if n.val==x:\n",
        "                    prev.next=n.next\n",
        "                    return\n",
        "        if n.val==x:\n",
        "            prev.next=n.next\n",
        "        else:\n",
        "            print('node not found')\n",
        "    def delete(self, key):\n",
        "        if not self.head:\n",
        "            print(\"List is empty.\")\n",
        "            return\n",
        "\n",
        "        curr = self.head\n",
        "        if curr.val == key:\n",
        "            if curr.next == self.head:\n",
        "                self.head = None\n",
        "            else:\n",
        "                temp = self.head\n",
        "                while temp.next != self.head:\n",
        "                    temp = temp.next\n",
        "                temp.next = curr.next\n",
        "                self.head = curr.next\n",
        "            return\n",
        "        prev = None\n",
        "        while curr.next != self.head:\n",
        "            prev = curr\n",
        "            curr = curr.next\n",
        "            if curr.val == key:\n",
        "                prev.next = curr.next\n",
        "                return\n",
        "        if curr.data == key:\n",
        "            prev.next = curr.next\n",
        "        else:\n",
        "            print(\"Node not found.\")\n",
        "    def display(self):\n",
        "        if not self.head:\n",
        "            print(\"List is empty.\")\n",
        "            return\n",
        "        n=self.head\n",
        "        while True:\n",
        "            print(n.val,end=' ')\n",
        "            n=n.next\n",
        "            if n==self.head:\n",
        "                break\n",
        "    def display_rev(self):\n",
        "        return\n",
        "\n",
        "s=SLL()\n",
        "s.append(10)\n",
        "s.append(20)\n",
        "s.append(30)\n",
        "s.append(40)\n",
        "s.append(50)\n",
        "s.append(60)\n",
        "s.display()\n",
        "print(' ')\n",
        "s.delete(60)\n",
        "s.delete(30)\n",
        "s.delete(10)\n",
        "s.display()\n",
        "print(' ')\n",
        "s.display_rev()\n"
      ],
      "metadata": {
        "colab": {
          "base_uri": "https://localhost:8080/"
        },
        "id": "DvIxHj_AH7R4",
        "outputId": "0c32bacc-30be-4a47-f667-fe58496d057d"
      },
      "execution_count": null,
      "outputs": [
        {
          "output_type": "stream",
          "name": "stdout",
          "text": [
            "10 20 30 40 50 60  \n",
            "20 40 50  \n"
          ]
        }
      ]
    },
    {
      "cell_type": "code",
      "source": [
        "class Node:\n",
        "    def __init__(self, data):\n",
        "        self.data = data\n",
        "        self.prev = None\n",
        "        self.next = None\n",
        "\n",
        "class CircularDoublyLinkedList:\n",
        "    def __init__(self):\n",
        "        self.head = None\n",
        "\n",
        "    # Append at end\n",
        "    def append(self, data):\n",
        "        new_node = Node(data)\n",
        "        if not self.head:\n",
        "            self.head = new_node\n",
        "            new_node.next = new_node\n",
        "            new_node.prev = new_node\n",
        "        else:\n",
        "            tail = self.head.prev\n",
        "            tail.next = new_node\n",
        "            new_node.prev = tail\n",
        "            new_node.next = self.head\n",
        "            self.head.prev = new_node\n",
        "\n",
        "    # Delete node by value\n",
        "    def delete(self, key):\n",
        "        if not self.head:\n",
        "            print(\"List is empty.\")\n",
        "            return\n",
        "\n",
        "        curr = self.head\n",
        "\n",
        "        # If head is the only node\n",
        "        if curr.data == key and curr.next == self.head:\n",
        "            self.head = None\n",
        "            return\n",
        "\n",
        "        # If head is to be deleted\n",
        "        if curr.data == key:\n",
        "            tail = self.head.prev\n",
        "            self.head = curr.next\n",
        "            self.head.prev = tail\n",
        "            tail.next = self.head\n",
        "            return\n",
        "\n",
        "        curr = curr.next\n",
        "        while curr != self.head:\n",
        "            if curr.data == key:\n",
        "                curr.prev.next = curr.next\n",
        "                curr.next.prev = curr.prev\n",
        "                return\n",
        "            curr = curr.next\n",
        "\n",
        "        print(\"Node not found.\")\n",
        "\n",
        "    # Display the list\n",
        "    def display(self):\n",
        "        if not self.head:\n",
        "            print(\"List is empty.\")\n",
        "            return\n",
        "        curr = self.head\n",
        "        while True:\n",
        "            print(curr.data, end=\" <-> \")\n",
        "            curr = curr.next\n",
        "            if curr == self.head:\n",
        "                break\n",
        "        print(\"(back to head)\")\n",
        "    def display_rev(self):\n",
        "        n=self.head.prev\n",
        "        m=n\n",
        "        while True:\n",
        "            print(n.data,end=' <-> ')\n",
        "            n=n.prev\n",
        "            if n==m:\n",
        "                break\n",
        "\n",
        "# Example usage:\n",
        "cdll = CircularDoublyLinkedList()\n",
        "cdll.append(10)\n",
        "cdll.append(20)\n",
        "cdll.append(30)\n",
        "cdll.append(40)\n",
        "cdll.append(50)\n",
        "cdll.append(60)\n",
        "cdll.display()       # 10 <-> 20 <-> 30 <-> (back to head)\n",
        "cdll.delete(20)\n",
        "cdll.delete(40)\n",
        "cdll.display()       # 10 <-> 30 <-> (back to head)\n",
        "cdll.display_rev()"
      ],
      "metadata": {
        "id": "y-N2Ko-0IJgm",
        "colab": {
          "base_uri": "https://localhost:8080/"
        },
        "outputId": "51823f73-dc94-47d6-fabb-7eb399c2d2a1"
      },
      "execution_count": null,
      "outputs": [
        {
          "output_type": "stream",
          "name": "stdout",
          "text": [
            "10 <-> 20 <-> 30 <-> 40 <-> 50 <-> 60 <-> (back to head)\n",
            "10 <-> 30 <-> 50 <-> 60 <-> (back to head)\n",
            "60 <-> 50 <-> 30 <-> 10 <-> "
          ]
        }
      ]
    },
    {
      "cell_type": "code",
      "source": [
        "#all stack\n",
        "class node:\n",
        "  def __init__(self,data):\n",
        "    self.data=data\n",
        "    self.next=None\n",
        "class stack:\n",
        "  def __init__(self):\n",
        "    self.top=None\n",
        "  def display(self):\n",
        "    if self.top==None:\n",
        "      print('empty')\n",
        "    else:\n",
        "      n=self.top\n",
        "      while n!=None:\n",
        "        print(n.data)\n",
        "        n=n.next\n",
        "  def push(self,data):\n",
        "    nn=node(data)\n",
        "    nn.next=self.top\n",
        "    self.top=nn\n",
        "  def pop(self):\n",
        "    if self.top==None:\n",
        "      print('empty')\n",
        "    else:\n",
        "      print(self.top.data,'is poped')\n",
        "      self.top=self.top.next\n",
        "\n",
        "l=stack()\n",
        "l.push(1)\n",
        "l.push(2)\n",
        "l.push(3)\n",
        "l.pop()"
      ],
      "metadata": {
        "id": "JQQ_I5pKIMBK",
        "colab": {
          "base_uri": "https://localhost:8080/"
        },
        "outputId": "13a430b5-72e6-4856-dfde-a1723ff524e4"
      },
      "execution_count": null,
      "outputs": [
        {
          "output_type": "stream",
          "name": "stdout",
          "text": [
            "3 is poped\n"
          ]
        }
      ]
    },
    {
      "cell_type": "code",
      "source": [
        "(1,1)+(1,1)"
      ],
      "metadata": {
        "colab": {
          "base_uri": "https://localhost:8080/"
        },
        "id": "27w-LqNNgciV",
        "outputId": "d0eadfc9-b155-4d9c-d639-f04e44539556"
      },
      "execution_count": null,
      "outputs": [
        {
          "output_type": "execute_result",
          "data": {
            "text/plain": [
              "(1, 1, 1, 1)"
            ]
          },
          "metadata": {},
          "execution_count": 310
        }
      ]
    },
    {
      "cell_type": "code",
      "source": [
        "class Node:\n",
        "    def __init__(self, value):\n",
        "        self.value = value\n",
        "        self.next = None\n",
        "\n",
        "class QueueLinkedList:\n",
        "    def __init__(self):\n",
        "        self.front = None\n",
        "        self.rear = None\n",
        "\n",
        "    def is_empty(self):\n",
        "        return self.front is None\n",
        "\n",
        "    def enqueue(self, value):\n",
        "        new_node = Node(value)\n",
        "        if self.rear:\n",
        "            self.rear.next = new_node\n",
        "        self.rear = new_node\n",
        "        if not self.front:\n",
        "            self.front = new_node\n",
        "\n",
        "    def dequeue(self):\n",
        "        if self.is_empty():\n",
        "            print(\"Queue is empty\")\n",
        "            return None\n",
        "        value = self.front.value\n",
        "        self.front = self.front.next\n",
        "        if not self.front:\n",
        "            self.rear = None\n",
        "        return value\n",
        "\n",
        "# Example usage\n",
        "queue = QueueLinkedList()\n",
        "queue.enqueue(10)\n",
        "queue.enqueue(20)\n",
        "print(queue.dequeue())"
      ],
      "metadata": {
        "id": "xT9yO_82IQP_",
        "colab": {
          "base_uri": "https://localhost:8080/"
        },
        "outputId": "087a8e70-2001-43e2-83ed-2b99da21b0f5"
      },
      "execution_count": null,
      "outputs": [
        {
          "output_type": "stream",
          "name": "stdout",
          "text": [
            "10\n"
          ]
        }
      ]
    },
    {
      "cell_type": "markdown",
      "source": [
        "# **trees**"
      ],
      "metadata": {
        "id": "42BDWLZYCDgv"
      }
    },
    {
      "cell_type": "code",
      "source": [
        "class node():\n",
        "  def __init__(self,data):\n",
        "    self.data=data\n",
        "    self.left=None\n",
        "    self.right=None\n",
        "class binary_tree():\n",
        "  def __init__(self):\n",
        "    self.root=None\n",
        "  def insert(self,data):\n",
        "    if not self.root:\n",
        "      self.root=node(data)\n",
        "    else:\n",
        "      queue=[self.root]\n",
        "      while queue:\n",
        "        current=queue.pop()\n",
        "        if not current.left:\n",
        "          current.left=node(data)\n",
        "          return\n",
        "        elif not current.right:\n",
        "          current.right=node(data)\n",
        "          return\n",
        "        else:\n",
        "          queue.append(current.left)\n",
        "          queue.append(current.right)\n",
        "  def search(self,data):\n",
        "    if not self.root:\n",
        "      return False\n",
        "    else:\n",
        "      queue=[self.root]\n",
        "      current=queue.pop()\n",
        "      if current.data==data:\n",
        "        print('found',data)\n",
        "      elif current.left:\n",
        "        queue.append(current.left)\n",
        "      elif current.right:\n",
        "        queue.append(current.right)\n",
        "    return False\n",
        "  def find_height(self,node):\n",
        "    if not node:\n",
        "      return -1\n",
        "    return 1 + max(self.find_height(node.left),self.find_height(node.right))\n",
        "  def count_leaf(self,node):\n",
        "    if not node:\n",
        "      return 0\n",
        "    if not node.left and not node.right:\n",
        "      return 1\n",
        "    return self.count_leaf(node.left)+self.count_leaf(node.right)\n",
        "  def count_node(self,node):\n",
        "    if not node:\n",
        "      return 0\n",
        "    return 1+self.count_node(node.left)+self.count_node(node.right)\n",
        "  def sum_kth_level(self,node,level,k):\n",
        "    if not node:\n",
        "      return 0\n",
        "    if level==k:\n",
        "      return node.data\n",
        "    return self.sum_kth_level(node.left,level+1,k)+ self.sum_kth_level(node.right,level+1,k)\n",
        "  def in_order(self,node):\n",
        "    if node:\n",
        "      self.in_order(node.left)\n",
        "      print(node.data,end='->')\n",
        "      self.in_order(node.right)\n",
        "  def pre_order(self,node):\n",
        "    if node:\n",
        "      print(node.data,end='->')\n",
        "      self.pre_order(node.left)\n",
        "      self.pre_order(node.right)\n",
        "  def post_order(self,node):\n",
        "    if node:\n",
        "      self.post_order(node.left)\n",
        "      self.post_order(node.right)\n",
        "      print(node.data,end='->')\n",
        "bt = binary_tree()\n",
        "bt.insert(10)\n",
        "bt.insert(20)\n",
        "bt.insert(30)\n",
        "bt.insert(40)\n",
        "bt.insert(50)\n",
        "bt.search(20)\n",
        "print(\"Inorder Traversal:\")\n",
        "bt.in_order(bt.root)\n",
        "print(\"\\nHeight of Tree:\", bt.find_height(bt.root))\n",
        "print(\"Leaf Nodes Count:\", bt.count_leaf(bt.root))\n",
        "print(\"Total Nodes Count:\", bt.count_node(bt.root))\n",
        "print(\"Sum of Nodes at Level 2:\", bt.sum_kth_level(bt.root, 0, 2))"
      ],
      "metadata": {
        "colab": {
          "base_uri": "https://localhost:8080/"
        },
        "id": "0vBs69rqCFMy",
        "outputId": "3f01a759-aa89-4e69-baf8-7c50aaccabb8"
      },
      "execution_count": null,
      "outputs": [
        {
          "output_type": "stream",
          "name": "stdout",
          "text": [
            "Inorder Traversal:\n",
            "20->10->40->30->50->\n",
            "Height of Tree: 2\n",
            "Leaf Nodes Count: 3\n",
            "Total Nodes Count: 5\n",
            "Sum of Nodes at Level 2: 90\n"
          ]
        }
      ]
    },
    {
      "cell_type": "code",
      "source": [
        "class node():\n",
        "  def __init__(self,data):\n",
        "    self.data=data\n",
        "    self.left=None\n",
        "    self.right=None\n",
        "class BST():\n",
        "  def __init__(self):\n",
        "    self.root=None\n",
        "  def insert(self,data):\n",
        "    current=self.root\n",
        "    if not self.root:\n",
        "      self.root=node(data)\n",
        "      return\n",
        "    while True:\n",
        "      if data<current.data:\n",
        "        if not current.left:\n",
        "          current.left=node(data)\n",
        "          break\n",
        "        current=current.left\n",
        "      else:\n",
        "        if not current.right:\n",
        "          current.right=node(data)\n",
        "          break\n",
        "        current=current.right\n",
        "  def search(self,data):\n",
        "    current=self.root\n",
        "    while current:\n",
        "      if data==current.data:\n",
        "        return True\n",
        "      elif data<current.data:\n",
        "        current=current.left\n",
        "      else:\n",
        "        current=current.right\n",
        "    return False\n",
        "  def delete(self,data):\n",
        "    current=self.root\n",
        "    parent=None\n",
        "    while current and current.data!=data:\n",
        "      parent=current\n",
        "      if data<current.data:\n",
        "        current=current.left\n",
        "      else:\n",
        "        current=current.right\n",
        "    if not current:\n",
        "      return None\n",
        "    if not current.left:\n",
        "      if parent==None:\n",
        "        self.root=current.right\n",
        "      elif parent.left==current:\n",
        "        parent.left=current.right\n",
        "      else:\n",
        "        parent.right=current.right\n",
        "    if not current.right:\n",
        "      if parent==None:\n",
        "        self.root=current.left\n",
        "      elif parent.left==current:\n",
        "        parent.left=current.left\n",
        "      else:\n",
        "        parent.right=current.left\n",
        "    else:\n",
        "      min_val=self.find_min(current.right)\n",
        "      current.data=min_val.data\n",
        "      self.delete(current.right,min_val.data)\n",
        "  def find_min(self,node):\n",
        "    current=node\n",
        "    while current.left:\n",
        "      curren=current.left\n",
        "    return current\n",
        "  def in_order(self,node):\n",
        "    if node:\n",
        "      self.in_order(node.left)\n",
        "      print(node.data,end='->')\n",
        "      self.in_order(node.right)\n",
        "  def pre_order(self,node):\n",
        "    if node:\n",
        "      print(node.data,end='->')\n",
        "      self.pre_order(node.left)\n",
        "      self.pre_order(node.right)\n",
        "  def post_order(self,node):\n",
        "    if node:\n",
        "      self.post_order(node.left)\n",
        "      self.post_order(node.right)\n",
        "      print(node.data,end='->')\n",
        "\n",
        "root = BST()\n",
        "root.insert(10)\n",
        "root.insert(5)\n",
        "root.insert(15)\n",
        "root.insert(7)\n",
        "\n",
        "# Search\n",
        "print(\"Search 7:\", root.search(7))  # Output: True\n",
        "print(\"Search 20:\", root.search(20))  # Output: False\n",
        "\n",
        "# Deleting a node\n",
        "root.delete(15)\n",
        "print(\"Inorder:\", end=' ')\n",
        "root.in_order(root.root)  # Output: 7 10 15\n",
        "print(\"\\nPreorder:\", end=' ')\n",
        "root.pre_order(root.root)  # Output: 10 7 15\n",
        "print(\"\\nPostorder:\", end=' ')\n",
        "root.post_order(root.root)  # Output: 7 15 10"
      ],
      "metadata": {
        "colab": {
          "base_uri": "https://localhost:8080/"
        },
        "id": "46XVBkMOI4-n",
        "outputId": "e2ea6012-7d96-4941-992e-a4ad3416ceee"
      },
      "execution_count": null,
      "outputs": [
        {
          "output_type": "stream",
          "name": "stdout",
          "text": [
            "Search 7: True\n",
            "Search 20: False\n",
            "Inorder: 5->7->10->\n",
            "Preorder: 10->5->7->\n",
            "Postorder: 7->5->10->"
          ]
        }
      ]
    },
    {
      "cell_type": "code",
      "source": [
        "class node():\n",
        "  def __init__(self,data):\n",
        "    self.data=data\n",
        "    self.left=None\n",
        "    self.right=None\n",
        "    self.height=1\n",
        "class AVL():\n",
        "  def __init__(self):\n",
        "    self.root=None\n",
        "  def insert(self,root,data):\n",
        "    if not root:\n",
        "      return node(data)\n",
        "    if data<root.data:\n",
        "      root.left=self.insert(root.left,data)\n",
        "    else:\n",
        "      root.right=self.insert(root.right,data)\n",
        "    root.height=1+max(self.get_height(root.left),self.get_height(root.right))\n",
        "    return self.balance(root)\n",
        "  def get_height(self,node):\n",
        "    if node:\n",
        "      return node.height\n",
        "    else:\n",
        "      return 0\n",
        "  def get_balance(self,node):\n",
        "    if node:\n",
        "      return self.get_height(node.left)-self.get_height(node.right)\n",
        "    else:\n",
        "      return 0\n",
        "  def balance(self,node):\n",
        "    balance_factor=self.get_balance(node)\n",
        "    if balance_factor>1 and self.get_balance(node.left)>=0:\n",
        "      return self.right_rotate(node)\n",
        "    if balance_factor>1 and self.get_balance(node.left)<0:\n",
        "      node.left=self.left_rotate(node.left)\n",
        "      return self.right_rotate(node)\n",
        "    if balance_factor<-1 and self.get_balance(node.right)<=0:\n",
        "      return self.left_rotate(node)\n",
        "    if balance_factor<-1 and self.get_balance(node.right)>0:\n",
        "      node.right=self.right_rotate(node.right)\n",
        "      return self.left_rotate(node)\n",
        "    return node\n",
        "  def left_rotate(self,z):\n",
        "    y=z.right\n",
        "    t2=y.left\n",
        "    y.left=z\n",
        "    z.right=t2\n",
        "    z.height=1+max(self.get_height(z.left),self.get_height(z.right))\n",
        "    y.height=1+max(self.get_height(y.left),self.get_height(y.right))\n",
        "    return y\n",
        "  def right_rotate(self,z):\n",
        "    y=z.left\n",
        "    t2=y.right\n",
        "    y.right=z\n",
        "    z.left=t2\n",
        "    z.height=1+max(self.get_height(z.left),self.get_height(z.right))\n",
        "    y.height=1+max(self.get_height(y.left),self.get_height(y.right))\n",
        "    return y\n",
        "  def delete(self,root,data):\n",
        "    if not root:\n",
        "      return root\n",
        "    if data<root.data:\n",
        "      root.left=self.delete(root.left,data)\n",
        "    elif data>root.data:\n",
        "      root.right=self.delete(root.right,data)\n",
        "    else:\n",
        "      if not root.left:\n",
        "        return root.right\n",
        "      elif not root.right:\n",
        "        return root.left\n",
        "      temp=self.get_min(root.right)\n",
        "      root.data=temp.data\n",
        "      root.right=self.delete(root.right,temp.data)\n",
        "    return self.balance(root)\n",
        "  def get_min(self,node):\n",
        "    current=node\n",
        "    while current.left!=None:\n",
        "      current=current.left\n",
        "    return current\n",
        "  def in_order(self,root):\n",
        "    if root:\n",
        "      self.in_order(root.left)\n",
        "      print(root.data,end='->')\n",
        "      self.in_order(root.right)\n",
        "  def pre_order(self,node):\n",
        "    if node:\n",
        "      print(node.data,end='->')\n",
        "      self.pre_order(node.left)\n",
        "      self.pre_order(node.right)\n",
        "  def post_order(self,node):\n",
        "    if node:\n",
        "      self.post_order(node.left)\n",
        "      self.post_order(node.right)\n",
        "      print(node.data,end='->')\n",
        "\n",
        "avl = AVL()\n",
        "root = None\n",
        "\n",
        "# Insert elements\n",
        "root = avl.insert(root, 10)\n",
        "root = avl.insert(root, 20)\n",
        "root = avl.insert(root, 30)\n",
        "root = avl.insert(root, 40)\n",
        "root = avl.insert(root, 50)\n",
        "root = avl.insert(root, 25)\n",
        "\n",
        "print(\"Inorder Traversal of AVL Tree after Insertions:\")\n",
        "avl.in_order(root)\n",
        "print()\n",
        "\n",
        "# Delete an element\n",
        "root = avl.delete(root, 40)\n",
        "print(\"Inorder Traversal of AVL Tree after Deletion:\")\n",
        "avl.in_order(root)\n",
        "print()\n"
      ],
      "metadata": {
        "colab": {
          "base_uri": "https://localhost:8080/"
        },
        "id": "FvcU-pzCmHWw",
        "outputId": "65ddcd2c-1a55-4b90-e373-85fbcd5415e4"
      },
      "execution_count": null,
      "outputs": [
        {
          "output_type": "stream",
          "name": "stdout",
          "text": [
            "Inorder Traversal of AVL Tree after Insertions:\n",
            "10->20->25->30->40->50->\n",
            "Inorder Traversal of AVL Tree after Deletion:\n",
            "10->20->25->30->50->\n"
          ]
        }
      ]
    },
    {
      "cell_type": "markdown",
      "source": [
        "# **hashing**"
      ],
      "metadata": {
        "id": "6Z63GqUGw5uh"
      }
    },
    {
      "cell_type": "code",
      "source": [
        "class modulo_hash():\n",
        "  def __init__(self,size):\n",
        "    self.size=size\n",
        "    self.table=[None]*self.size\n",
        "  def hash(self,key):\n",
        "    return key%self.size\n",
        "  def insert(self,key,value):\n",
        "    index=self.hash(key)\n",
        "    self.table[index]=value\n",
        "# Example usage\n",
        "hash_table = modulo_hash(10)\n",
        "hash_table.insert(10, \"Value1\")\n",
        "hash_table.insert(25, \"Value2\")\n",
        "print(hash_table.table)\n",
        "hash_table.insert(30, \"Value3\")\n",
        "print(hash_table.table)"
      ],
      "metadata": {
        "colab": {
          "base_uri": "https://localhost:8080/"
        },
        "id": "49FMo8sjnaZx",
        "outputId": "60aab533-aceb-479a-8993-c4ba8f8e15be"
      },
      "execution_count": null,
      "outputs": [
        {
          "output_type": "stream",
          "name": "stdout",
          "text": [
            "['Value1', None, None, None, None, 'Value2', None, None, None, None]\n",
            "['Value3', None, None, None, None, 'Value2', None, None, None, None]\n"
          ]
        }
      ]
    },
    {
      "cell_type": "code",
      "source": [
        "class middlesq():\n",
        "  def __init__(self,size):\n",
        "    self.size=size\n",
        "    self.table=[None]*size\n",
        "  def hash(self,key):\n",
        "    squared=key*key\n",
        "    middle_digits=int(str(squared)[len(str(squared))//2])\n",
        "    return middle_digits%self.size\n",
        "  def insert(self,key,value):\n",
        "    index=self.hash(key)\n",
        "    self.table[index]=value\n",
        "# Example usage\n",
        "hash_table = middlesq(10)\n",
        "hash_table.insert(23, \"Value1\")\n",
        "hash_table.insert(42, \"Value2\")\n",
        "print(hash_table.table)"
      ],
      "metadata": {
        "colab": {
          "base_uri": "https://localhost:8080/"
        },
        "id": "8_gwzgTJyHZP",
        "outputId": "013acae9-0d68-4af9-d7d0-b402afd4c243"
      },
      "execution_count": null,
      "outputs": [
        {
          "output_type": "stream",
          "name": "stdout",
          "text": [
            "[None, None, 'Value1', None, None, None, 'Value2', None, None, None]\n"
          ]
        }
      ]
    },
    {
      "cell_type": "code",
      "source": [
        "class folding_hash():\n",
        "  def __init__(self,size):\n",
        "    self.size=size\n",
        "    self.table=[None]*size\n",
        "  def hash(self,key):\n",
        "    key_str=str(key)\n",
        "    parts=[int(key_str[i:i+1]) for i in range(0,len(key_str),2)]\n",
        "    sum_parts=sum(parts)\n",
        "    return sum_parts%self.size\n",
        "  def insert(self,key,value):\n",
        "    index=self.hash(key)\n",
        "    self.table[index]=value\n",
        "# Example usage\n",
        "hash_table = folding_hash(10)\n",
        "hash_table.insert(1234, \"Value1\")\n",
        "hash_table.insert(5678, \"Value2\")\n",
        "print(hash_table.table)"
      ],
      "metadata": {
        "colab": {
          "base_uri": "https://localhost:8080/"
        },
        "id": "EDSc8DbL1fUp",
        "outputId": "3344d664-b8f2-4bc4-c12e-6e1507829dfb"
      },
      "execution_count": null,
      "outputs": [
        {
          "output_type": "stream",
          "name": "stdout",
          "text": [
            "[None, None, 'Value2', None, 'Value1', None, None, None, None, None]\n"
          ]
        }
      ]
    },
    {
      "cell_type": "code",
      "source": [
        "class node():\n",
        "  def __init__(self,key,value):\n",
        "    self.key=key\n",
        "    self.value=value\n",
        "    self.next=None\n",
        "class SeparateChainingHash():\n",
        "  def __init__(self,size):\n",
        "    self.size=size\n",
        "    self.table=[None]*size\n",
        "  def hash(self,key):\n",
        "    return key%self.size\n",
        "  def insert(self,key,value):\n",
        "    index=self.hash(key)\n",
        "    if self.table[index]==None:\n",
        "      self.table[index]=node(key, value)\n",
        "    else:\n",
        "      current=self.table[index]\n",
        "      while current.next:\n",
        "        curent=current.next\n",
        "      current.next=node(key,value)\n",
        "  def display(self):\n",
        "    for i,node in enumerate(self.table):\n",
        "      print(f'index {i}: ',end='')\n",
        "      current=node\n",
        "      chain=[]\n",
        "      while current:\n",
        "        chain.append(current.value)\n",
        "        current=current.next\n",
        "      print('->'.join(chain) if chain else 'None')\n",
        "# Example usage\n",
        "hash_table = SeparateChainingHash(10)\n",
        "hash_table.insert(5, \"Value1\")\n",
        "hash_table.insert(5, \"Value3\")\n",
        "hash_table.insert(20, \"Value2\")\n",
        "hash_table.display()"
      ],
      "metadata": {
        "colab": {
          "base_uri": "https://localhost:8080/"
        },
        "id": "0E0a3uC42erD",
        "outputId": "0ee2928b-fef4-4a4f-de96-44214ef5d4f5"
      },
      "execution_count": null,
      "outputs": [
        {
          "output_type": "stream",
          "name": "stdout",
          "text": [
            "index 0: Value2\n",
            "index 1: None\n",
            "index 2: None\n",
            "index 3: None\n",
            "index 4: None\n",
            "index 5: Value1->Value3\n",
            "index 6: None\n",
            "index 7: None\n",
            "index 8: None\n",
            "index 9: None\n"
          ]
        }
      ]
    },
    {
      "cell_type": "code",
      "source": [
        "class linear_prob():\n",
        "  def __init__(self,size):\n",
        "    self.size=size\n",
        "    self.table=[None]*size\n",
        "  def hash(self,key):\n",
        "    return key%self.size\n",
        "  def insert(self,key,value):\n",
        "    index=self.hash(key)\n",
        "    if self.table[index]!=None:\n",
        "      index=(index+1)%self.size\n",
        "    self.table[index]=value\n",
        "# Example usage\n",
        "hash_table = linear_prob(10)\n",
        "hash_table.insert(5, \"Value1\")\n",
        "hash_table.insert(15, \"Value2\")\n",
        "print(hash_table.table)"
      ],
      "metadata": {
        "colab": {
          "base_uri": "https://localhost:8080/"
        },
        "id": "Z06SUajJ-Ep9",
        "outputId": "ad3cdec4-6233-4a57-8f6e-90c47d61404a"
      },
      "execution_count": null,
      "outputs": [
        {
          "output_type": "stream",
          "name": "stdout",
          "text": [
            "[None, None, None, None, None, 'Value1', 'Value2', None, None, None]\n"
          ]
        }
      ]
    },
    {
      "cell_type": "code",
      "source": [
        "class quad_prob():\n",
        "  def __init__(self,size):\n",
        "    self.size=size\n",
        "    self.table=[None]*size\n",
        "  def hash(self,key):\n",
        "    return key%self.size\n",
        "  def insert(self,key,value):\n",
        "    index=self.hash(key)\n",
        "    i=0\n",
        "    while self.table[index]!=None:\n",
        "      index=(index+i*i)%self.size\n",
        "      i+=1\n",
        "    self.table[index]=value\n",
        "# Example usage\n",
        "hash_table = quad_prob(10)\n",
        "hash_table.insert(5, \"Value1\")\n",
        "hash_table.insert(15, \"Value2\")\n",
        "print(hash_table.table)"
      ],
      "metadata": {
        "colab": {
          "base_uri": "https://localhost:8080/"
        },
        "id": "eS3v1M4Y-1G_",
        "outputId": "b5879284-63b1-4afe-ce3c-aa597a4e8705"
      },
      "execution_count": null,
      "outputs": [
        {
          "output_type": "stream",
          "name": "stdout",
          "text": [
            "[None, None, None, None, None, 'Value1', 'Value2', None, None, None]\n"
          ]
        }
      ]
    },
    {
      "cell_type": "code",
      "source": [
        "class double_hash():\n",
        "  def __init__(self,size):\n",
        "    self.size=size\n",
        "    self.table=[None]*size\n",
        "  def hash1(self,key):\n",
        "    return key%self.size\n",
        "  def hash2(self,key):\n",
        "    return 1+key%(self.size-1)\n",
        "  def insert(self,key,value):\n",
        "    index=self.hash1(key)\n",
        "    step=self.hash2(key)\n",
        "    while self.table[index]!=None:\n",
        "      index=(index+step)%self.size\n",
        "    self.table[index]=value\n",
        "# Example usage\n",
        "hash_table = double_hash(10)\n",
        "hash_table.insert(5, \"Value1\")\n",
        "hash_table.insert(15, \"Value2\")\n",
        "print(hash_table.table)"
      ],
      "metadata": {
        "colab": {
          "base_uri": "https://localhost:8080/"
        },
        "id": "XxjYJKTh_nWW",
        "outputId": "d2fa735c-b30b-4f86-9c63-d7696abd3684"
      },
      "execution_count": null,
      "outputs": [
        {
          "output_type": "stream",
          "name": "stdout",
          "text": [
            "[None, None, 'Value2', None, None, 'Value1', None, None, None, None]\n"
          ]
        }
      ]
    },
    {
      "cell_type": "code",
      "source": [
        "def count_freq(arr):\n",
        "  hash_table={}\n",
        "  for n in arr:\n",
        "    if n in hash_table:\n",
        "      hash_table[n]+=1\n",
        "    else:\n",
        "      hash_table[n]=1\n",
        "  return hash_table\n",
        "arr = [1, 2, 2,2, 3, 30, 3,3]\n",
        "print(count_freq(arr))"
      ],
      "metadata": {
        "colab": {
          "base_uri": "https://localhost:8080/"
        },
        "id": "t05E6lrJBudX",
        "outputId": "fbc16e97-f589-4a46-8149-3ad8598801e5"
      },
      "execution_count": null,
      "outputs": [
        {
          "output_type": "stream",
          "name": "stdout",
          "text": [
            "{1: 1, 2: 3, 3: 3, 30: 1}\n"
          ]
        }
      ]
    },
    {
      "cell_type": "markdown",
      "source": [
        "# **priority queue**"
      ],
      "metadata": {
        "id": "6Z_V2Y2rpWM2"
      }
    },
    {
      "cell_type": "code",
      "source": [
        "import heapq\n",
        "class priority_queue():\n",
        "  def __init__(self):\n",
        "    self.items=[]\n",
        "  def insert(self,item,priority):\n",
        "    heapq.heappush(self.items,(priority,item))\n",
        "  def delete(self):\n",
        "    if self.items:\n",
        "      return heapq.heappop(self.items)[1]\n",
        "    return None\n",
        "q=priority_queue()\n",
        "q.insert('task1',3)\n",
        "q.insert('task2',1)\n",
        "q.insert('task3',2)\n",
        "q.delete()\n",
        "print(q.items)"
      ],
      "metadata": {
        "colab": {
          "base_uri": "https://localhost:8080/"
        },
        "id": "zrbR0sLtpZkt",
        "outputId": "a0b6fa8b-054f-409d-8d94-f09d0337edd3"
      },
      "execution_count": null,
      "outputs": [
        {
          "output_type": "stream",
          "name": "stdout",
          "text": [
            "[(2, 'task3'), (3, 'task1')]\n"
          ]
        }
      ]
    },
    {
      "cell_type": "code",
      "source": [
        "class custom_pq():\n",
        "  def __init__(self):\n",
        "    self.items=[]\n",
        "  def hepify_up(self,index):\n",
        "    parent_index=(index-1)//2\n",
        "    if index>0 and self.items[index][0]< self.items[parent_index][0]:\n",
        "      self.items[index],self.items[parent_index]=self.items[parent_index],self.items[index]\n",
        "      self.hepify_up(parent_index)\n",
        "  def hepify_down(self,index):\n",
        "    smallest=index\n",
        "    left=2*index+1\n",
        "    right=2*index+2\n",
        "    if left<len(self.items) and self.items[left][0]<self.items[smallest][0]:\n",
        "      smallest=left\n",
        "    if right<len(self.items) and self.items[right][0]<self.items[smallest][0]:\n",
        "      smallest=right\n",
        "    if smallest!=index:\n",
        "      self.items[index],self.items[smallest]=self.items[smallest],self.items[index]\n",
        "  def insert(self,priority,item):\n",
        "    self.items.append((priority,item))\n",
        "    self.hepify_up(len(self.items)-1)\n",
        "  def delete(self):\n",
        "    if not self.items:\n",
        "      return None\n",
        "    if len(self.items)==1:\n",
        "      return self.items.pop()[1]\n",
        "    root=self.items[0]\n",
        "    self.items[0]=self.items.pop()\n",
        "    self.hepify_down(len(self.items)-1)\n",
        "    return root[1]\n",
        "custom_pq = custom_pq()\n",
        "custom_pq.insert(3, \"Task C\")\n",
        "custom_pq.insert(1, \"Task A\")\n",
        "custom_pq.insert(2, \"Task B\")\n",
        "custom_pq.delete()\n",
        "print(custom_pq.items)"
      ],
      "metadata": {
        "id": "i-DmclRCufhc",
        "colab": {
          "base_uri": "https://localhost:8080/"
        },
        "outputId": "f08841bc-58a5-43fa-8f44-275ee4f7bc39"
      },
      "execution_count": null,
      "outputs": [
        {
          "output_type": "stream",
          "name": "stdout",
          "text": [
            "[(2, 'Task B'), (3, 'Task C')]\n"
          ]
        }
      ]
    },
    {
      "cell_type": "markdown",
      "source": [
        "# **heap**"
      ],
      "metadata": {
        "id": "iFXfsWgQzRJ-"
      }
    },
    {
      "cell_type": "code",
      "source": [
        "def heapify(a,n,i):\n",
        "  largest=i\n",
        "  left=2*i+1\n",
        "  right=2*i+2\n",
        "  if left<n and a[left]>a[largest]:\n",
        "    largest=left\n",
        "  if right<n and a[right]>a[largest]:\n",
        "    largest=right\n",
        "  if largest!=i:\n",
        "    a[i],a[largest]=a[largest],a[i]\n",
        "    heapify(a,n,largest)\n",
        "def heap_sort(a):\n",
        "  n=len(a)\n",
        "  for i in range(n//2,-1,-1):\n",
        "    heapify(a,n,i)\n",
        "  for i in range(n-1,0,-1):\n",
        "    a[i],a[0]=a[0],a[i]\n",
        "    heapify(a,i,0)\n",
        "arr = [12, 11, 13, 5, 6, 7]\n",
        "heap_sort(arr)\n",
        "print(\"Sorted array:\", arr)"
      ],
      "metadata": {
        "colab": {
          "base_uri": "https://localhost:8080/"
        },
        "id": "EpIrKqeC0pt_",
        "outputId": "575b4e9b-e96f-4338-d489-0087c414e956"
      },
      "execution_count": null,
      "outputs": [
        {
          "output_type": "stream",
          "name": "stdout",
          "text": [
            "Sorted array: [5, 6, 7, 11, 12, 13]\n"
          ]
        }
      ]
    },
    {
      "cell_type": "code",
      "source": [
        "class MinHeap:\n",
        "    def __init__(self):\n",
        "        self.items = []                    # root is items[0]\n",
        "\n",
        "    # ---------- public API ----------\n",
        "    def push(self, x):\n",
        "        \"\"\"Insert a value and restore heap property (bubble-up).\"\"\"\n",
        "        self.items.append(x)\n",
        "        self._heapify_up(len(self.items) - 1)\n",
        "\n",
        "    def pop(self):\n",
        "        \"\"\"Remove & return smallest value; O(log n).  Returns None if empty.\"\"\"\n",
        "        if not self.items:\n",
        "            return None\n",
        "        if len(self.items) == 1:           # single element\n",
        "            return self.items.pop()\n",
        "\n",
        "        root = self.items[0]\n",
        "        self.items[0] = self.items.pop()   # move last item to root\n",
        "        self._heapify_down(0)              # push it down\n",
        "        return root\n",
        "\n",
        "    # ---------- internal helpers ----------\n",
        "    def _heapify_up(self, idx):\n",
        "        while idx > 0:\n",
        "            parent = (idx - 1) // 2\n",
        "            if self.items[idx] >= self.items[parent]:\n",
        "                break\n",
        "            # swap with parent\n",
        "            self.items[idx], self.items[parent] = self.items[parent], self.items[idx]\n",
        "            idx = parent\n",
        "\n",
        "    def _heapify_down(self, idx):\n",
        "        n = len(self.items)\n",
        "        while True:\n",
        "            left  = 2 * idx + 1\n",
        "            right = 2 * idx + 2\n",
        "            smallest = idx\n",
        "\n",
        "            if left < n and self.items[left] < self.items[smallest]:\n",
        "                smallest = left\n",
        "            if right < n and self.items[right] < self.items[smallest]:\n",
        "                smallest = right\n",
        "            if smallest == idx:\n",
        "                break\n",
        "\n",
        "            # swap with smaller child\n",
        "            self.items[idx], self.items[smallest] = self.items[smallest], self.items[idx]\n",
        "            idx = smallest\n",
        "h = MinHeap()\n",
        "h.push(5)\n",
        "h.push(1)\n",
        "h.push(3)\n",
        "\n",
        "print(h.pop())  # 1\n",
        "print(h.pop())  # 3\n",
        "print(h.pop())  # 5\n",
        "print(h.pop())  # None\n"
      ],
      "metadata": {
        "colab": {
          "base_uri": "https://localhost:8080/"
        },
        "id": "aKLH7i4J39G5",
        "outputId": "ed89b1c9-8878-483d-a435-28a8b998b44c"
      },
      "execution_count": null,
      "outputs": [
        {
          "output_type": "stream",
          "name": "stdout",
          "text": [
            "1\n",
            "3\n",
            "5\n",
            "None\n"
          ]
        }
      ]
    },
    {
      "cell_type": "markdown",
      "source": [
        "# **graphs**"
      ],
      "metadata": {
        "id": "ASoEcwWq8LzM"
      }
    },
    {
      "cell_type": "code",
      "source": [
        "def bfs(graph,start,visited=None):\n",
        "  visited=set()\n",
        "  queue=[start]\n",
        "  visited.add(start)\n",
        "  while queue:\n",
        "    vertex=queue.pop(0)\n",
        "    print(vertex,end=' ')\n",
        "    for neighbour in graph[vertex]:\n",
        "      if neighbour not in visited:\n",
        "        queue.append(neighbour)\n",
        "        visited.add(neighbour)\n",
        "graph = {\n",
        "    'A': ['B', 'C'],\n",
        "    'B': ['F'],\n",
        "    'C': ['D', 'E'],\n",
        "    'D': [],\n",
        "    'E': ['F'],\n",
        "    'F': []\n",
        "}\n",
        "\n",
        "print(\"BFS traversal:\")\n",
        "bfs(graph, 'A')"
      ],
      "metadata": {
        "id": "NkupUH9aAyAp",
        "colab": {
          "base_uri": "https://localhost:8080/"
        },
        "outputId": "bd4cce21-3992-4bcf-e5e5-ee55860ba519"
      },
      "execution_count": null,
      "outputs": [
        {
          "output_type": "stream",
          "name": "stdout",
          "text": [
            "BFS traversal:\n",
            "A B C F D E "
          ]
        }
      ]
    },
    {
      "cell_type": "code",
      "source": [
        "def dfs(graph,start,visited=None):\n",
        "  if visited==None:\n",
        "    visited=set()\n",
        "  visited.add(start)\n",
        "  print(start,end=' ')\n",
        "  for neighbour in graph[start]:\n",
        "    if neighbour not in visited:\n",
        "      dfs(graph,neighbour,visited)\n",
        "graph = {\n",
        "    'A': ['B', 'C'],\n",
        "    'B': ['D', 'E'],\n",
        "    'C': ['F'],\n",
        "    'D': [],\n",
        "    'E': ['F'],\n",
        "    'F': []\n",
        "}\n",
        "print(\"DFS traversal:\")\n",
        "dfs(graph, 'A')"
      ],
      "metadata": {
        "id": "HFlfs3yY8Qvy",
        "colab": {
          "base_uri": "https://localhost:8080/"
        },
        "outputId": "87d0e13f-426f-4d7e-892b-955bf135feda"
      },
      "execution_count": null,
      "outputs": [
        {
          "output_type": "stream",
          "name": "stdout",
          "text": [
            "DFS traversal:\n",
            "A B D E F C "
          ]
        }
      ]
    },
    {
      "cell_type": "code",
      "source": [
        "def detect_cycle(graph):\n",
        "  visited=set()\n",
        "  stack=set()\n",
        "  def dfs(node):\n",
        "    if node not in visited:\n",
        "      visited.add(node)\n",
        "      stack.add(node)\n",
        "\n",
        "      for neighbour in graph[node]:\n",
        "        if neighbour not in visited and dfs(neighbour):\n",
        "          return True\n",
        "        if neighbour in stack:\n",
        "          return True\n",
        "      stack.remove(node)\n",
        "    return False\n",
        "  for node in graph:\n",
        "    if node in stack:\n",
        "      return True\n",
        "  return False\n",
        "\n",
        "graph_with_cycle = {\n",
        "    'A': ['B'],\n",
        "    'B': ['C'],\n",
        "    'C': ['A']\n",
        "}\n",
        "\n",
        "graph_without_cycle = {\n",
        "    'A': ['B'],\n",
        "    'B': ['C'],\n",
        "    'C': []\n",
        "}\n",
        "\n",
        "print(\"\\nCycle detection in graph with cycle:\")\n",
        "print(detect_cycle(graph_with_cycle))  # Output: True\n",
        "\n",
        "print(\"\\nCycle detection in graph without cycle:\")\n",
        "print(detect_cycle(graph_without_cycle))  # Output: False\n"
      ],
      "metadata": {
        "id": "NlMflUjVCL1B",
        "colab": {
          "base_uri": "https://localhost:8080/"
        },
        "outputId": "1b0616c3-eb73-4dc5-8bd7-cc458e4eac9d"
      },
      "execution_count": null,
      "outputs": [
        {
          "output_type": "stream",
          "name": "stdout",
          "text": [
            "\n",
            "Cycle detection in graph with cycle:\n",
            "False\n",
            "\n",
            "Cycle detection in graph without cycle:\n",
            "False\n"
          ]
        }
      ]
    },
    {
      "cell_type": "code",
      "source": [
        "import sys\n",
        "def dijakstra(graph,start):\n",
        "  distances={node:sys.maxsize for node in graph}\n",
        "  distances[start]=0\n",
        "  visited=set()\n",
        "  while len(visited)<len(graph):\n",
        "    min_node = None\n",
        "    for node in graph:\n",
        "      if node not in visited:\n",
        "        if min_node is None or distances[node]<distances[min_node]:\n",
        "          min_node=node\n",
        "    visited.add(min_node)\n",
        "    for neighbour,weight in graph[min_node].items():\n",
        "      new_distance=distances[neighbour]+weight\n",
        "      if new_distance<distances[neighbour]:\n",
        "        distances[neighbour]=new_distance\n",
        "  return distances\n",
        "graph = {\n",
        "    'A': {'B': 1, 'C': 4},\n",
        "    'B': {'C': 2, 'D': 5},\n",
        "    'C': {'D': 1},\n",
        "    'D': {}\n",
        "}\n",
        "\n",
        "print(\"\\nDijkstra's shortest paths from A:\")\n",
        "print(dijakstra(graph, 'A'))"
      ],
      "metadata": {
        "id": "pB5rZ68xE7zb",
        "colab": {
          "base_uri": "https://localhost:8080/"
        },
        "outputId": "dccca1cd-af83-4374-e609-cd706c6a36bb"
      },
      "execution_count": null,
      "outputs": [
        {
          "output_type": "stream",
          "name": "stdout",
          "text": [
            "\n",
            "Dijkstra's shortest paths from A:\n",
            "{'A': 0, 'B': 9223372036854775807, 'C': 9223372036854775807, 'D': 9223372036854775807}\n"
          ]
        }
      ]
    },
    {
      "cell_type": "markdown",
      "source": [
        "# **Dynammic Programming**"
      ],
      "metadata": {
        "id": "4iBGwBC9u3pQ"
      }
    },
    {
      "cell_type": "code",
      "source": [
        "#0/1 knapsack\n",
        "\n",
        "def knapsack(wt,val,cap,n):\n",
        "  if n==0 or cap==0:\n",
        "    return 0\n",
        "  if wt[n-1]<=cap:\n",
        "    return max(val[n-1]+knapsack(wt,val,cap-wt[n-1],n-1),knapsack(wt,val,cap,n-1))\n",
        "  else:\n",
        "    return knapsack(wt,val,cap,n-1)\n",
        "\n",
        "wt=[1,2,3]\n",
        "val=[4,5,1]\n",
        "cap=4\n",
        "n=len(wt)\n",
        "print(knapsack(wt,val,cap,n))"
      ],
      "metadata": {
        "colab": {
          "base_uri": "https://localhost:8080/"
        },
        "id": "SB3jFBIdu5zz",
        "outputId": "ffbf18e9-5e67-4f80-8818-c59a8199439c"
      },
      "execution_count": null,
      "outputs": [
        {
          "output_type": "stream",
          "name": "stdout",
          "text": [
            "9\n"
          ]
        }
      ]
    },
    {
      "cell_type": "code",
      "source": [
        "#0/1 knapsack - memo\n",
        "\n",
        "def knapsack(wt,val,cap,n,memo):\n",
        "  if n==0 or cap==0:\n",
        "    return 0\n",
        "  if (n,cap) in memo:\n",
        "    return memo[(n,cap)]\n",
        "  if wt[n-1]<=cap:\n",
        "    memo[(n,cap)]=max(val[n-1]+knapsack(wt,val,cap-wt[n-1],n-1,memo),knapsack(wt,val,cap,n-1,memo))\n",
        "  else:\n",
        "    memo[(n,cap)]=knapsack(wt,val,cap,n-1,memo)\n",
        "  return memo[(n,cap)]\n",
        "\n",
        "wt=[1,2,3]\n",
        "val=[4,5,1]\n",
        "cap=4\n",
        "memo={}\n",
        "n=len(wt)\n",
        "print(knapsack(wt,val,cap,n,memo))"
      ],
      "metadata": {
        "colab": {
          "base_uri": "https://localhost:8080/"
        },
        "id": "nLB3LCgUxkno",
        "outputId": "d5fd1ce7-708e-47e9-87ce-c0dc662a1cce"
      },
      "execution_count": null,
      "outputs": [
        {
          "output_type": "stream",
          "name": "stdout",
          "text": [
            "9\n"
          ]
        }
      ]
    },
    {
      "cell_type": "code",
      "source": [
        "#0/1 knapsack - top-down\n",
        "\n",
        "def knapsack(wt,val,cap):\n",
        "  n=len(wt)\n",
        "  memo={}\n",
        "  def helper(n,cap):\n",
        "    if n==0 or cap==0:\n",
        "      return 0\n",
        "    if (n,cap) in memo:\n",
        "      return memo[(n,cap)]\n",
        "    if wt[n-1]<=cap:\n",
        "      memo[(n,cap)]=max(val[n-1]+helper(n-1,cap-wt[n-1]),helper(n-1,cap))\n",
        "    else:\n",
        "      memo[(n,cap)]=helper(n-1,cap)\n",
        "    return memo[(n,cap)]\n",
        "  return helper(n,cap)\n",
        "\n",
        "wt=[1,2,3]\n",
        "val=[4,5,1]\n",
        "cap=4\n",
        "memo={}\n",
        "n=len(wt)\n",
        "print(knapsack(wt,val,cap))"
      ],
      "metadata": {
        "colab": {
          "base_uri": "https://localhost:8080/"
        },
        "id": "T3XlZIbb3tnJ",
        "outputId": "1c5771ac-fd66-4af8-88f9-e66dba627b75"
      },
      "execution_count": null,
      "outputs": [
        {
          "output_type": "stream",
          "name": "stdout",
          "text": [
            "9\n"
          ]
        }
      ]
    },
    {
      "cell_type": "code",
      "source": [
        "#0/1 subset sum\n",
        "\n",
        "def knapsack(wt,cap):\n",
        "  n=len(wt)\n",
        "  memo={}\n",
        "  def helper(n,cap):\n",
        "    if cap==0:\n",
        "      return True\n",
        "    if n==0:\n",
        "      return False\n",
        "    if (n,cap) in memo:\n",
        "      return memo[(n,cap)]\n",
        "    if wt[n-1]<=cap:\n",
        "      memo[(n,cap)]=helper(n-1,cap-wt[n-1]) or helper(n-1,cap)\n",
        "    else:\n",
        "      memo[(n,cap)]=helper(n-1,cap)\n",
        "    return memo[(n,cap)]\n",
        "  return helper(n,cap)\n",
        "\n",
        "arr = [3, 34, 4, 12, 5, 2]\n",
        "target = 9\n",
        "print(knapsack(arr,target))"
      ],
      "metadata": {
        "colab": {
          "base_uri": "https://localhost:8080/"
        },
        "id": "z2Xn38xplIiy",
        "outputId": "d6a267ff-73a3-4b89-e0fc-8213c16a7981"
      },
      "execution_count": null,
      "outputs": [
        {
          "output_type": "stream",
          "name": "stdout",
          "text": [
            "True\n"
          ]
        }
      ]
    },
    {
      "cell_type": "code",
      "source": [
        "#0/1 equal sum partition\n",
        "\n",
        "def knapsack(wt):\n",
        "  n=len(wt)\n",
        "  memo={}\n",
        "  if sum(wt)%2==1:\n",
        "    return False\n",
        "  cap=sum(wt)/2\n",
        "  def helper(n,cap):\n",
        "    if cap==0:\n",
        "      return True\n",
        "    if n==0:\n",
        "      return False\n",
        "    if (n,cap) in memo:\n",
        "      return memo[(n,cap)]\n",
        "    if wt[n-1]<=cap:\n",
        "      memo[(n,cap)]=helper(n-1,cap-wt[n-1]) or helper(n-1,cap)\n",
        "    else:\n",
        "      memo[(n,cap)]=helper(n-1,cap)\n",
        "    return memo[(n,cap)]\n",
        "  return helper(n,cap)\n",
        "\n",
        "arr = [1,5,5,11,1,1]\n",
        "target = 9\n",
        "print(knapsack(arr))"
      ],
      "metadata": {
        "colab": {
          "base_uri": "https://localhost:8080/"
        },
        "id": "w_TakSTVnjmE",
        "outputId": "559822bc-7d85-49cf-b147-f920e31a43cb"
      },
      "execution_count": null,
      "outputs": [
        {
          "output_type": "stream",
          "name": "stdout",
          "text": [
            "True\n"
          ]
        }
      ]
    },
    {
      "cell_type": "code",
      "source": [
        "#0/1 subset sum\n",
        "\n",
        "def knapsack(wt,cap):\n",
        "  n=len(wt)\n",
        "  memo={}\n",
        "  def helper(n,cap):\n",
        "    if cap==0:\n",
        "      return True\n",
        "    if n==0:\n",
        "      return False\n",
        "    if (n,cap) in memo:\n",
        "      return memo[(n,cap)]\n",
        "    if wt[n-1]<=cap:\n",
        "      memo[(n,cap)]=helper(n-1,cap-wt[n-1]) or helper(n-1,cap)\n",
        "    else:\n",
        "      memo[(n,cap)]=helper(n-1,cap)\n",
        "    return memo[(n,cap)]\n",
        "  return helper(n,cap)\n",
        "\n",
        "arr = [3, 34, 4, 12, 5, 2]\n",
        "target = 9\n",
        "print(knapsack(arr,target))"
      ],
      "metadata": {
        "id": "w8r1AUUxoeXN",
        "colab": {
          "base_uri": "https://localhost:8080/"
        },
        "outputId": "f327e501-e5b1-4395-8e3d-380f3dd02630"
      },
      "execution_count": null,
      "outputs": [
        {
          "output_type": "stream",
          "name": "stdout",
          "text": [
            "True\n"
          ]
        }
      ]
    },
    {
      "cell_type": "code",
      "source": [
        "#0/1 count subset sum\n",
        "\n",
        "def knapsack(wt,cap):\n",
        "  n=len(wt)\n",
        "  memo={}\n",
        "  def helper(n,cap):\n",
        "    if cap==0:\n",
        "      return True\n",
        "    if n==0:\n",
        "      return False\n",
        "    if (n,cap) in memo:\n",
        "      return memo[(n,cap)]\n",
        "    if wt[n-1]<=cap:\n",
        "      memo[(n,cap)]=helper(n-1,cap-wt[n-1])+helper(n-1,cap)\n",
        "    else:\n",
        "      memo[(n,cap)]=helper(n-1,cap)\n",
        "    return memo[(n,cap)]\n",
        "  return helper(n,cap)\n",
        "\n",
        "arr = [2,4,6,5,3]\n",
        "target = 10\n",
        "print(knapsack(arr,target))"
      ],
      "metadata": {
        "colab": {
          "base_uri": "https://localhost:8080/"
        },
        "id": "_RqzcvoYtHvW",
        "outputId": "a0940c78-3cf2-4c5a-c954-0d8d3d001100"
      },
      "execution_count": null,
      "outputs": [
        {
          "output_type": "stream",
          "name": "stdout",
          "text": [
            "2\n"
          ]
        }
      ]
    },
    {
      "cell_type": "code",
      "source": [
        "#0/1 min diff subset\n",
        "\n",
        "def knapsack(wt):\n",
        "  n=len(wt)\n",
        "  memo={}\n",
        "  def helper(n,cap):\n",
        "    if cap==0:\n",
        "      return True\n",
        "    if n==0:\n",
        "      return False\n",
        "    if (n,cap) in memo:\n",
        "      return memo[(n,cap)]\n",
        "    if wt[n-1]<=cap:\n",
        "      memo[(n,cap)]=helper(n-1,cap-wt[n-1]) or helper(n-1,cap)\n",
        "    else:\n",
        "      memo[(n,cap)]=helper(n-1,cap)\n",
        "    return memo[(n,cap)]\n",
        "  min_val=float('inf')\n",
        "  for s1 in range(sum(wt)//2,-1,-1):\n",
        "    if helper(n,s1):\n",
        "      min_val=sum(wt)-2*s1\n",
        "      break\n",
        "  return min_val\n",
        "\n",
        "arr = [1, 6, 11, 5]\n",
        "print(knapsack(arr))"
      ],
      "metadata": {
        "colab": {
          "base_uri": "https://localhost:8080/"
        },
        "id": "5A18RMmw4FDD",
        "outputId": "f72826d7-7520-4b85-a35b-a35fdcad9e0e"
      },
      "execution_count": null,
      "outputs": [
        {
          "output_type": "stream",
          "name": "stdout",
          "text": [
            "1\n"
          ]
        }
      ]
    },
    {
      "cell_type": "code",
      "source": [
        "#0/1 count num of subsets with given diff / target sum\n",
        "\n",
        "def knapsack(wt,diff):\n",
        "  n=len(wt)\n",
        "  memo={}\n",
        "  cap=(diff+sum(wt))//2\n",
        "  def helper(n,cap):\n",
        "    if cap==0:\n",
        "      return True\n",
        "    if n==0:\n",
        "      return False\n",
        "    if (n,cap) in memo:\n",
        "      return memo[(n,cap)]\n",
        "    if wt[n-1]<=cap:\n",
        "      memo[(n,cap)]=helper(n-1,cap-wt[n-1])+helper(n-1,cap)\n",
        "    else:\n",
        "      memo[(n,cap)]=helper(n-1,cap)\n",
        "    return memo[(n,cap)]\n",
        "  return helper(n,cap)\n",
        "\n",
        "arr = [1,2,3,1]\n",
        "diff = 1\n",
        "print(knapsack(arr,diff))"
      ],
      "metadata": {
        "colab": {
          "base_uri": "https://localhost:8080/"
        },
        "id": "OZwqVQximocg",
        "outputId": "6e3e09c9-041d-4d32-ac2a-3a5066b8c23b"
      },
      "execution_count": null,
      "outputs": [
        {
          "output_type": "stream",
          "name": "stdout",
          "text": [
            "3\n"
          ]
        }
      ]
    },
    {
      "cell_type": "code",
      "source": [
        "#0/1 knapsack - unbounded / rod cutting\n",
        "\n",
        "def knapsack(wt,val,cap):\n",
        "  n=len(wt)\n",
        "  memo={}\n",
        "  def helper(n,cap):\n",
        "    if n==0 or cap==0:\n",
        "      return 0\n",
        "    if (n,cap) in memo:\n",
        "      return memo[(n,cap)]\n",
        "    if wt[n-1]<=cap:\n",
        "      memo[(n,cap)]=max(val[n-1]+helper(n,cap-wt[n-1]),helper(n-1,cap))\n",
        "    else:\n",
        "      memo[(n,cap)]=helper(n-1,cap)\n",
        "    return memo[(n,cap)]\n",
        "  return helper(n,cap)\n",
        "\n",
        "wt=[1,2,3]\n",
        "val=[4,5,1]\n",
        "cap=4\n",
        "memo={}\n",
        "n=len(wt)\n",
        "print(knapsack(wt,val,cap))"
      ],
      "metadata": {
        "id": "IQzgfoGUnMG6",
        "colab": {
          "base_uri": "https://localhost:8080/"
        },
        "outputId": "6805f61d-9616-4037-835f-2dc099bbc148"
      },
      "execution_count": null,
      "outputs": [
        {
          "output_type": "stream",
          "name": "stdout",
          "text": [
            "16\n"
          ]
        }
      ]
    },
    {
      "cell_type": "code",
      "source": [
        "#0/1 coin change - max ways\n",
        "\n",
        "def knapsack(wt,cap):\n",
        "  n=len(wt)\n",
        "  memo={}\n",
        "  def helper(n,cap):\n",
        "    if cap==0:\n",
        "      return 1\n",
        "    if n==0:\n",
        "      return 0\n",
        "    if (n,cap) in memo:\n",
        "      return memo[(n,cap)]\n",
        "    if wt[n-1]<=cap:\n",
        "      memo[(n,cap)]=helper(n,cap-wt[n-1])+helper(n-1,cap)\n",
        "    else:\n",
        "      memo[(n,cap)]=helper(n-1,cap)\n",
        "    return memo[(n,cap)]\n",
        "  return helper(n,cap)\n",
        "\n",
        "wt=[1,2,3]\n",
        "cap=4\n",
        "memo={}\n",
        "n=len(wt)\n",
        "print(knapsack(wt,cap))"
      ],
      "metadata": {
        "colab": {
          "base_uri": "https://localhost:8080/"
        },
        "id": "8Nz0zIlJAbL2",
        "outputId": "fe331661-a80c-4a44-a705-832f06cea99d"
      },
      "execution_count": null,
      "outputs": [
        {
          "output_type": "stream",
          "name": "stdout",
          "text": [
            "4\n"
          ]
        }
      ]
    },
    {
      "cell_type": "code",
      "source": [
        "#0/1 coin change - min coins\n",
        "\n",
        "def knapsack(wt,cap):\n",
        "  n=len(wt)\n",
        "  memo={}\n",
        "  def helper(cap):\n",
        "    if cap==0:\n",
        "      return 0\n",
        "    if cap<0:\n",
        "      return float('inf')\n",
        "    if cap in memo:\n",
        "      return memo[cap]\n",
        "    min_val=float('inf')\n",
        "    for c in wt:\n",
        "      res=helper(cap-c)\n",
        "      if res!=float('inf'):\n",
        "        min_val=min(min_val,res+1)\n",
        "    memo[cap]=min_val\n",
        "    return min_val\n",
        "  result=helper(cap)\n",
        "  if result==float('inf'):\n",
        "    return -1\n",
        "  return result\n",
        "wt=[1,2,3]\n",
        "cap=5\n",
        "memo={}\n",
        "n=len(wt)\n",
        "print(knapsack(wt,cap))"
      ],
      "metadata": {
        "colab": {
          "base_uri": "https://localhost:8080/"
        },
        "id": "qR6WRlXoBbiq",
        "outputId": "da52296d-87fe-48ee-ac2b-8fab89437116"
      },
      "execution_count": null,
      "outputs": [
        {
          "output_type": "stream",
          "name": "stdout",
          "text": [
            "2\n"
          ]
        }
      ]
    },
    {
      "cell_type": "markdown",
      "source": [
        "# LCS"
      ],
      "metadata": {
        "id": "OOX8poA2VaYW"
      }
    },
    {
      "cell_type": "code",
      "source": [
        "# longest common sub seq\n",
        "\n",
        "def LCS(s1,s2):\n",
        "  n=len(s1)\n",
        "  m=len(s2)\n",
        "  if n==0 or m==0:\n",
        "    return 0\n",
        "  if s1[n-1]==s2[m-1]:\n",
        "    return 1+LCS(s1[:n-1],s2[:m-1])\n",
        "  else:\n",
        "    return max(LCS(s1,s2[:m-1]),LCS(s1[:n-1],s2))\n",
        "\n",
        "print(LCS('abcde','ace'))"
      ],
      "metadata": {
        "colab": {
          "base_uri": "https://localhost:8080/"
        },
        "id": "V-hJ7zIxVcJn",
        "outputId": "007c381f-727f-4de0-869f-e8fd766ef4f1"
      },
      "execution_count": null,
      "outputs": [
        {
          "output_type": "stream",
          "name": "stdout",
          "text": [
            "3\n"
          ]
        }
      ]
    },
    {
      "cell_type": "code",
      "source": [
        "# longest common sub seq - memo - bottom up\n",
        "\n",
        "def LCS(s1,s2,memo):\n",
        "  n=len(s1)\n",
        "  m=len(s2)\n",
        "  if n==0 or m==0:\n",
        "    return 0\n",
        "  if (n,m) in memo:\n",
        "    return memo[(n,m)]\n",
        "  if s1[n-1]==s2[m-1]:\n",
        "    memo[(n,m)]=1+LCS(s1[:n-1],s2[:m-1],memo)\n",
        "  else:\n",
        "    memo[(n,m)]=max(LCS(s1,s2[:m-1],memo),LCS(s1[:n-1],s2,memo))\n",
        "  return memo[(n,m)]\n",
        "memo={}\n",
        "print(LCS('abcde','ace',memo))"
      ],
      "metadata": {
        "colab": {
          "base_uri": "https://localhost:8080/"
        },
        "id": "VxwdKtfFWJ87",
        "outputId": "b873d689-5384-423c-b32c-84b276bea69c"
      },
      "execution_count": null,
      "outputs": [
        {
          "output_type": "stream",
          "name": "stdout",
          "text": [
            "3\n"
          ]
        }
      ]
    },
    {
      "cell_type": "code",
      "source": [
        "# longest common sub seq - top down\n",
        "\n",
        "def LCS(s1,s2):\n",
        "  n=len(s1)\n",
        "  m=len(s2)\n",
        "  memo={}\n",
        "  def helper(n,m):\n",
        "    if n==0 or m==0:\n",
        "      return 0\n",
        "    if (n,m) in memo:\n",
        "      return memo[(n,m)]\n",
        "    if s1[n-1]==s2[m-1]:\n",
        "      memo[(n,m)]=1+helper(n-1,m-1)\n",
        "    else:\n",
        "      memo[(n,m)]=max(helper(n,m-1),helper(n-1,m))\n",
        "    return memo[(n,m)]\n",
        "  return helper(n,m)\n",
        "memo={}\n",
        "print(LCS('abcde','ace'))"
      ],
      "metadata": {
        "colab": {
          "base_uri": "https://localhost:8080/"
        },
        "id": "1PNBoD4gc7rd",
        "outputId": "39c40501-c6ed-4c7a-bcf3-854ce9c1fb6d"
      },
      "execution_count": null,
      "outputs": [
        {
          "output_type": "stream",
          "name": "stdout",
          "text": [
            "3\n"
          ]
        }
      ]
    },
    {
      "cell_type": "code",
      "source": [
        "# longest common string\n",
        "\n",
        "def LCS(s1,s2):\n",
        "  n=len(s1)\n",
        "  m=len(s2)\n",
        "  memo={}\n",
        "  max_len=[0]\n",
        "  def helper(n,m):\n",
        "    if n==0 or m==0:\n",
        "      return 0\n",
        "    if (n,m) in memo:\n",
        "      return memo[(n,m)]\n",
        "    if s1[n-1]==s2[m-1]:\n",
        "      memo[(n,m)]=1+helper(n-1,m-1)\n",
        "      max_len[0]=max(max_len[0],memo[(n,m)])\n",
        "    else:\n",
        "      memo[(n,m)]=0\n",
        "    return memo[(n,m)]\n",
        "  for i in range(n+1):\n",
        "    for j in range(m+1):\n",
        "      helper(i,j)\n",
        "  return max_len[0]\n",
        "memo={}\n",
        "print(LCS('abcde','abfce'))"
      ],
      "metadata": {
        "colab": {
          "base_uri": "https://localhost:8080/"
        },
        "id": "-SBPmR3wi2wJ",
        "outputId": "7ea95fac-7188-4ad9-b1f2-0d681e919a0c"
      },
      "execution_count": null,
      "outputs": [
        {
          "output_type": "stream",
          "name": "stdout",
          "text": [
            "2\n"
          ]
        }
      ]
    },
    {
      "cell_type": "code",
      "source": [
        "# longest common sub seq - top down printing\n",
        "\n",
        "def LCS(s1,s2):\n",
        "  n=len(s1)\n",
        "  m=len(s2)\n",
        "  memo={}\n",
        "  def helper(n,m):\n",
        "    if n==0 or m==0:\n",
        "      return 0\n",
        "    if (n,m) in memo:\n",
        "      return memo[(n,m)]\n",
        "    if s1[n-1]==s2[m-1]:\n",
        "      memo[(n,m)]=1+helper(n-1,m-1)\n",
        "    else:\n",
        "      memo[(n,m)]=max(helper(n,m-1),helper(n-1,m))\n",
        "    return memo[(n,m)]\n",
        "  helper(n,m)\n",
        "  i=n\n",
        "  j=m\n",
        "  lcs=''\n",
        "  while i>0 and j>0:\n",
        "    if s1[i-1]==s2[j-1]:\n",
        "      i-=1\n",
        "      j-=1\n",
        "      lcs=s1[i]+lcs\n",
        "    elif memo.get((i-1,j),0)>memo.get((i,j-1),0):\n",
        "      i-=1\n",
        "    else:\n",
        "      j-=1\n",
        "  return lcs\n",
        "memo={}\n",
        "print(LCS('abcde','aceffe'))"
      ],
      "metadata": {
        "colab": {
          "base_uri": "https://localhost:8080/"
        },
        "id": "6h_J8t3WqUxa",
        "outputId": "6bc01a5d-76c0-4a2f-9c41-f03209a539c4"
      },
      "execution_count": null,
      "outputs": [
        {
          "output_type": "stream",
          "name": "stdout",
          "text": [
            "ace\n"
          ]
        }
      ]
    },
    {
      "cell_type": "code",
      "source": [
        "# shortest common superseq\n",
        "\n",
        "def LCS(s1,s2):\n",
        "  n=len(s1)\n",
        "  m=len(s2)\n",
        "  memo={}\n",
        "  def helper(n,m):\n",
        "    if n==0 or m==0:\n",
        "      return 0\n",
        "    if (n,m) in memo:\n",
        "      return memo[(n,m)]\n",
        "    if s1[n-1]==s2[m-1]:\n",
        "      memo[(n,m)]=1+helper(n-1,m-1)\n",
        "    else:\n",
        "      memo[(n,m)]=max(helper(n,m-1),helper(n-1,m))\n",
        "    return memo[(n,m)]\n",
        "  return helper(n,m)\n",
        "def SCS(s1,s2):\n",
        "  lcs=LCS(s1,s2)\n",
        "  return len(s1)+len(s2)-lcs\n",
        "memo={}\n",
        "print(SCS('abcde','acef'))"
      ],
      "metadata": {
        "colab": {
          "base_uri": "https://localhost:8080/"
        },
        "id": "iIhWRlu8wpVN",
        "outputId": "da3da732-d026-4041-e1b1-0e2d2e728e11"
      },
      "execution_count": null,
      "outputs": [
        {
          "output_type": "stream",
          "name": "stdout",
          "text": [
            "6\n"
          ]
        }
      ]
    },
    {
      "cell_type": "code",
      "source": [
        "# shortest common superseq - printing\n",
        "\n",
        "def LCS(s1,s2):\n",
        "  n=len(s1)\n",
        "  m=len(s2)\n",
        "  memo=[[0]*(m+1) for _ in range(n+1)]\n",
        "  for i in range(1,n+1):\n",
        "    for j in range(1,m+1):\n",
        "      if s1[i-1]==s2[j-1]:\n",
        "        memo[i][j]=1+memo[i-1][j-1]\n",
        "      else:\n",
        "        memo[i][j]=max(memo[i-1][j],memo[i][j-1])\n",
        "  i=n\n",
        "  j=m\n",
        "  st=''\n",
        "  while i>0 and j>0:\n",
        "    if s1[i-1]==s2[j-1]:\n",
        "      st=s1[i-1]+st\n",
        "      i-=1\n",
        "      j-=1\n",
        "    elif memo[i-1][j]>memo[i][j-1]:\n",
        "      st=s1[i-1]+st\n",
        "      i-=1\n",
        "    else:\n",
        "      st=s2[j-1]+st\n",
        "      j-=1\n",
        "  while i>0:\n",
        "    st=s1[i-1]+st\n",
        "    i-=1\n",
        "  while j>0:\n",
        "    st=s2[j-1]+st\n",
        "    j-=1\n",
        "  return st\n",
        "\n",
        "print(LCS('fghjhr','agjnmr'))"
      ],
      "metadata": {
        "colab": {
          "base_uri": "https://localhost:8080/"
        },
        "id": "6Qldb7KkEd0q",
        "outputId": "bb249274-ce63-4989-f6ee-c266261a622c"
      },
      "execution_count": null,
      "outputs": [
        {
          "output_type": "stream",
          "name": "stdout",
          "text": [
            "faghjhnmr\n"
          ]
        }
      ]
    },
    {
      "cell_type": "code",
      "source": [
        "# insertion deletion\n",
        "\n",
        "def LCS(s1,s2):\n",
        "  n=len(s1)\n",
        "  m=len(s2)\n",
        "  memo={}\n",
        "  def helper(n,m):\n",
        "    if n==0 or m==0:\n",
        "      return 0\n",
        "    if (n,m) in memo:\n",
        "      return memo[(n,m)]\n",
        "    if s1[n-1]==s2[m-1]:\n",
        "      memo[(n,m)]=1+helper(n-1,m-1)\n",
        "    else:\n",
        "      memo[(n,m)]=max(helper(n,m-1),helper(n-1,m))\n",
        "    return memo[(n,m)]\n",
        "  return helper(n,m)\n",
        "def in_de(s1,s2):\n",
        "  lcs=LCS(s1,s2)\n",
        "  return len(s1)+len(s2)-2*lcs\n",
        "memo={}\n",
        "print(in_de('heap','pea'))"
      ],
      "metadata": {
        "colab": {
          "base_uri": "https://localhost:8080/"
        },
        "id": "upfIXk_o_9Fq",
        "outputId": "8dda982f-b1de-452f-e059-ec27f2eb1ff1"
      },
      "execution_count": null,
      "outputs": [
        {
          "output_type": "stream",
          "name": "stdout",
          "text": [
            "3\n"
          ]
        }
      ]
    },
    {
      "cell_type": "code",
      "source": [
        "# min no of deletions to make palindrome and insertions\n",
        "\n",
        "def LCS(s1,s2):\n",
        "  n=len(s1)\n",
        "  m=len(s2)\n",
        "  memo={}\n",
        "  def helper(n,m):\n",
        "    if n==0 or m==0:\n",
        "      return 0\n",
        "    if (n,m) in memo:\n",
        "      return memo[(n,m)]\n",
        "    if s1[n-1]==s2[m-1]:\n",
        "      memo[(n,m)]=1+helper(n-1,m-1)\n",
        "    else:\n",
        "      memo[(n,m)]=max(helper(n,m-1),helper(n-1,m))\n",
        "    return memo[(n,m)]\n",
        "  return helper(n,m)\n",
        "def de(s1,s2):\n",
        "  lcs=LCS(s1,s2)\n",
        "  return len(s1)-lcs\n",
        "memo={}\n",
        "s1='admahifedijiamfeff'\n",
        "s2=s1[::-1]\n",
        "print(de(s1,s2))"
      ],
      "metadata": {
        "colab": {
          "base_uri": "https://localhost:8080/"
        },
        "id": "zBVcFZqrCS76",
        "outputId": "19fb4fbf-59e2-4bad-ee3e-4d83e8e5adbd"
      },
      "execution_count": null,
      "outputs": [
        {
          "output_type": "stream",
          "name": "stdout",
          "text": [
            "11\n"
          ]
        }
      ]
    },
    {
      "cell_type": "code",
      "source": [
        "# longest repeating subseq\n",
        "\n",
        "def LCS(s1,s2):\n",
        "  n=len(s1)\n",
        "  m=len(s2)\n",
        "  memo={}\n",
        "  def helper(n,m):\n",
        "    if n==0 or m==0:\n",
        "      return 0\n",
        "    if (n,m) in memo:\n",
        "      return memo[(n,m)]\n",
        "    if (s1[n-1]==s2[m-1]) and n!=m:\n",
        "      memo[(n,m)]=1+helper(n-1,m-1)\n",
        "    else:\n",
        "      memo[(n,m)]=max(helper(n,m-1),helper(n-1,m))\n",
        "    return memo[(n,m)]\n",
        "  return helper(n,m)\n",
        "memo={}\n",
        "a='abcdeghakbcd'\n",
        "print(LCS(a,a))"
      ],
      "metadata": {
        "colab": {
          "base_uri": "https://localhost:8080/"
        },
        "id": "r496Mn2ID-Mi",
        "outputId": "2ae7ae53-fb63-42ea-c471-147bb69b3934"
      },
      "execution_count": null,
      "outputs": [
        {
          "output_type": "stream",
          "name": "stdout",
          "text": [
            "4\n"
          ]
        }
      ]
    },
    {
      "cell_type": "code",
      "source": [
        "# seq pattern matching\n",
        "\n",
        "def LCS(s1,s2):\n",
        "  n=len(s1)\n",
        "  m=len(s2)\n",
        "  memo={}\n",
        "  def helper(n,m):\n",
        "    if n==0 or m==0:\n",
        "      return 0\n",
        "    if (n,m) in memo:\n",
        "      return memo[(n,m)]\n",
        "    if (s1[n-1]==s2[m-1]):\n",
        "      memo[(n,m)]=1+helper(n-1,m-1)\n",
        "    else:\n",
        "      memo[(n,m)]=max(helper(n,m-1),helper(n-1,m))\n",
        "    return memo[(n,m)]\n",
        "  lg=helper(n,m)\n",
        "  if lg==n:\n",
        "    return True\n",
        "  else:\n",
        "    return False\n",
        "memo={}\n",
        "a='axy'\n",
        "b='atgxjiyhz'\n",
        "print(LCS(a,b))"
      ],
      "metadata": {
        "colab": {
          "base_uri": "https://localhost:8080/"
        },
        "id": "GisInY8cPX0u",
        "outputId": "14db899a-f440-4fba-cf88-bf1706e9bbe8"
      },
      "execution_count": null,
      "outputs": [
        {
          "output_type": "stream",
          "name": "stdout",
          "text": [
            "True\n"
          ]
        }
      ]
    },
    {
      "cell_type": "markdown",
      "source": [
        "# MCM"
      ],
      "metadata": {
        "id": "T8g62bnUbQBE"
      }
    },
    {
      "cell_type": "code",
      "source": [
        "# MCM recursion\n",
        "\n",
        "def MCM(arr,i,j):\n",
        "  if i>=j:\n",
        "    return 0\n",
        "  min_cost=float('inf')\n",
        "  for k in range(i,j):\n",
        "    temp=MCM(arr,i,k)+MCM(arr,k+1,j)+arr[i-1]*arr[k]*arr[j]\n",
        "    min_cost=min(min_cost,temp)\n",
        "  return min_cost\n",
        "\n",
        "arr=[40,20,30,10,30]\n",
        "print(MCM(arr,1,len(arr)-1))"
      ],
      "metadata": {
        "colab": {
          "base_uri": "https://localhost:8080/"
        },
        "id": "Gk_MvU0sbPxg",
        "outputId": "bcd78bb7-38f6-42b0-f744-6a28dbe0cd41"
      },
      "execution_count": null,
      "outputs": [
        {
          "output_type": "stream",
          "name": "stdout",
          "text": [
            "26000\n"
          ]
        }
      ]
    },
    {
      "cell_type": "code",
      "source": [
        "# MCM - memo - bottom up\n",
        "\n",
        "def MCM(arr,i,j,memo):\n",
        "  if i>=j:\n",
        "    return 0\n",
        "  min_cost=float('inf')\n",
        "  if (i,j) in memo:\n",
        "    return memo[(i,j)]\n",
        "  for k in range(i,j):\n",
        "    temp=MCM(arr,i,k,memo)+MCM(arr,k+1,j,memo)+arr[i-1]*arr[k]*arr[j]\n",
        "    min_cost=min(min_cost,temp)\n",
        "  memo[(i,j)]=min_cost\n",
        "  return min_cost\n",
        "\n",
        "arr=[40,20,30,10,30]\n",
        "memo={}\n",
        "print(MCM(arr,1,len(arr)-1,memo))"
      ],
      "metadata": {
        "colab": {
          "base_uri": "https://localhost:8080/"
        },
        "id": "P6dnFk7nyw6_",
        "outputId": "e5eb6221-2a94-45d7-f512-3bb4849f5153"
      },
      "execution_count": null,
      "outputs": [
        {
          "output_type": "stream",
          "name": "stdout",
          "text": [
            "26000\n"
          ]
        }
      ]
    },
    {
      "cell_type": "code",
      "source": [
        "# palindrome partitioning\n",
        "\n",
        "def is_palindrome(s,i,j):\n",
        "  while i<j:\n",
        "    if s[i]!=s[j]:\n",
        "      return False\n",
        "    i+=1\n",
        "    j-=1\n",
        "  return True\n",
        "\n",
        "def MCM(s,i,j):\n",
        "  if i>=j or is_palindrome(s,i,j):\n",
        "    return 0\n",
        "  min_cost=float('inf')\n",
        "  for k in range(i,j):\n",
        "    temp=MCM(s,i,k)+MCM(s,k+1,j)+1\n",
        "    min_cost=min(min_cost,temp)\n",
        "  return min_cost\n",
        "\n",
        "s='fnitinalf'\n",
        "print(MCM(s,0,len(s)-1))"
      ],
      "metadata": {
        "colab": {
          "base_uri": "https://localhost:8080/"
        },
        "id": "x9xeM-9x3Z58",
        "outputId": "49557997-0ee3-4455-df28-b0f869b50223"
      },
      "execution_count": null,
      "outputs": [
        {
          "output_type": "stream",
          "name": "stdout",
          "text": [
            "4\n"
          ]
        }
      ]
    },
    {
      "cell_type": "code",
      "source": [
        "# palindrome partitioning memo\n",
        "\n",
        "def is_palindrome(s,i,j):\n",
        "  while i<j:\n",
        "    if s[i]!=s[j]:\n",
        "      return False\n",
        "    i+=1\n",
        "    j-=1\n",
        "  return True\n",
        "\n",
        "def MCM(s,i,j,memo):\n",
        "  if i>=j or is_palindrome(s,i,j):\n",
        "    return 0\n",
        "  min_cost=float('inf')\n",
        "  if (i,j) in memo:\n",
        "    return memo[(i,j)]\n",
        "  for k in range(i,j):\n",
        "    temp=MCM(s,i,k,memo)+MCM(s,k+1,j,memo)+1\n",
        "    min_cost=min(min_cost,temp)\n",
        "  memo[(i,j)]=min_cost\n",
        "  return min_cost\n",
        "\n",
        "s='ernitina'\n",
        "memo={}\n",
        "print(MCM(s,0,len(s)-1,memo))"
      ],
      "metadata": {
        "colab": {
          "base_uri": "https://localhost:8080/"
        },
        "id": "GwB7-5Hyr-2U",
        "outputId": "0cbc1e3e-7c48-4173-e2f6-6bac10c9e8c7"
      },
      "execution_count": null,
      "outputs": [
        {
          "output_type": "stream",
          "name": "stdout",
          "text": [
            "3\n"
          ]
        }
      ]
    },
    {
      "cell_type": "code",
      "source": [
        "# palindrome partitioning memo optimized"
      ],
      "metadata": {
        "id": "L37X7J8EOiS7"
      },
      "execution_count": null,
      "outputs": []
    },
    {
      "cell_type": "code",
      "source": [
        "# evaluate expression to true boolean\n",
        "def MCM(s,i,j,isTrue):\n",
        "  if i>j:\n",
        "    return False\n",
        "  if i==j:\n",
        "    if isTrue:\n",
        "      if s[i]=='T':\n",
        "        return 1\n",
        "      else:\n",
        "        return 0\n",
        "    else:\n",
        "      if s[i]=='F':\n",
        "        return 1\n",
        "      else:\n",
        "        return 0\n",
        "  ways=0\n",
        "  for k in range(i+1,j,2):\n",
        "    op=s[k]\n",
        "    lt=MCM(s,i,k-1,True)\n",
        "    lf=MCM(s,i,k-1,False)\n",
        "    rt=MCM(s,k+1,j,True)\n",
        "    rf=MCM(s,k+1,j,False)\n",
        "    if op=='&':\n",
        "      if isTrue:\n",
        "        ways+=lt*rt\n",
        "      else:\n",
        "        ways+=lt*rf+lf*rt+lf*rf\n",
        "    elif op=='|':\n",
        "      if isTrue:\n",
        "        ways+=lt*rf+lf*rt+lt*rt\n",
        "      else:\n",
        "        ways+=lf*rf\n",
        "    elif op=='^':\n",
        "      if isTrue:\n",
        "        ways+=lt*rf+lf*rt\n",
        "      else:\n",
        "        ways+=lt*rt+lf*rf\n",
        "  return ways\n",
        "\n",
        "s = \"T|T&F^T\"\n",
        "print(MCM(s,0,len(s)-1,True))"
      ],
      "metadata": {
        "colab": {
          "base_uri": "https://localhost:8080/"
        },
        "id": "ZFKVlmYKOkgS",
        "outputId": "0822274b-83c2-4c12-eda1-b951fec549fa"
      },
      "execution_count": null,
      "outputs": [
        {
          "output_type": "stream",
          "name": "stdout",
          "text": [
            "4\n"
          ]
        }
      ]
    },
    {
      "cell_type": "code",
      "source": [
        "# evaluate expression to true boolean - memo\n",
        "def MCM(s,i,j,isTrue,memo):\n",
        "  if i>j:\n",
        "    return False\n",
        "  if i==j:\n",
        "    if isTrue:\n",
        "      if s[i]=='T':\n",
        "        return 1\n",
        "      else:\n",
        "        return 0\n",
        "    else:\n",
        "      if s[i]=='F':\n",
        "        return 1\n",
        "      else:\n",
        "        return 0\n",
        "  if (i,j,isTrue) in memo:\n",
        "    return memo[(i,j,isTrue)]\n",
        "  ways=0\n",
        "  for k in range(i+1,j,2):\n",
        "    op=s[k]\n",
        "    lt=MCM(s,i,k-1,True,memo)\n",
        "    lf=MCM(s,i,k-1,False,memo)\n",
        "    rt=MCM(s,k+1,j,True,memo)\n",
        "    rf=MCM(s,k+1,j,False,memo)\n",
        "\n",
        "    if op=='&':\n",
        "      if isTrue:\n",
        "        ways+=lt*rt\n",
        "      else:\n",
        "        ways+=lt*rf+lf*rt+lf*rf\n",
        "    elif op=='|':\n",
        "      if isTrue:\n",
        "        ways+=lt*rf+lf*rt+lt*rt\n",
        "      else:\n",
        "        ways+=lf*rf\n",
        "    elif op=='^':\n",
        "      if isTrue:\n",
        "        ways+=lt*rf+lf*rt\n",
        "      else:\n",
        "        ways+=lt*rt+lf*rf\n",
        "  memo[(i,j,isTrue)]=ways\n",
        "  return ways\n",
        "\n",
        "s = \"T|T&F^T\"\n",
        "memo={}\n",
        "print(MCM(s,0,len(s)-1,True,memo))"
      ],
      "metadata": {
        "colab": {
          "base_uri": "https://localhost:8080/"
        },
        "id": "4w_v6eQWvRkA",
        "outputId": "c663bc1b-e5f1-4ff6-e482-b80d23a262a1"
      },
      "execution_count": null,
      "outputs": [
        {
          "output_type": "stream",
          "name": "stdout",
          "text": [
            "4\n"
          ]
        }
      ]
    },
    {
      "cell_type": "code",
      "source": [
        "# scrambled string - recursive\n",
        "\n",
        "def is_scramble(s1,s2):\n",
        "  if s1==s2:\n",
        "    return True\n",
        "  if len(s1)==0 and len(s2)==0:\n",
        "    return True\n",
        "  if len(s1)!=len(s2):\n",
        "    return False\n",
        "  n=len(s1)\n",
        "  for i in range(1,n):\n",
        "    case1=is_scramble(s1[:i],s2[:i]) and is_scramble(s1[i:],s2[i:])\n",
        "    case2=is_scramble(s1[:i],s2[i:]) and is_scramble(s1[i:],s2[:i])\n",
        "    if case1 or case2:\n",
        "      return True\n",
        "  return False\n",
        "s1 = \"great\"\n",
        "s2 = \"graet\"\n",
        "print(is_scramble(s1, s2))"
      ],
      "metadata": {
        "colab": {
          "base_uri": "https://localhost:8080/"
        },
        "id": "qiyLAU8Yx60U",
        "outputId": "3e555c78-d047-470d-8692-efab12d71633"
      },
      "execution_count": null,
      "outputs": [
        {
          "output_type": "stream",
          "name": "stdout",
          "text": [
            "True\n"
          ]
        }
      ]
    },
    {
      "cell_type": "code",
      "source": [
        "# scrambled string - memo\n",
        "\n",
        "def is_scramble(s1,s2,memo):\n",
        "  if s1==s2:\n",
        "    return True\n",
        "  if len(s1)==0 and len(s2)==0:\n",
        "    return True\n",
        "  if len(s1)!=len(s2):\n",
        "    return False\n",
        "  n=len(s1)\n",
        "  if (s1,s2) in memo:\n",
        "    return memo[(s1,s2)]\n",
        "  for i in range(1,n):\n",
        "    case1=is_scramble(s1[:i],s2[:i],memo) and is_scramble(s1[i:],s2[i:],memo)\n",
        "    case2=is_scramble(s1[i:],s2[:n-i],memo) and is_scramble(s1[:i],s2[n-i:],memo)\n",
        "    if case1 or case2:\n",
        "      memo[(s1,s2)]=True\n",
        "      return True\n",
        "    memo[(s1,s2)]=False\n",
        "  return False\n",
        "s1 = \"greatt\"\n",
        "s2 = \"gtraet\"\n",
        "memo={}\n",
        "print(is_scramble(s1, s2,memo))"
      ],
      "metadata": {
        "colab": {
          "base_uri": "https://localhost:8080/"
        },
        "id": "uurjkPHe4rFM",
        "outputId": "ca2873a3-2afd-46a8-ead9-067a975be244"
      },
      "execution_count": null,
      "outputs": [
        {
          "output_type": "stream",
          "name": "stdout",
          "text": [
            "True\n"
          ]
        }
      ]
    },
    {
      "cell_type": "code",
      "source": [
        "#egg dropping recursion\n",
        "\n",
        "def egg(e,f):\n",
        "  if f==0 or f==1:\n",
        "    return f\n",
        "  if e==1:\n",
        "    return f\n",
        "  at=float('inf')\n",
        "  for i in range(1,f+1):\n",
        "    curr=1+max(egg(e-1,i-1),egg(e,f-i))\n",
        "    at=min(at,curr)\n",
        "  return at\n",
        "egg(2,10)"
      ],
      "metadata": {
        "colab": {
          "base_uri": "https://localhost:8080/"
        },
        "id": "akPL3npo5PSa",
        "outputId": "afe80f7a-f9c7-4cf4-be08-5c188b463af9"
      },
      "execution_count": null,
      "outputs": [
        {
          "output_type": "execute_result",
          "data": {
            "text/plain": [
              "4"
            ]
          },
          "metadata": {},
          "execution_count": 13
        }
      ]
    },
    {
      "cell_type": "code",
      "source": [
        "#egg dropping memo\n",
        "\n",
        "def egg(e,f,memo):\n",
        "  if f==0 or f==1:\n",
        "    return f\n",
        "  if e==1:\n",
        "    return f\n",
        "  if (e,f) in memo:\n",
        "    return memo[(e,f)]\n",
        "  at=float('inf')\n",
        "  for i in range(1,f+1):\n",
        "    curr=1+max(egg(e-1,i-1,memo),egg(e,f-i,memo))\n",
        "    at=min(at,curr)\n",
        "  memo[(e,f)]=at\n",
        "  return at\n",
        "memo={}\n",
        "egg(2,10,memo)"
      ],
      "metadata": {
        "colab": {
          "base_uri": "https://localhost:8080/"
        },
        "id": "ax_crDCv_HKI",
        "outputId": "eabbaaad-24b7-404d-852b-60f735e4602b"
      },
      "execution_count": null,
      "outputs": [
        {
          "output_type": "execute_result",
          "data": {
            "text/plain": [
              "4"
            ]
          },
          "metadata": {},
          "execution_count": 14
        }
      ]
    },
    {
      "cell_type": "code",
      "source": [
        "#egg dropping memo optimized\n",
        "\n",
        "def egg(e,f,memo):\n",
        "  if f==0 or f==1:\n",
        "    return f\n",
        "  if e==1:\n",
        "    return f\n",
        "  if (e,f) in memo:\n",
        "    return memo[(e,f)]\n",
        "  at=float('inf')\n",
        "  for i in range(1,f+1):\n",
        "    if (e-1,i-1) in memo:\n",
        "      low=memo[(e-1,i-1)]\n",
        "    else:\n",
        "      low=egg(e-1,i-1,memo)\n",
        "    if (e,f-i) in memo:\n",
        "      high=memo[(e,f-i)]\n",
        "    else:\n",
        "      high=egg(e,f-i,memo)\n",
        "    curr=1+max(low,high)\n",
        "    at=min(at,curr)\n",
        "  memo[(e,f)]=at\n",
        "  return at\n",
        "memo={}\n",
        "egg(2,10,memo)"
      ],
      "metadata": {
        "colab": {
          "base_uri": "https://localhost:8080/"
        },
        "id": "U_yLj2sbAqmc",
        "outputId": "dd00226b-88bf-4b6c-a12c-61e895052539"
      },
      "execution_count": null,
      "outputs": [
        {
          "output_type": "execute_result",
          "data": {
            "text/plain": [
              "4"
            ]
          },
          "metadata": {},
          "execution_count": 15
        }
      ]
    }
  ]
}