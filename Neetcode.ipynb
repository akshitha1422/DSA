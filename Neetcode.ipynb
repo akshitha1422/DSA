{
  "nbformat": 4,
  "nbformat_minor": 0,
  "metadata": {
    "colab": {
      "provenance": [],
      "authorship_tag": "ABX9TyNmuWmzN1M+bkoTRFOE4rLp",
      "include_colab_link": true
    },
    "kernelspec": {
      "name": "python3",
      "display_name": "Python 3"
    },
    "language_info": {
      "name": "python"
    }
  },
  "cells": [
    {
      "cell_type": "markdown",
      "metadata": {
        "id": "view-in-github",
        "colab_type": "text"
      },
      "source": [
        "<a href=\"https://colab.research.google.com/github/akshitha1422/DSA/blob/main/Neetcode.ipynb\" target=\"_parent\"><img src=\"https://colab.research.google.com/assets/colab-badge.svg\" alt=\"Open In Colab\"/></a>"
      ]
    },
    {
      "cell_type": "markdown",
      "source": [
        "Concatenation of Array\n",
        "\n",
        "You are given an integer array nums of length n. Create an array ans of length 2n where ans[i] == nums[i] and ans[i + n] == nums[i] for 0 <= i < n (0-indexed).\n",
        "\n",
        "Specifically, ans is the concatenation of two nums arrays.\n",
        "\n",
        "Return the array ans."
      ],
      "metadata": {
        "id": "aByIzV7tDegI"
      }
    },
    {
      "cell_type": "code",
      "execution_count": null,
      "metadata": {
        "id": "L4hcIyojBXG_"
      },
      "outputs": [],
      "source": [
        "class Solution:\n",
        "    def getConcatenation(self, nums: List[int]) -> List[int]:\n",
        "        # ans=nums+nums\n",
        "        # return ans\n",
        "        n=len(nums)\n",
        "        ans=[0]*2*n\n",
        "        for i in range(n):\n",
        "            ans[i]=ans[i+n]=nums[i]\n",
        "        return ans"
      ]
    },
    {
      "cell_type": "markdown",
      "source": [
        "Contains Duplicate\n",
        "\n",
        "Given an integer array nums, return true if any value appears more than once in the array, otherwise return false."
      ],
      "metadata": {
        "id": "kiZjJGVkDijx"
      }
    },
    {
      "cell_type": "code",
      "source": [
        "class Solution:\n",
        "    def hasDuplicate(self, nums: List[int]) -> bool:\n",
        "        from collections import Counter\n",
        "        st=Counter(nums)\n",
        "        for i in st:\n",
        "            if st[i]>1:\n",
        "                return True\n",
        "        return False"
      ],
      "metadata": {
        "id": "-uLzJDz2D4jy"
      },
      "execution_count": null,
      "outputs": []
    },
    {
      "cell_type": "markdown",
      "source": [
        "Valid Anagram\n",
        "\n",
        "Given two strings s and t, return true if the two strings are anagrams of each other, otherwise return false.\n",
        "\n",
        "An anagram is a string that contains the exact same characters as another string, but the order of the characters can be different."
      ],
      "metadata": {
        "id": "agNBGNAmD-Kc"
      }
    },
    {
      "cell_type": "code",
      "source": [
        "class Solution:\n",
        "    def isAnagram(self, s: str, t: str) -> bool:\n",
        "        from collections import Counter\n",
        "        s1=Counter(sorted(s))\n",
        "        s2=Counter(sorted(t))\n",
        "        if s1==s2:\n",
        "            return True\n",
        "        return False"
      ],
      "metadata": {
        "id": "Go4lXpH4Eajs"
      },
      "execution_count": null,
      "outputs": []
    },
    {
      "cell_type": "markdown",
      "source": [
        "Two Sum\n",
        "\n",
        "Given an array of integers nums and an integer target, return the indices i and j such that nums[i] + nums[j] == target and i != j.\n",
        "\n",
        "You may assume that every input has exactly one pair of indices i and j that satisfy the condition.\n",
        "\n",
        "Return the answer with the smaller index first."
      ],
      "metadata": {
        "id": "cUtfEu44I6By"
      }
    },
    {
      "cell_type": "code",
      "source": [
        "class Solution:\n",
        "    def twoSum(self, nums: List[int], target: int) -> List[int]:\n",
        "        st={}\n",
        "        mini=float('inf')\n",
        "        for i,n in enumerate(nums):\n",
        "            if target-n in st:\n",
        "                return [st[target-n],i]\n",
        "            st[n]=i"
      ],
      "metadata": {
        "id": "KSiZ7P3PI67f"
      },
      "execution_count": null,
      "outputs": []
    },
    {
      "cell_type": "markdown",
      "source": [
        "Longest Common Prefix ##\n",
        "\n",
        "You are given an array of strings strs. Return the longest common prefix of all the strings.\n",
        "\n",
        "If there is no longest common prefix, return an empty string \"\"."
      ],
      "metadata": {
        "id": "DP-cCshLI8db"
      }
    },
    {
      "cell_type": "code",
      "source": [
        "class Solution:\n",
        "    def longestCommonPrefix(self, strs: List[str]) -> str:\n",
        "        if not strs:\n",
        "            return ''\n",
        "        st=''\n",
        "        for i in range(len(strs[0])):\n",
        "            char=strs[0][i]\n",
        "            for s in strs:\n",
        "                if i>=len(s) or s[i]!=char:\n",
        "                    return st\n",
        "            st+=char\n",
        "        return st"
      ],
      "metadata": {
        "id": "j_vePm7SM_YY"
      },
      "execution_count": null,
      "outputs": []
    },
    {
      "cell_type": "markdown",
      "source": [
        "Group Anagrams ##\n",
        "\n",
        "Given an array of strings strs, group all anagrams together into sublists. You may return the output in any order.\n",
        "\n",
        "An anagram is a string that contains the exact same characters as another string, but the order of the characters can be different."
      ],
      "metadata": {
        "id": "L-nKwodQNBRN"
      }
    },
    {
      "cell_type": "code",
      "source": [
        "from typing import List\n",
        "from collections import defaultdict\n",
        "class Solution:\n",
        "    def groupAnagrams(self, strs: List[str]) -> List[List[str]]:\n",
        "        ana=defaultdict(list)\n",
        "        for word in strs:\n",
        "            key=tuple(sorted(word))\n",
        "            ana[key].append(word)\n",
        "        return list(ana.values())"
      ],
      "metadata": {
        "id": "-U7vpTU-W421"
      },
      "execution_count": null,
      "outputs": []
    },
    {
      "cell_type": "markdown",
      "source": [
        "Remove Element\n",
        "\n",
        "You are given an integer array nums and an integer val. Your task is to remove all occurrences of val from nums in-place.\n",
        "\n",
        "After removing all occurrences of val, return the number of remaining elements, say k, such that the first k elements of nums do not contain val.\n",
        "\n",
        "Note:\n",
        "\n",
        "The order of the elements which are not equal to val does not matter.\n",
        "It is not necessary to consider elements beyond the first k positions of the array.\n",
        "To be accepted, the first k elements of nums must contain only elements not equal to val.\n",
        "Return k as the final result."
      ],
      "metadata": {
        "id": "RaoCGe9EW4nz"
      }
    },
    {
      "cell_type": "code",
      "source": [
        "class Solution:\n",
        "    def removeElement(self, nums: List[int], val: int) -> int:\n",
        "        for i in range(len(nums)):\n",
        "            if nums[i]==val:\n",
        "                nums[i]=-1\n",
        "        n=len(nums)\n",
        "        for _ in range(n):\n",
        "            if -1 in nums:\n",
        "                nums.remove(-1)\n",
        "        return len(nums)"
      ],
      "metadata": {
        "id": "Pzl_xAlqY307"
      },
      "execution_count": null,
      "outputs": []
    },
    {
      "cell_type": "markdown",
      "source": [
        "Majority Element\n",
        "\n",
        "Given an array nums of size n, return the majority element.\n",
        "\n",
        "The majority element is the element that appears more than ⌊n / 2⌋ times in the array. You may assume that the majority element always exists in the array."
      ],
      "metadata": {
        "id": "7jJo4AlzZcLA"
      }
    },
    {
      "cell_type": "code",
      "source": [
        "class Solution:\n",
        "    def majorityElement(self, nums: List[int]) -> int:\n",
        "        from collections import Counter\n",
        "        c=Counter(nums)\n",
        "        n=len(nums)\n",
        "        for i in nums:\n",
        "            if c[i]>n/2:\n",
        "                return i\n"
      ],
      "metadata": {
        "id": "SN-pDRmNZdHp"
      },
      "execution_count": null,
      "outputs": []
    },
    {
      "cell_type": "markdown",
      "source": [
        "Design Hashset\n",
        "\n",
        "Design a HashSet without using any built-in hash table libraries.\n",
        "\n",
        "Implement MyHashSet class:\n",
        "\n",
        "void add(key) Inserts the value key into the HashSet.\n",
        "bool contains(key) Returns whether the value key exists in the HashSet or not.\n",
        "void remove(key) Removes the value key in the HashSet. If key does not exist in the HashSet, do nothing."
      ],
      "metadata": {
        "id": "Hzwn0RZ4Zeix"
      }
    },
    {
      "cell_type": "code",
      "source": [
        "class MyHashSet:\n",
        "\n",
        "    def __init__(self):\n",
        "        self.hash=set()\n",
        "\n",
        "    def add(self, key: int) -> None:\n",
        "        if key not in self.hash:\n",
        "            self.hash.add(key)\n",
        "\n",
        "    def remove(self, key: int) -> None:\n",
        "        if key in self.hash:\n",
        "            self.hash.remove(key)\n",
        "\n",
        "    def contains(self, key: int) -> bool:\n",
        "        if key in self.hash:\n",
        "            return True\n",
        "        else:\n",
        "            return False\n",
        "\n",
        "\n",
        "# Your MyHashSet object will be instantiated and called as such:\n",
        "# obj = MyHashSet()\n",
        "# obj.add(key)\n",
        "# obj.remove(key)\n",
        "# param_3 = obj.contains(key)"
      ],
      "metadata": {
        "id": "YjFUSsR9aA1W"
      },
      "execution_count": null,
      "outputs": []
    },
    {
      "cell_type": "markdown",
      "source": [
        "Design HashMap\n",
        "\n",
        "Design a HashMap without using any built-in hash table libraries.\n",
        "\n",
        "Implement the MyHashMap class:\n",
        "\n",
        "MyHashMap() initializes the object with an empty map.\n",
        "void put(int key, int value) inserts a (key, value) pair into the HashMap. If the key already exists in the map, update the corresponding value.\n",
        "int get(int key) returns the value to which the specified key is mapped, or -1 if this map contains no mapping for the key.\n",
        "void remove(key) removes the key and its corresponding value if the map contains the mapping for the key."
      ],
      "metadata": {
        "id": "IBly5bSAaDKS"
      }
    },
    {
      "cell_type": "code",
      "source": [
        "class MyHashMap:\n",
        "\n",
        "    def __init__(self):\n",
        "        self.map=[]\n",
        "\n",
        "    def put(self, key: int, value: int) -> None:\n",
        "        for i,(k,v) in enumerate(self.map):\n",
        "            if k==key:\n",
        "                self.map[i][1]=value\n",
        "                return\n",
        "        self.map.append([key,value])\n",
        "\n",
        "    def get(self, key: int) -> int:\n",
        "        for n in self.map:\n",
        "            if n[0]==key:\n",
        "                return n[1]\n",
        "        return -1\n",
        "\n",
        "    def remove(self, key: int) -> None:\n",
        "        for i,(k,v) in enumerate(self.map):\n",
        "            if k==key:\n",
        "                self.map.pop(i)\n",
        "\n",
        "\n",
        "# Your MyHashMap object will be instantiated and called as such:\n",
        "# obj = MyHashMap()\n",
        "# obj.put(key,value)\n",
        "# param_2 = obj.get(key)\n",
        "# obj.remove(key)"
      ],
      "metadata": {
        "id": "sYP6J4Fjb3ji"
      },
      "execution_count": null,
      "outputs": []
    },
    {
      "cell_type": "markdown",
      "source": [
        "Sort an Array\n",
        "\n",
        "You are given an array of integers nums, sort the array in ascending order and return it.\n",
        "\n",
        "You must solve the problem without using any built-in functions in O(nlog(n)) time complexity and with the smallest space complexity possible."
      ],
      "metadata": {
        "id": "Dm644LKdb6C4"
      }
    },
    {
      "cell_type": "markdown",
      "source": [
        "Sort Colors\n",
        "\n",
        "You are given an array nums consisting of n elements where each element is an integer representing a color:\n",
        "\n",
        "0 represents red\n",
        "1 represents white\n",
        "2 represents blue\n",
        "Your task is to sort the array in-place such that elements of the same color are grouped together and arranged in the order: red (0), white (1), and then blue (2).\n",
        "\n",
        "You must not use any built-in sorting functions to solve this problem."
      ],
      "metadata": {
        "id": "ftvOA95ZcQHs"
      }
    },
    {
      "cell_type": "code",
      "source": [
        "class Solution:\n",
        "    def sortArray(self, nums: List[int]) -> List[int]:\n",
        "        for i in range(len(nums)):\n",
        "            for j in range(i,len(nums)):\n",
        "                if nums[j]<nums[i]:\n",
        "                    nums[i],nums[j]=nums[j],nums[i]\n",
        "        return nums"
      ],
      "metadata": {
        "id": "ejlS7JP3cO3P"
      },
      "execution_count": null,
      "outputs": []
    },
    {
      "cell_type": "markdown",
      "source": [
        "Top K Frequent Elements\n",
        "\n",
        "Given an integer array nums and an integer k, return the k most frequent elements within the array.\n",
        "\n",
        "The test cases are generated such that the answer is always unique.\n",
        "\n",
        "You may return the output in any order."
      ],
      "metadata": {
        "id": "BVLo86WOeVx4"
      }
    },
    {
      "cell_type": "code",
      "source": [
        "class Solution:\n",
        "    def topKFrequent(self, nums: List[int], k: int) -> List[int]:\n",
        "        from collections import Counter\n",
        "        freq=Counter(nums)\n",
        "        sortedkeys=sorted(freq.keys(),key=lambda x:freq[x],reverse=True)\n",
        "        return sortedkeys[:k]"
      ],
      "metadata": {
        "id": "Paj-Vu9VeVlI"
      },
      "execution_count": null,
      "outputs": []
    },
    {
      "cell_type": "markdown",
      "source": [
        "Encode and Decode Strings ##\n",
        "\n",
        "Design an algorithm to encode a list of strings to a single string. The encoded string is then decoded back to the original list of strings.\n",
        "\n",
        "Please implement encode and decode"
      ],
      "metadata": {
        "id": "2PedyHMCeYEw"
      }
    },
    {
      "cell_type": "code",
      "source": [
        "class Solution:\n",
        "\n",
        "    def encode(self, strs: List[str]) -> str:\n",
        "        return \"\".join(f'{len(s)}:{s}' for s in strs)\n",
        "    def decode(self, s: str) -> List[str]:\n",
        "        res=[]\n",
        "        i=0\n",
        "        while i<len(s):\n",
        "            j=i\n",
        "            while s[j]!=':':\n",
        "                j+=1\n",
        "            length=int(s[i:j])\n",
        "            res.append(s[j+1:j+1+length])\n",
        "            i=j+1+length\n",
        "        return res\n"
      ],
      "metadata": {
        "id": "NdaizoQ_cT9h"
      },
      "execution_count": null,
      "outputs": []
    },
    {
      "cell_type": "markdown",
      "source": [
        "Range Sum Query 2D Immutable ##\n",
        "\n",
        "You are given a 2D matrix matrix, handle multiple queries of the following type:\n",
        "\n",
        "Calculate the sum of the elements of matrix inside the rectangle defined by its upper left corner (row1, col1) and lower right corner (row2, col2).\n",
        "Implement the NumMatrix class:\n",
        "\n",
        "NumMatrix(int[][] matrix) Initializes the object with the integer matrix matrix.\n",
        "int sumRegion(int row1, int col1, int row2, int col2) Returns the sum of the elements of matrix inside the rectangle defined by its upper left corner (row1, col1) and lower right corner (row2, col2).\n",
        "You must design an algorithm where sumRegion works on O(1) time complexity."
      ],
      "metadata": {
        "id": "kQQ1DKjdHdir"
      }
    },
    {
      "cell_type": "code",
      "source": [
        "class NumMatrix:\n",
        "\n",
        "    def __init__(self, matrix: List[List[int]]):\n",
        "        if not matrix or not matrix[0]:\n",
        "            self.prefix=[]\n",
        "            return\n",
        "        rows=len(matrix)\n",
        "        cols=len(matrix[0])\n",
        "        self.prefix=[[0]*(cols+1) for _ in range(rows+1)]\n",
        "\n",
        "        for i in range(rows):\n",
        "            for j in range(cols):\n",
        "                self.prefix[i+1][j+1]=(matrix[i][j]+self.prefix[i][j+1]+self.prefix[i+1][j]-self.prefix[i][j])\n",
        "\n",
        "    def sumRegion(self, row1: int, col1: int, row2: int, col2: int) -> int:\n",
        "        return (self.prefix[row2+1][col2+1]+self.prefix[row1][col1]-self.prefix[row2+1][col1]-self.prefix[row1][col2+1])\n",
        "\n",
        "\n",
        "# Your NumMatrix object will be instantiated and called as such:\n",
        "# obj = NumMatrix(matrix)\n",
        "# param_1 = obj.sumRegion(row1,col1,row2,col2)"
      ],
      "metadata": {
        "id": "Oa2z6ClaLtcL"
      },
      "execution_count": null,
      "outputs": []
    },
    {
      "cell_type": "markdown",
      "source": [
        "Products of Array Except Self ##\n",
        "\n",
        "Given an integer array nums, return an array output where output[i] is the product of all the elements of nums except nums[i].\n",
        "\n",
        "Each product is guaranteed to fit in a 32-bit integer.\n",
        "\n",
        "Follow-up: Could you solve it in\n",
        "O\n",
        "(\n",
        "n\n",
        ")\n",
        "O(n) time without using the division operation?\n"
      ],
      "metadata": {
        "id": "ns96k6-SLvDz"
      }
    },
    {
      "cell_type": "code",
      "source": [
        "class Solution:\n",
        "    def productExceptSelf(self, nums: List[int]) -> List[int]:\n",
        "        output=[1]*len(nums)\n",
        "        n=len(nums)\n",
        "        prefix=1\n",
        "        for i in range(n):\n",
        "            output[i]=prefix\n",
        "            prefix*=nums[i]\n",
        "        suffix=1\n",
        "        for i in range(n-1,-1,-1):\n",
        "            output[i]*=suffix\n",
        "            suffix*=nums[i]\n",
        "        return output\n",
        "        # output=[]\n",
        "        # for i in range(len(nums)):\n",
        "        #     st= nums[:i] + nums[i+1:]\n",
        "        #     res=1\n",
        "        #     for j in st:\n",
        "        #         res*=j\n",
        "        #     output.append(res)\n",
        "        # return output"
      ],
      "metadata": {
        "collapsed": true,
        "id": "VEf_g1frNjwd"
      },
      "execution_count": null,
      "outputs": []
    },
    {
      "cell_type": "markdown",
      "source": [
        "Valid Sudoku ##\n",
        "\n",
        "You are given a 9 x 9 Sudoku board board. A Sudoku board is valid if the following rules are followed:\n",
        "\n",
        "Each row must contain the digits 1-9 without duplicates.\n",
        "Each column must contain the digits 1-9 without duplicates.\n",
        "Each of the nine 3 x 3 sub-boxes of the grid must contain the digits 1-9 without duplicates.\n",
        "Return true if the Sudoku board is valid, otherwise return false\n",
        "\n",
        "Note: A board does not need to be full or be solvable to be valid."
      ],
      "metadata": {
        "id": "DErKJf20vtt2"
      }
    },
    {
      "cell_type": "code",
      "source": [
        "class Solution:\n",
        "    def isValidSudoku(self, board: List[List[str]]) -> bool:\n",
        "        rows=[set() for _ in range(9)]\n",
        "        cols=[set() for _ in range(9)]\n",
        "        boxes=[set() for _ in range(9)]\n",
        "\n",
        "        for i in range(9):\n",
        "            for j in range(9):\n",
        "                num=board[i][j]\n",
        "                if num=='.':\n",
        "                    continue\n",
        "                box_index=(i//3)*3+(j//3)\n",
        "                if num in rows[i] or num in cols[j] or num in boxes[box_index]:\n",
        "                    return False\n",
        "                rows[i].add(num)\n",
        "                cols[j].add(num)\n",
        "                boxes[box_index].add(num)\n",
        "        return True"
      ],
      "metadata": {
        "id": "xnVPQJ0xvvll"
      },
      "execution_count": null,
      "outputs": []
    },
    {
      "cell_type": "markdown",
      "source": [
        "Longest Consecutive Sequence\n",
        "\n",
        "Given an array of integers nums, return the length of the longest consecutive sequence of elements that can be formed.\n",
        "\n",
        "A consecutive sequence is a sequence of elements in which each element is exactly 1 greater than the previous element. The elements do not have to be consecutive in the original array.\n",
        "\n",
        "You must write an algorithm that runs in O(n) time."
      ],
      "metadata": {
        "id": "_NR3xJ0qvxOx"
      }
    },
    {
      "cell_type": "code",
      "source": [
        "class Solution:\n",
        "    def longestConsecutive(self, nums: List[int]) -> int:\n",
        "        if not nums:\n",
        "            return 0\n",
        "        nums.sort()\n",
        "        count=1\n",
        "        total=1\n",
        "        for i in range(len(nums)-1):\n",
        "            if nums[i] == nums[i + 1]:\n",
        "                continue\n",
        "            elif nums[i]+1==nums[i+1]:\n",
        "                count+=1\n",
        "            else:\n",
        "                total=max(total,count)\n",
        "                count=1\n",
        "        return max(total,count)"
      ],
      "metadata": {
        "id": "NyE2tZFOhcB0"
      },
      "execution_count": null,
      "outputs": []
    },
    {
      "cell_type": "markdown",
      "source": [
        "Best Time to Buy and Sell Stock II\n",
        "\n",
        "You are given an integer array prices where prices[i] is the price of a given stock on the ith day.\n",
        "\n",
        "On each day, you may decide to buy and/or sell the stock. However, you can buy it then immediately sell it on the same day. Also, you are allowed to perform any number of transactions but can hold at most one share of the stock at any time.\n",
        "\n",
        "Find and return the maximum profit you can achieve."
      ],
      "metadata": {
        "id": "ruxZbRkCk4gk"
      }
    },
    {
      "cell_type": "code",
      "source": [
        "class Solution:\n",
        "    def maxProfit(self, prices: List[int]) -> int:\n",
        "        maxp=0\n",
        "        for i in range(len(prices)-1):\n",
        "            if prices[i]<prices[i+1]:\n",
        "                maxp+=prices[i+1]-prices[i]\n",
        "        return maxp"
      ],
      "metadata": {
        "id": "dAxpfXHQk50a"
      },
      "execution_count": null,
      "outputs": []
    },
    {
      "cell_type": "markdown",
      "source": [
        "Majority Element II\n",
        "\n",
        "You are given an integer array nums of size n, find all elements that appear more than ⌊ n/3 ⌋ times. You can return the result in any order."
      ],
      "metadata": {
        "id": "QrYc9sjck8P5"
      }
    },
    {
      "cell_type": "code",
      "source": [
        "class Solution:\n",
        "    def majorityElement(self, nums: List[int]) -> List[int]:\n",
        "        from collections import Counter\n",
        "        st=[]\n",
        "        n=len(nums)\n",
        "        freq=Counter(nums)\n",
        "        for i in nums:\n",
        "            if freq[i]>n//3 and i not in st:\n",
        "                st.append(i)\n",
        "        return st"
      ],
      "metadata": {
        "id": "xU0IYx5umb_h"
      },
      "execution_count": null,
      "outputs": []
    },
    {
      "cell_type": "markdown",
      "source": [
        "Subarray Sum Equals K\n",
        "\n",
        "You are given an array of integers nums and an integer k, return the total number of subarrays whose sum equals to k.\n",
        "\n",
        "A subarray is a contiguous non-empty sequence of elements within an array."
      ],
      "metadata": {
        "id": "9DZkp-OpqtyH"
      }
    },
    {
      "cell_type": "code",
      "source": [
        "class Solution:\n",
        "    def subarraySum(self, nums: List[int], k: int) -> int:\n",
        "        from collections import defaultdict\n",
        "        count=0\n",
        "        presum=0\n",
        "        premap=defaultdict(int)\n",
        "        premap[0]=1\n",
        "        for n in nums:\n",
        "            presum+=n\n",
        "            count+=premap[presum-k]\n",
        "            premap[presum]+=1\n",
        "        return count"
      ],
      "metadata": {
        "id": "KTdhCL2Nqugq"
      },
      "execution_count": null,
      "outputs": []
    },
    {
      "cell_type": "markdown",
      "source": [
        "First Missing Positive\n",
        "\n",
        "You are given an unsorted integer array nums. Return the smallest positive integer that is not present in nums.\n",
        "\n",
        "You must implement an algorithm that runs in O(n) time and uses O(1) auxiliary space."
      ],
      "metadata": {
        "id": "kP4oLgVQRbF7"
      }
    },
    {
      "cell_type": "code",
      "source": [
        "class Solution:\n",
        "    def firstMissingPositive(self, nums: List[int]) -> int:\n",
        "        nums.sort()\n",
        "        minv=1\n",
        "        for n in nums:\n",
        "            if n<0 or n==minv-1:\n",
        "                continue\n",
        "            elif n==minv:\n",
        "                minv+=1\n",
        "            else:\n",
        "                break\n",
        "        return minv"
      ],
      "metadata": {
        "id": "7FpqrKYnRd0s"
      },
      "execution_count": null,
      "outputs": []
    },
    {
      "cell_type": "markdown",
      "source": [
        "Reverse String\n",
        "\n",
        "You are given an array of characters which represents a string s. Write a function which reverses a string.\n",
        "\n",
        "You must do this by modifying the input array in-place with O(1) extra memory."
      ],
      "metadata": {
        "id": "yfuTmUSkw58o"
      }
    },
    {
      "cell_type": "code",
      "source": [
        "class Solution:\n",
        "    def reverseString(self, s: List[str]) -> None:\n",
        "        \"\"\"\n",
        "        Do not return anything, modify s in-place instead.\n",
        "        \"\"\"\n",
        "        left=0\n",
        "        right=len(s)-1\n",
        "        while left<=right:\n",
        "            s[left],s[right]=s[right],s[left]\n",
        "            left+=1\n",
        "            right-=1"
      ],
      "metadata": {
        "id": "Emq_fTz3xAOa"
      },
      "execution_count": null,
      "outputs": []
    },
    {
      "cell_type": "markdown",
      "source": [
        "Valid Palindrome\n",
        "\n",
        "Given a string s, return true if it is a palindrome, otherwise return false.\n",
        "\n",
        "A palindrome is a string that reads the same forward and backward. It is also case-insensitive and ignores all non-alphanumeric characters.\n",
        "\n",
        "Note: Alphanumeric characters consist of letters (A-Z, a-z) and numbers (0-9)."
      ],
      "metadata": {
        "id": "LTc04dPXzB2w"
      }
    },
    {
      "cell_type": "code",
      "source": [
        "class Solution:\n",
        "    def isPalindrome(self, s: str) -> bool:\n",
        "        clean=''.join(c.lower() for c in s if c.isalnum())\n",
        "        left=0\n",
        "        right=len(clean)-1\n",
        "        while left<=right:\n",
        "            if clean[left]!=clean[right]:\n",
        "                return False\n",
        "            left+=1\n",
        "            right-=1\n",
        "        return True"
      ],
      "metadata": {
        "id": "kCxfjlMYzBh-"
      },
      "execution_count": null,
      "outputs": []
    },
    {
      "cell_type": "markdown",
      "source": [
        "Valid Palindrome II\n",
        "\n",
        "You are given a string s, return true if the s can be a palindrome after deleting at most one character from it.\n",
        "\n",
        "A palindrome is a string that reads the same forward and backward.\n",
        "\n",
        "Note: Alphanumeric characters consist of letters (A-Z, a-z) and numbers (0-9)."
      ],
      "metadata": {
        "id": "M6I1XIDn0Ab-"
      }
    },
    {
      "cell_type": "code",
      "source": [
        "class Solution:\n",
        "    def validPalindrome(self, s: str) -> bool:\n",
        "        def palindrome_range(left,right):\n",
        "            while left<right:\n",
        "                if s[left]!=s[right]:\n",
        "                    return False\n",
        "                left+=1\n",
        "                right-=1\n",
        "            return True\n",
        "        left=0\n",
        "        right=len(s)-1\n",
        "        while left<=right:\n",
        "            if s[left]!=s[right]:\n",
        "                return palindrome_range(left+1,right) or palindrome_range(left,right-1)\n",
        "            left+=1\n",
        "            right-=1\n",
        "        return True"
      ],
      "metadata": {
        "id": "AYuMdZId0BIw"
      },
      "execution_count": null,
      "outputs": []
    },
    {
      "cell_type": "markdown",
      "source": [
        "Merge Strings Alternately\n",
        "\n",
        "You are given two strings, word1 and word2. Construct a new string by merging them in alternating order, starting with word1 — take one character from word1, then one from word2, and repeat this process.\n",
        "\n",
        "If one string is longer than the other, append the remaining characters from the longer string to the end of the merged result.\n",
        "\n",
        "Return the final merged string."
      ],
      "metadata": {
        "id": "2K9nOk8U0_2C"
      }
    },
    {
      "cell_type": "code",
      "source": [
        "class Solution:\n",
        "    def mergeAlternately(self, word1: str, word2: str) -> str:\n",
        "        s=''\n",
        "        while word1 and word2:\n",
        "            s+=word1[0]\n",
        "            s+=word2[0]\n",
        "            word1=word1[1:]\n",
        "            word2=word2[1:]\n",
        "        s+=word1\n",
        "        s+=word2\n",
        "        return s"
      ],
      "metadata": {
        "id": "K_ZBVLTl0-ob"
      },
      "execution_count": null,
      "outputs": []
    },
    {
      "cell_type": "markdown",
      "source": [
        "Merge Sorted Array\n",
        "\n",
        "You are given two integer arrays nums1 and nums2, both sorted in non-decreasing order, along with two integers m and n, where:\n",
        "\n",
        "m is the number of valid elements in nums1,\n",
        "n is the number of elements in nums2.\n",
        "The array nums1 has a total length of (m+n), with the first m elements containing the values to be merged, and the last n elements set to 0 as placeholders.\n",
        "\n",
        "Your task is to merge the two arrays such that the final merged array is also sorted in non-decreasing order and stored entirely within nums1.\n",
        "You must modify nums1 in-place and do not return anything from the function."
      ],
      "metadata": {
        "id": "QAMS33C3WkrU"
      }
    },
    {
      "cell_type": "code",
      "source": [
        "class Solution:\n",
        "    def merge(self, nums1: List[int], m: int, nums2: List[int], n: int) -> None:\n",
        "        \"\"\"\n",
        "        Do not return anything, modify nums1 in-place instead.\n",
        "        \"\"\"\n",
        "        i=m-1\n",
        "        j=n-1\n",
        "        k=m+n-1\n",
        "        while i>=0 and j>=0:\n",
        "            if nums1[i]>nums2[j]:\n",
        "                nums1[k]=nums1[i]\n",
        "                i-=1\n",
        "            else:\n",
        "                nums1[k]=nums2[j]\n",
        "                j-=1\n",
        "            k-=1\n",
        "        while j>=0:\n",
        "            nums1[k]=nums2[j]\n",
        "            k-=1\n",
        "            j-=1\n"
      ],
      "metadata": {
        "id": "BI5nfaaGWlmU"
      },
      "execution_count": null,
      "outputs": []
    },
    {
      "cell_type": "markdown",
      "source": [
        "Remove Duplicates From Sorted Array\n",
        "\n",
        "You are given an integer array nums sorted in non-decreasing order. Your task is to remove duplicates from nums in-place so that each element appears only once.\n",
        "\n",
        "After removing the duplicates, return the number of unique elements, denoted as k, such that the first k elements of nums contain the unique elements.\n",
        "\n",
        "Note:\n",
        "\n",
        "The order of the unique elements should remain the same as in the original array.\n",
        "It is not necessary to consider elements beyond the first k positions of the array.\n",
        "To be accepted, the first k elements of nums must contain all the unique elements.\n",
        "Return k as the final result."
      ],
      "metadata": {
        "id": "uVEbB_ZkXHJ_"
      }
    },
    {
      "cell_type": "code",
      "source": [
        "class Solution:\n",
        "    def removeDuplicates(self, nums: List[int]) -> int:\n",
        "        for i in range(len(nums)-1,0,-1):\n",
        "            if nums[i]==nums[i-1]:\n",
        "                nums.pop(i)\n",
        "        return len(nums)"
      ],
      "metadata": {
        "id": "AB1Qy1grXICO"
      },
      "execution_count": null,
      "outputs": []
    },
    {
      "cell_type": "markdown",
      "source": [
        "Two Integer Sum II\n",
        "\n",
        "Given an array of integers numbers that is sorted in non-decreasing order.\n",
        "\n",
        "Return the indices (1-indexed) of two numbers, [index1, index2], such that they add up to a given target number target and index1 < index2. Note that index1 and index2 cannot be equal, therefore you may not use the same element twice.\n",
        "\n",
        "There will always be exactly one valid solution.\n",
        "\n",
        "Your solution must use\n",
        "O\n",
        "(\n",
        "1\n",
        ")\n",
        "O(1) additional space."
      ],
      "metadata": {
        "id": "b8Jtv3qPZ9kP"
      }
    },
    {
      "cell_type": "code",
      "source": [
        "class Solution:\n",
        "    def twoSum(self, numbers: List[int], target: int) -> List[int]:\n",
        "        left=0\n",
        "        right=len(numbers)-1\n",
        "        while left<right:\n",
        "            temp=numbers[left]+numbers[right]\n",
        "            if temp==target:\n",
        "                return [left+1,right+1]\n",
        "            elif temp<target:\n",
        "                left+=1\n",
        "            else:\n",
        "                right-=1"
      ],
      "metadata": {
        "id": "jbr1mbJ5Z-g4"
      },
      "execution_count": null,
      "outputs": []
    },
    {
      "cell_type": "markdown",
      "source": [
        "3Sum\n",
        "\n",
        "Given an integer array nums, return all the triplets [nums[i], nums[j], nums[k]] where nums[i] + nums[j] + nums[k] == 0, and the indices i, j and k are all distinct.\n",
        "\n",
        "The output should not contain any duplicate triplets. You may return the output and the triplets in any order."
      ],
      "metadata": {
        "id": "GKCYuJ9ldceX"
      }
    },
    {
      "cell_type": "code",
      "source": [
        "class Solution:\n",
        "    def threeSum(self, nums: List[int]) -> List[List[int]]:\n",
        "        nums.sort()\n",
        "        n=len(nums)\n",
        "        st=[]\n",
        "        for i in range(n-2):\n",
        "            if i>0 and nums[i]==nums[i-1]:\n",
        "                continue\n",
        "            left=i+1\n",
        "            right=n-1\n",
        "            while left<right:\n",
        "                temp=nums[left]+nums[right]+nums[i]\n",
        "                if temp==0:\n",
        "                    st.append([nums[left],nums[right],nums[i]])\n",
        "                    left+=1\n",
        "                    right-=1\n",
        "                    while left<right and nums[left]==nums[left-1]:\n",
        "                        left+=1\n",
        "                    while left<right and nums[right]==nums[right+1]:\n",
        "                        right-=1\n",
        "                elif temp<0:\n",
        "                    left+=1\n",
        "                else:\n",
        "                    right-=1\n",
        "        return st"
      ],
      "metadata": {
        "id": "5qXYf51YddkF"
      },
      "execution_count": null,
      "outputs": []
    },
    {
      "cell_type": "markdown",
      "source": [
        "4Sum\n",
        "\n",
        "You are given an integer array nums of size n, return an array of all the unique quadruplets [nums[a], nums[b], nums[c], nums[d]] such that:\n",
        "\n",
        "0 <= a, b, c, d < n\n",
        "a, b, c, and d are distinct.\n",
        "nums[a] + nums[b] + nums[c] + nums[d] == target\n",
        "You may return the answer in any order.\n",
        "\n",
        "Note: [1,0,3,2] and [3,0,1,2] are considered as same quadruplets."
      ],
      "metadata": {
        "id": "stFTI2RMfJL_"
      }
    },
    {
      "cell_type": "code",
      "source": [
        "class Solution:\n",
        "    def fourSum(self, nums: List[int], target: int) -> List[List[int]]:\n",
        "        nums.sort()\n",
        "        st=[]\n",
        "        for m in range(len(nums)-2):\n",
        "            if m>0 and nums[m]==nums[m-1]:\n",
        "                continue\n",
        "            for n in range(m+1,len(nums)-2):\n",
        "                if n>m+1 and nums[n]==nums[n-1]:\n",
        "                    continue\n",
        "                left=n+1\n",
        "                right=len(nums)-1\n",
        "                while left<right:\n",
        "                    temp=nums[m]+nums[n]+nums[left]+nums[right]\n",
        "                    if temp==target:\n",
        "                        st.append([nums[m],nums[n],nums[left],nums[right]])\n",
        "                        left+=1\n",
        "                        right-=1\n",
        "                        while left<right and nums[left]==nums[left-1]:\n",
        "                            left+=1\n",
        "                        while left<right and nums[right]==nums[right+1]:\n",
        "                            right-=1\n",
        "                    elif temp<target:\n",
        "                        left+=1\n",
        "                    else:\n",
        "                        right-=1\n",
        "        return st"
      ],
      "metadata": {
        "id": "cqjh8HW2fKBH"
      },
      "execution_count": null,
      "outputs": []
    },
    {
      "cell_type": "markdown",
      "source": [
        "Rotate Array\n",
        "\n",
        "You are given an integer array nums, rotate the array to the right by k steps, where k is non-negative.\n",
        "\n",
        "Example 1:\n",
        "\n",
        "Input: nums = [1,2,3,4,5,6,7,8], k = 4\n",
        "\n",
        "Output: [5,6,7,8,1,2,3,4]\n",
        "Explanation:\n",
        "rotate 1 steps to the right: [8,1,2,3,4,5,6,7]\n",
        "rotate 2 steps to the right: [7,8,1,2,3,4,5,6]\n",
        "rotate 3 steps to the right: [6,7,8,1,2,3,4,5]\n",
        "rotate 4 steps to the right: [5,6,7,8,1,2,3,4]\n",
        "\n"
      ],
      "metadata": {
        "id": "Y-ZBR_nRhWZG"
      }
    },
    {
      "cell_type": "code",
      "source": [
        "class Solution:\n",
        "    def rotate(self, nums: List[int], k: int) -> None:\n",
        "        \"\"\"\n",
        "        Do not return anything, modify nums in-place instead.\n",
        "        \"\"\"\n",
        "        n=len(nums)\n",
        "        k=k%n\n",
        "\n",
        "        nums.reverse()\n",
        "        nums[k:]=reversed(nums[k:])\n",
        "        nums[:k]=reversed(nums[:k])"
      ],
      "metadata": {
        "id": "O7C5PI9vhX8l"
      },
      "execution_count": null,
      "outputs": []
    },
    {
      "cell_type": "markdown",
      "source": [
        "Container With Most Water\n",
        "\n",
        "You are given an integer array heights where heights[i] represents the height of the\n",
        "i\n",
        "t\n",
        "h\n",
        "i\n",
        "th\n",
        "  bar.\n",
        "\n",
        "You may choose any two bars to form a container. Return the maximum amount of water a container can store."
      ],
      "metadata": {
        "id": "mxLU-zOxiv0S"
      }
    },
    {
      "cell_type": "code",
      "source": [
        "class Solution:\n",
        "    def maxArea(self, heights: List[int]) -> int:\n",
        "        left=0\n",
        "        right=len(heights)-1\n",
        "        max_ht=0\n",
        "        while left<right:\n",
        "            diff=right-left\n",
        "            ht=min(heights[left],heights[right])\n",
        "            temp=diff*ht\n",
        "            max_ht=max(max_ht,temp)\n",
        "            if heights[left]<heights[right]:\n",
        "                left+=1\n",
        "            else:\n",
        "                right-=1\n",
        "        return max_ht"
      ],
      "metadata": {
        "id": "W5oXWSygixWu"
      },
      "execution_count": null,
      "outputs": []
    },
    {
      "cell_type": "markdown",
      "source": [
        "Boats to Save People\n",
        "\n",
        "You are given an integer array people where people[i] is the weight of the ith person, and an infinite number of boats where each boat can carry a maximum weight of limit. Each boat carries at most two people at the same time, provided the sum of the weight of those people is at most limit.\n",
        "\n",
        "Return the minimum number of boats to carry every given person."
      ],
      "metadata": {
        "id": "Fm7pq-4ZlMZk"
      }
    },
    {
      "cell_type": "code",
      "source": [
        "class Solution:\n",
        "    def numRescueBoats(self, people: List[int], limit: int) -> int:\n",
        "        people.sort()\n",
        "        left=0\n",
        "        right=len(people)-1\n",
        "        st=0\n",
        "        while left<=right:\n",
        "            if people[left]+people[right]<=limit:\n",
        "                left+=1\n",
        "            right-=1\n",
        "            st+=1\n",
        "        return st"
      ],
      "metadata": {
        "id": "XE1YAM1mlNhc"
      },
      "execution_count": null,
      "outputs": []
    },
    {
      "cell_type": "markdown",
      "source": [
        "Trapping Rain Water\n",
        "\n",
        "You are given an array of non-negative integers height which represent an elevation map. Each value height[i] represents the height of a bar, which has a width of 1.\n",
        "\n",
        "Return the maximum area of water that can be trapped between the bars."
      ],
      "metadata": {
        "id": "Nl-5NypoDgyt"
      }
    },
    {
      "cell_type": "code",
      "source": [
        "class Solution:\n",
        "    def trap(self, height: List[int]) -> int:\n",
        "        water=0\n",
        "        left=0\n",
        "        right=len(height)-1\n",
        "        max_left=max_right=0\n",
        "        while left<right:\n",
        "            if height[left]<=height[right]:\n",
        "                if height[left]>=max_left:\n",
        "                    max_left=height[left]\n",
        "                else:\n",
        "                    water+=max_left-height[left]\n",
        "                left+=1\n",
        "            else:\n",
        "                if height[right]>=max_right:\n",
        "                    max_right=height[right]\n",
        "                else:\n",
        "                    water+=max_right-height[right]\n",
        "                right-=1\n",
        "        return water"
      ],
      "metadata": {
        "id": "Vvo7IClwDh0T"
      },
      "execution_count": null,
      "outputs": []
    },
    {
      "cell_type": "markdown",
      "source": [
        "Best Time to Buy and Sell Stock\n",
        "\n",
        "You are given an integer array prices where prices[i] is the price of NeetCoin on the ith day.\n",
        "\n",
        "You may choose a single day to buy one NeetCoin and choose a different day in the future to sell it.\n",
        "\n",
        "Return the maximum profit you can achieve. You may choose to not make any transactions, in which case the profit would be 0."
      ],
      "metadata": {
        "id": "FOSH5zO465fS"
      }
    },
    {
      "cell_type": "code",
      "source": [
        "class Solution:\n",
        "    def maxProfit(self, prices: List[int]) -> int:\n",
        "        mini=float('inf')\n",
        "        max_val=0\n",
        "        for i in prices:\n",
        "            if i<mini:\n",
        "                mini=i\n",
        "            else:\n",
        "                max_val=max(max_val,i-mini)\n",
        "        return max_val"
      ],
      "metadata": {
        "id": "J94xE7hK66T5"
      },
      "execution_count": null,
      "outputs": []
    },
    {
      "cell_type": "markdown",
      "source": [
        "Longest Substring Without Repeating Characters\n",
        "\n",
        "Given a string s, find the length of the longest substring without duplicate characters.\n",
        "\n",
        "A substring is a contiguous sequence of characters within a string."
      ],
      "metadata": {
        "id": "99acVPX_C9bx"
      }
    },
    {
      "cell_type": "code",
      "source": [
        "class Solution:\n",
        "    def lengthOfLongestSubstring(self, s: str) -> int:\n",
        "        sym=set()\n",
        "        i=0\n",
        "        max_len=0\n",
        "        temp=''\n",
        "        for j in range(len(s)):\n",
        "            while s[j] in sym:\n",
        "                sym.remove(s[i])\n",
        "                i+=1\n",
        "            sym.add(s[j])\n",
        "            max_len=max(max_len,j-i+1)\n",
        "        return max_len"
      ],
      "metadata": {
        "id": "_7MUlFFd9RW2"
      },
      "execution_count": null,
      "outputs": []
    },
    {
      "cell_type": "markdown",
      "source": [
        "Longest Repeating Character Replacement\n",
        "\n",
        "You are given a string s consisting of only uppercase english characters and an integer k. You can choose up to k characters of the string and replace them with any other uppercase English character.\n",
        "\n",
        "After performing at most k replacements, return the length of the longest substring which contains only one distinct character."
      ],
      "metadata": {
        "id": "MnhPmo1VC2xh"
      }
    },
    {
      "cell_type": "code",
      "source": [
        "from collections import defaultdict\n",
        "class Solution:\n",
        "    def characterReplacement(self, s: str, k: int) -> int:\n",
        "        i=0\n",
        "        freq=defaultdict(int)\n",
        "        count=0\n",
        "        max_len=0\n",
        "        for j in range(len(s)):\n",
        "            freq[s[j]]+=1\n",
        "            count=max(count,freq[s[j]])\n",
        "\n",
        "            while (j-i+1)-count>k:\n",
        "                freq[s[i]]-=1\n",
        "                i+=1\n",
        "\n",
        "            max_len=max(max_len,j-i+1)\n",
        "        return max_len"
      ],
      "metadata": {
        "id": "L9EBWmxPC3sU"
      },
      "execution_count": null,
      "outputs": []
    },
    {
      "cell_type": "markdown",
      "source": [
        "Permutation in String\n",
        "\n",
        "You are given two strings s1 and s2.\n",
        "\n",
        "Return true if s2 contains a permutation of s1, or false otherwise. That means if a permutation of s1 exists as a substring of s2, then return true.\n",
        "\n",
        "Both strings only contain lowercase letters."
      ],
      "metadata": {
        "id": "fjqQB1TcC-rN"
      }
    },
    {
      "cell_type": "code",
      "source": [
        "class Solution:\n",
        "    def checkInclusion(self, s1: str, s2: str) -> bool:\n",
        "        from collections import Counter\n",
        "        freq=Counter(s1)\n",
        "        n=len(s1)\n",
        "        left=0\n",
        "        while left<=len(s2)-n:\n",
        "            right=left+n\n",
        "            win=s2[left:right]\n",
        "            ct=Counter(win)\n",
        "            if ct==freq:\n",
        "                return True\n",
        "            left+=1\n",
        "        return False"
      ],
      "metadata": {
        "id": "YtFIMjP2FILB"
      },
      "execution_count": null,
      "outputs": []
    },
    {
      "cell_type": "markdown",
      "source": [
        "Minimum Window Substring\n",
        "\n",
        "Given two strings s and t, return the shortest substring of s such that every character in t, including duplicates, is present in the substring. If such a substring does not exist, return an empty string \"\".\n",
        "\n",
        "You may assume that the correct output is always unique.\n",
        "\n"
      ],
      "metadata": {
        "id": "54MTRuCSFLu7"
      }
    },
    {
      "cell_type": "code",
      "source": [
        "class Solution:\n",
        "    def minWindow(self, s: str, t: str) -> str:\n",
        "        from collections import Counter\n",
        "        t_count=Counter(t)\n",
        "        req=len(t_count)\n",
        "        min_len=float('inf')\n",
        "        res=''\n",
        "\n",
        "        for i in range(len(s)):\n",
        "            win=Counter()\n",
        "            formed=0\n",
        "            for j in range(i,len(s)):\n",
        "                win[s[j]]+=1\n",
        "\n",
        "                if s[j] in t_count and win[s[j]]==t_count[s[j]]:\n",
        "                        formed+=1\n",
        "                if formed==req:\n",
        "                    if j-i+1<min_len:\n",
        "                        min_len=j-i+1\n",
        "                        res=s[i:j+1]\n",
        "                    break\n",
        "        return res"
      ],
      "metadata": {
        "id": "jzKlBeCUGDW2"
      },
      "execution_count": null,
      "outputs": []
    },
    {
      "cell_type": "markdown",
      "source": [
        "Sliding Window Maximum\n",
        "\n",
        "You are given an array of integers nums and an integer k. There is a sliding window of size k that starts at the left edge of the array. The window slides one position to the right until it reaches the right edge of the array.\n",
        "\n",
        "Return a list that contains the maximum element in the window at each step."
      ],
      "metadata": {
        "id": "PHLHADpFKVzT"
      }
    },
    {
      "cell_type": "code",
      "source": [
        "class Solution:\n",
        "    def maxSlidingWindow(self, nums: List[int], k: int) -> List[int]:\n",
        "        st=[]\n",
        "        left=0\n",
        "        while left<=len(nums)-k:\n",
        "            right=left+k\n",
        "            win=nums[left:right]\n",
        "            el=max(win)\n",
        "            st.append(el)\n",
        "            left+=1\n",
        "        return st"
      ],
      "metadata": {
        "id": "H1kS4hz4KW-y"
      },
      "execution_count": null,
      "outputs": []
    },
    {
      "cell_type": "markdown",
      "source": [
        "Valid Parentheses\n",
        "\n",
        "You are given a string s consisting of the following characters: '(', ')', '{', '}', '[' and ']'.\n",
        "\n",
        "The input string s is valid if and only if:\n",
        "\n",
        "Every open bracket is closed by the same type of close bracket.\n",
        "Open brackets are closed in the correct order.\n",
        "Every close bracket has a corresponding open bracket of the same type.\n",
        "Return true if s is a valid string, and false otherwise."
      ],
      "metadata": {
        "id": "v-ckUJEKLjYG"
      }
    },
    {
      "cell_type": "code",
      "source": [
        "class Solution:\n",
        "    def isValid(self, s: str) -> bool:\n",
        "        sy={')':'(',']':'[','}':'{'}\n",
        "        st=[]\n",
        "        for i in s:\n",
        "            if i in sy.values():\n",
        "                st.append(i)\n",
        "            else:\n",
        "                if not st or sy[i]!=st[-1]:\n",
        "                    return False\n",
        "                st.pop()\n",
        "        return len(st)==0"
      ],
      "metadata": {
        "id": "VEuBGfBMLl5h"
      },
      "execution_count": null,
      "outputs": []
    },
    {
      "cell_type": "markdown",
      "source": [
        "Minimum Stack\n",
        "\\\n",
        "Design a stack class that supports the push, pop, top, and getMin operations.\n",
        "\n",
        "MinStack() initializes the stack object.\n",
        "void push(int val) pushes the element val onto the stack.\n",
        "void pop() removes the element on the top of the stack.\n",
        "int top() gets the top element of the stack.\n",
        "int getMin() retrieves the minimum element in the stack.\n",
        "Each function should run in\n",
        "O\n",
        "(\n",
        "1\n",
        ")\n",
        "O(1) time."
      ],
      "metadata": {
        "id": "MG1Yus3WOERR"
      }
    },
    {
      "cell_type": "code",
      "source": [
        "class MinStack:\n",
        "\n",
        "    def __init__(self):\n",
        "        self.minStack=[]\n",
        "\n",
        "    def push(self, val: int) -> None:\n",
        "        self.minStack.append(val)\n",
        "\n",
        "    def pop(self) -> None:\n",
        "        self.minStack.pop()\n",
        "\n",
        "    def top(self) -> int:\n",
        "        return self.minStack[-1]\n",
        "\n",
        "    def getMin(self) -> int:\n",
        "        return min(self.minStack)\n"
      ],
      "metadata": {
        "id": "VZHywj1LOFWb"
      },
      "execution_count": null,
      "outputs": []
    },
    {
      "cell_type": "markdown",
      "source": [
        "Evaluate Reverse Polish Notation\n",
        "\n",
        "You are given an array of strings tokens that represents a valid arithmetic expression in Reverse Polish Notation.\n",
        "\n",
        "Return the integer that represents the evaluation of the expression.\n",
        "\n",
        "The operands may be integers or the results of other operations.\n",
        "The operators include '+', '-', '*', and '/'.\n",
        "Assume that division between integers always truncates toward zero."
      ],
      "metadata": {
        "id": "0aKGyYX8QFPS"
      }
    },
    {
      "cell_type": "code",
      "source": [
        "class Solution:\n",
        "    def evalRPN(self, tokens: List[str]) -> int:\n",
        "        st=[]\n",
        "        for i in tokens:\n",
        "            if i not in \"+-*/\":\n",
        "                st.append(int(i))\n",
        "            else:\n",
        "                v1=st.pop()\n",
        "                v2=st.pop()\n",
        "                if i=='+':\n",
        "                    st.append(v1+v2)\n",
        "                elif i=='-':\n",
        "                    st.append(v2-v1)\n",
        "                elif i=='*':\n",
        "                    st.append(v1*v2)\n",
        "                elif i=='/':\n",
        "                    st.append(int(v2/v1))\n",
        "        return st[0]"
      ],
      "metadata": {
        "id": "fnHp513OQGJn"
      },
      "execution_count": null,
      "outputs": []
    },
    {
      "cell_type": "markdown",
      "source": [
        "Generate Parentheses\n",
        "\n",
        "You are given an integer n. Return all well-formed parentheses strings that you can generate with n pairs of parentheses."
      ],
      "metadata": {
        "id": "B4MzBKQSR421"
      }
    },
    {
      "cell_type": "code",
      "source": [
        "class Solution:\n",
        "    def generateParenthesis(self, n: int) -> List[str]:\n",
        "        res=[]\n",
        "        def backtracking(curr,opened,close):\n",
        "            if len(curr)==2*n:\n",
        "                res.append(curr)\n",
        "                return\n",
        "            if opened<n:\n",
        "                backtracking(curr+'(',opened+1,close)\n",
        "            if close<opened:\n",
        "                backtracking(curr+')',opened,close+1)\n",
        "        backtracking('',0,0)\n",
        "        return res"
      ],
      "metadata": {
        "id": "7qKjTsQBR5yc"
      },
      "execution_count": null,
      "outputs": []
    },
    {
      "cell_type": "markdown",
      "source": [
        "Daily Temperatures\n",
        "\n",
        "You are given an array of integers temperatures where temperatures[i] represents the daily temperatures on the ith day.\n",
        "\n",
        "Return an array result where result[i] is the number of days after the ith day before a warmer temperature appears on a future day. If there is no day in the future where a warmer temperature will appear for the ith day, set result[i] to 0 instead."
      ],
      "metadata": {
        "id": "3YjOtZe6T7eM"
      }
    },
    {
      "cell_type": "code",
      "source": [
        "class Solution:\n",
        "    def dailyTemperatures(self, temp: List[int]) -> List[int]:\n",
        "        prev=[]\n",
        "        st=[0]*len(temp)\n",
        "        for i in range(len(temp)):\n",
        "            while prev and temp[i]>temp[prev[-1]]:\n",
        "                p=prev.pop()\n",
        "                st[p]=i-p\n",
        "            prev.append(i)\n",
        "        return st"
      ],
      "metadata": {
        "id": "0ykUY1VwT8Vn"
      },
      "execution_count": null,
      "outputs": []
    },
    {
      "cell_type": "markdown",
      "source": [
        "\n",
        "\n",
        "Car Fleet\n",
        "\n",
        "There are n cars traveling to the same destination on a one-lane highway.\n",
        "\n",
        "You are given two arrays of integers position and speed, both of length n.\n",
        "\n",
        "position[i] is the position of the ith car (in miles)\n",
        "speed[i] is the speed of the ith car (in miles per hour)\n",
        "The destination is at position target miles.\n",
        "\n",
        "A car can not pass another car ahead of it. It can only catch up to another car and then drive at the same speed as the car ahead of it.\n",
        "\n",
        "A car fleet is a non-empty set of cars driving at the same position and same speed. A single car is also considered a car fleet.\n",
        "\n",
        "If a car catches up to a car fleet the moment the fleet reaches the destination, then the car is considered to be part of the fleet.\n",
        "\n",
        "Return the number of different car fleets that will arrive at the destination."
      ],
      "metadata": {
        "id": "PC4h9DKaVCmA"
      }
    },
    {
      "cell_type": "code",
      "source": [
        "class Solution:\n",
        "    def carFleet(self, target: int, position: List[int], speed: List[int]) -> int:\n",
        "        cars=sorted(zip(position,speed), reverse=True)\n",
        "        time=[(target-p)/s for p,s in cars]\n",
        "\n",
        "        fleet=0\n",
        "        prev=0\n",
        "        for t in time:\n",
        "            if t>prev:\n",
        "                fleet+=1\n",
        "                prev=t\n",
        "        return fleet"
      ],
      "metadata": {
        "id": "15wmenreVDqt"
      },
      "execution_count": null,
      "outputs": []
    },
    {
      "cell_type": "markdown",
      "source": [
        "Largest Rectangle In Histogram\n",
        "\n",
        "You are given an array of integers heights where heights[i] represents the height of a bar. The width of each bar is 1.\n",
        "\n",
        "Return the area of the largest rectangle that can be formed among the bars.\n",
        "\n",
        "Note: This chart is known as a histogram."
      ],
      "metadata": {
        "id": "kkjPtHKkXfxC"
      }
    },
    {
      "cell_type": "code",
      "source": [
        "class Solution:\n",
        "    def largestRectangleArea(self, heights: List[int]) -> int:\n",
        "        res=0\n",
        "        for i in range(len(heights)):\n",
        "            mini=heights[i]\n",
        "            for j in range(i,len(heights)):\n",
        "                mini=min(mini,heights[j])\n",
        "                area=mini*(j-i+1)\n",
        "                res=max(res,area)\n",
        "        return res"
      ],
      "metadata": {
        "id": "-5m0VKnOXg0t"
      },
      "execution_count": null,
      "outputs": []
    },
    {
      "cell_type": "markdown",
      "source": [
        "Binary Search\n",
        "\n",
        "You are given an array of distinct integers nums, sorted in ascending order, and an integer target.\n",
        "\n",
        "Implement a function to search for target within nums. If it exists, then return its index, otherwise, return -1.\n",
        "\n",
        "Your solution must run in\n",
        "O\n",
        "(\n",
        "l\n",
        "o\n",
        "g\n",
        "n\n",
        ")\n",
        "O(logn) time."
      ],
      "metadata": {
        "id": "DpHIxj75bBMb"
      }
    },
    {
      "cell_type": "code",
      "source": [
        "class Solution:\n",
        "    def search(self, nums: List[int], target: int) -> int:\n",
        "        if len(nums)<=0:\n",
        "            return -1\n",
        "        l=0\n",
        "        r=len(nums)-1\n",
        "        while l<=r:\n",
        "            mid=(l+r)//2\n",
        "            if nums[mid]==target:\n",
        "                return mid\n",
        "            elif nums[mid]<target:\n",
        "                l=mid+1\n",
        "            elif nums[mid]>target:\n",
        "                r=mid-1\n",
        "        return -1\n",
        ""
      ],
      "metadata": {
        "id": "omCGHjFpbCLL"
      },
      "execution_count": null,
      "outputs": []
    }
  ]
}