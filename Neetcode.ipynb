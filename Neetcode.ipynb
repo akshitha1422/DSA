{
  "nbformat": 4,
  "nbformat_minor": 0,
  "metadata": {
    "colab": {
      "provenance": [],
      "authorship_tag": "ABX9TyMW0xoi6PjCAovUrFv+6OBk",
      "include_colab_link": true
    },
    "kernelspec": {
      "name": "python3",
      "display_name": "Python 3"
    },
    "language_info": {
      "name": "python"
    }
  },
  "cells": [
    {
      "cell_type": "markdown",
      "metadata": {
        "id": "view-in-github",
        "colab_type": "text"
      },
      "source": [
        "<a href=\"https://colab.research.google.com/github/akshitha1422/DSA/blob/main/Neetcode.ipynb\" target=\"_parent\"><img src=\"https://colab.research.google.com/assets/colab-badge.svg\" alt=\"Open In Colab\"/></a>"
      ]
    },
    {
      "cell_type": "markdown",
      "source": [
        "Concatenation of Array\n",
        "\n",
        "You are given an integer array nums of length n. Create an array ans of length 2n where ans[i] == nums[i] and ans[i + n] == nums[i] for 0 <= i < n (0-indexed).\n",
        "\n",
        "Specifically, ans is the concatenation of two nums arrays.\n",
        "\n",
        "Return the array ans."
      ],
      "metadata": {
        "id": "aByIzV7tDegI"
      }
    },
    {
      "cell_type": "code",
      "execution_count": null,
      "metadata": {
        "id": "L4hcIyojBXG_"
      },
      "outputs": [],
      "source": [
        "class Solution:\n",
        "    def getConcatenation(self, nums: List[int]) -> List[int]:\n",
        "        # ans=nums+nums\n",
        "        # return ans\n",
        "        n=len(nums)\n",
        "        ans=[0]*2*n\n",
        "        for i in range(n):\n",
        "            ans[i]=ans[i+n]=nums[i]\n",
        "        return ans"
      ]
    },
    {
      "cell_type": "markdown",
      "source": [
        "Contains Duplicate\n",
        "\n",
        "Given an integer array nums, return true if any value appears more than once in the array, otherwise return false."
      ],
      "metadata": {
        "id": "kiZjJGVkDijx"
      }
    },
    {
      "cell_type": "code",
      "source": [
        "class Solution:\n",
        "    def hasDuplicate(self, nums: List[int]) -> bool:\n",
        "        from collections import Counter\n",
        "        st=Counter(nums)\n",
        "        for i in st:\n",
        "            if st[i]>1:\n",
        "                return True\n",
        "        return False"
      ],
      "metadata": {
        "id": "-uLzJDz2D4jy"
      },
      "execution_count": null,
      "outputs": []
    },
    {
      "cell_type": "markdown",
      "source": [
        "Valid Anagram\n",
        "\n",
        "Given two strings s and t, return true if the two strings are anagrams of each other, otherwise return false.\n",
        "\n",
        "An anagram is a string that contains the exact same characters as another string, but the order of the characters can be different."
      ],
      "metadata": {
        "id": "agNBGNAmD-Kc"
      }
    },
    {
      "cell_type": "code",
      "source": [
        "class Solution:\n",
        "    def isAnagram(self, s: str, t: str) -> bool:\n",
        "        from collections import Counter\n",
        "        s1=Counter(sorted(s))\n",
        "        s2=Counter(sorted(t))\n",
        "        if s1==s2:\n",
        "            return True\n",
        "        return False"
      ],
      "metadata": {
        "id": "Go4lXpH4Eajs"
      },
      "execution_count": null,
      "outputs": []
    },
    {
      "cell_type": "markdown",
      "source": [
        "Two Sum\n",
        "\n",
        "Given an array of integers nums and an integer target, return the indices i and j such that nums[i] + nums[j] == target and i != j.\n",
        "\n",
        "You may assume that every input has exactly one pair of indices i and j that satisfy the condition.\n",
        "\n",
        "Return the answer with the smaller index first."
      ],
      "metadata": {
        "id": "cUtfEu44I6By"
      }
    },
    {
      "cell_type": "code",
      "source": [
        "class Solution:\n",
        "    def twoSum(self, nums: List[int], target: int) -> List[int]:\n",
        "        st={}\n",
        "        mini=float('inf')\n",
        "        for i,n in enumerate(nums):\n",
        "            if target-n in st:\n",
        "                return [st[target-n],i]\n",
        "            st[n]=i"
      ],
      "metadata": {
        "id": "KSiZ7P3PI67f"
      },
      "execution_count": null,
      "outputs": []
    },
    {
      "cell_type": "markdown",
      "source": [
        "Longest Common Prefix ##\n",
        "\n",
        "You are given an array of strings strs. Return the longest common prefix of all the strings.\n",
        "\n",
        "If there is no longest common prefix, return an empty string \"\"."
      ],
      "metadata": {
        "id": "DP-cCshLI8db"
      }
    },
    {
      "cell_type": "code",
      "source": [
        "class Solution:\n",
        "    def longestCommonPrefix(self, strs: List[str]) -> str:\n",
        "        if not strs:\n",
        "            return ''\n",
        "        st=''\n",
        "        for i in range(len(strs[0])):\n",
        "            char=strs[0][i]\n",
        "            for s in strs:\n",
        "                if i>=len(s) or s[i]!=char:\n",
        "                    return st\n",
        "            st+=char\n",
        "        return st"
      ],
      "metadata": {
        "id": "j_vePm7SM_YY"
      },
      "execution_count": null,
      "outputs": []
    },
    {
      "cell_type": "markdown",
      "source": [
        "Group Anagrams ##\n",
        "\n",
        "Given an array of strings strs, group all anagrams together into sublists. You may return the output in any order.\n",
        "\n",
        "An anagram is a string that contains the exact same characters as another string, but the order of the characters can be different."
      ],
      "metadata": {
        "id": "L-nKwodQNBRN"
      }
    },
    {
      "cell_type": "code",
      "source": [
        "from typing import List\n",
        "from collections import defaultdict\n",
        "class Solution:\n",
        "    def groupAnagrams(self, strs: List[str]) -> List[List[str]]:\n",
        "        ana=defaultdict(list)\n",
        "        for word in strs:\n",
        "            key=tuple(sorted(word))\n",
        "            ana[key].append(word)\n",
        "        return list(ana.values())"
      ],
      "metadata": {
        "id": "-U7vpTU-W421"
      },
      "execution_count": null,
      "outputs": []
    },
    {
      "cell_type": "markdown",
      "source": [
        "Remove Element\n",
        "\n",
        "You are given an integer array nums and an integer val. Your task is to remove all occurrences of val from nums in-place.\n",
        "\n",
        "After removing all occurrences of val, return the number of remaining elements, say k, such that the first k elements of nums do not contain val.\n",
        "\n",
        "Note:\n",
        "\n",
        "The order of the elements which are not equal to val does not matter.\n",
        "It is not necessary to consider elements beyond the first k positions of the array.\n",
        "To be accepted, the first k elements of nums must contain only elements not equal to val.\n",
        "Return k as the final result."
      ],
      "metadata": {
        "id": "RaoCGe9EW4nz"
      }
    },
    {
      "cell_type": "code",
      "source": [
        "class Solution:\n",
        "    def removeElement(self, nums: List[int], val: int) -> int:\n",
        "        for i in range(len(nums)):\n",
        "            if nums[i]==val:\n",
        "                nums[i]=-1\n",
        "        n=len(nums)\n",
        "        for _ in range(n):\n",
        "            if -1 in nums:\n",
        "                nums.remove(-1)\n",
        "        return len(nums)"
      ],
      "metadata": {
        "id": "Pzl_xAlqY307"
      },
      "execution_count": null,
      "outputs": []
    },
    {
      "cell_type": "markdown",
      "source": [
        "Majority Element\n",
        "\n",
        "Given an array nums of size n, return the majority element.\n",
        "\n",
        "The majority element is the element that appears more than ⌊n / 2⌋ times in the array. You may assume that the majority element always exists in the array."
      ],
      "metadata": {
        "id": "7jJo4AlzZcLA"
      }
    },
    {
      "cell_type": "code",
      "source": [
        "class Solution:\n",
        "    def majorityElement(self, nums: List[int]) -> int:\n",
        "        from collections import Counter\n",
        "        c=Counter(nums)\n",
        "        n=len(nums)\n",
        "        for i in nums:\n",
        "            if c[i]>n/2:\n",
        "                return i\n"
      ],
      "metadata": {
        "id": "SN-pDRmNZdHp"
      },
      "execution_count": null,
      "outputs": []
    },
    {
      "cell_type": "markdown",
      "source": [
        "Design Hashset\n",
        "\n",
        "Design a HashSet without using any built-in hash table libraries.\n",
        "\n",
        "Implement MyHashSet class:\n",
        "\n",
        "void add(key) Inserts the value key into the HashSet.\n",
        "bool contains(key) Returns whether the value key exists in the HashSet or not.\n",
        "void remove(key) Removes the value key in the HashSet. If key does not exist in the HashSet, do nothing."
      ],
      "metadata": {
        "id": "Hzwn0RZ4Zeix"
      }
    },
    {
      "cell_type": "code",
      "source": [
        "class MyHashSet:\n",
        "\n",
        "    def __init__(self):\n",
        "        self.hash=set()\n",
        "\n",
        "    def add(self, key: int) -> None:\n",
        "        if key not in self.hash:\n",
        "            self.hash.add(key)\n",
        "\n",
        "    def remove(self, key: int) -> None:\n",
        "        if key in self.hash:\n",
        "            self.hash.remove(key)\n",
        "\n",
        "    def contains(self, key: int) -> bool:\n",
        "        if key in self.hash:\n",
        "            return True\n",
        "        else:\n",
        "            return False\n",
        "\n",
        "\n",
        "# Your MyHashSet object will be instantiated and called as such:\n",
        "# obj = MyHashSet()\n",
        "# obj.add(key)\n",
        "# obj.remove(key)\n",
        "# param_3 = obj.contains(key)"
      ],
      "metadata": {
        "id": "YjFUSsR9aA1W"
      },
      "execution_count": null,
      "outputs": []
    },
    {
      "cell_type": "markdown",
      "source": [
        "Design HashMap\n",
        "\n",
        "Design a HashMap without using any built-in hash table libraries.\n",
        "\n",
        "Implement the MyHashMap class:\n",
        "\n",
        "MyHashMap() initializes the object with an empty map.\n",
        "void put(int key, int value) inserts a (key, value) pair into the HashMap. If the key already exists in the map, update the corresponding value.\n",
        "int get(int key) returns the value to which the specified key is mapped, or -1 if this map contains no mapping for the key.\n",
        "void remove(key) removes the key and its corresponding value if the map contains the mapping for the key."
      ],
      "metadata": {
        "id": "IBly5bSAaDKS"
      }
    },
    {
      "cell_type": "code",
      "source": [
        "class MyHashMap:\n",
        "\n",
        "    def __init__(self):\n",
        "        self.map=[]\n",
        "\n",
        "    def put(self, key: int, value: int) -> None:\n",
        "        for i,(k,v) in enumerate(self.map):\n",
        "            if k==key:\n",
        "                self.map[i][1]=value\n",
        "                return\n",
        "        self.map.append([key,value])\n",
        "\n",
        "    def get(self, key: int) -> int:\n",
        "        for n in self.map:\n",
        "            if n[0]==key:\n",
        "                return n[1]\n",
        "        return -1\n",
        "\n",
        "    def remove(self, key: int) -> None:\n",
        "        for i,(k,v) in enumerate(self.map):\n",
        "            if k==key:\n",
        "                self.map.pop(i)\n",
        "\n",
        "\n",
        "# Your MyHashMap object will be instantiated and called as such:\n",
        "# obj = MyHashMap()\n",
        "# obj.put(key,value)\n",
        "# param_2 = obj.get(key)\n",
        "# obj.remove(key)"
      ],
      "metadata": {
        "id": "sYP6J4Fjb3ji"
      },
      "execution_count": null,
      "outputs": []
    },
    {
      "cell_type": "markdown",
      "source": [
        "Sort an Array\n",
        "\n",
        "You are given an array of integers nums, sort the array in ascending order and return it.\n",
        "\n",
        "You must solve the problem without using any built-in functions in O(nlog(n)) time complexity and with the smallest space complexity possible."
      ],
      "metadata": {
        "id": "Dm644LKdb6C4"
      }
    },
    {
      "cell_type": "markdown",
      "source": [
        "Sort Colors\n",
        "\n",
        "You are given an array nums consisting of n elements where each element is an integer representing a color:\n",
        "\n",
        "0 represents red\n",
        "1 represents white\n",
        "2 represents blue\n",
        "Your task is to sort the array in-place such that elements of the same color are grouped together and arranged in the order: red (0), white (1), and then blue (2).\n",
        "\n",
        "You must not use any built-in sorting functions to solve this problem."
      ],
      "metadata": {
        "id": "ftvOA95ZcQHs"
      }
    },
    {
      "cell_type": "code",
      "source": [
        "class Solution:\n",
        "    def sortArray(self, nums: List[int]) -> List[int]:\n",
        "        for i in range(len(nums)):\n",
        "            for j in range(i,len(nums)):\n",
        "                if nums[j]<nums[i]:\n",
        "                    nums[i],nums[j]=nums[j],nums[i]\n",
        "        return nums"
      ],
      "metadata": {
        "id": "ejlS7JP3cO3P"
      },
      "execution_count": null,
      "outputs": []
    },
    {
      "cell_type": "markdown",
      "source": [
        "Top K Frequent Elements\n",
        "\n",
        "Given an integer array nums and an integer k, return the k most frequent elements within the array.\n",
        "\n",
        "The test cases are generated such that the answer is always unique.\n",
        "\n",
        "You may return the output in any order."
      ],
      "metadata": {
        "id": "BVLo86WOeVx4"
      }
    },
    {
      "cell_type": "code",
      "source": [
        "class Solution:\n",
        "    def topKFrequent(self, nums: List[int], k: int) -> List[int]:\n",
        "        from collections import Counter\n",
        "        freq=Counter(nums)\n",
        "        sortedkeys=sorted(freq.keys(),key=lambda x:freq[x],reverse=True)\n",
        "        return sortedkeys[:k]"
      ],
      "metadata": {
        "id": "Paj-Vu9VeVlI"
      },
      "execution_count": null,
      "outputs": []
    },
    {
      "cell_type": "markdown",
      "source": [
        "Encode and Decode Strings ##\n",
        "\n",
        "Design an algorithm to encode a list of strings to a single string. The encoded string is then decoded back to the original list of strings.\n",
        "\n",
        "Please implement encode and decode"
      ],
      "metadata": {
        "id": "2PedyHMCeYEw"
      }
    },
    {
      "cell_type": "code",
      "source": [
        "class Solution:\n",
        "\n",
        "    def encode(self, strs: List[str]) -> str:\n",
        "        return \"\".join(f'{len(s)}:{s}' for s in strs)\n",
        "    def decode(self, s: str) -> List[str]:\n",
        "        res=[]\n",
        "        i=0\n",
        "        while i<len(s):\n",
        "            j=i\n",
        "            while s[j]!=':':\n",
        "                j+=1\n",
        "            length=int(s[i:j])\n",
        "            res.append(s[j+1:j+1+length])\n",
        "            i=j+1+length\n",
        "        return res\n"
      ],
      "metadata": {
        "id": "NdaizoQ_cT9h"
      },
      "execution_count": null,
      "outputs": []
    },
    {
      "cell_type": "markdown",
      "source": [
        "Range Sum Query 2D Immutable ##\n",
        "\n",
        "You are given a 2D matrix matrix, handle multiple queries of the following type:\n",
        "\n",
        "Calculate the sum of the elements of matrix inside the rectangle defined by its upper left corner (row1, col1) and lower right corner (row2, col2).\n",
        "Implement the NumMatrix class:\n",
        "\n",
        "NumMatrix(int[][] matrix) Initializes the object with the integer matrix matrix.\n",
        "int sumRegion(int row1, int col1, int row2, int col2) Returns the sum of the elements of matrix inside the rectangle defined by its upper left corner (row1, col1) and lower right corner (row2, col2).\n",
        "You must design an algorithm where sumRegion works on O(1) time complexity."
      ],
      "metadata": {
        "id": "kQQ1DKjdHdir"
      }
    },
    {
      "cell_type": "code",
      "source": [
        "class NumMatrix:\n",
        "\n",
        "    def __init__(self, matrix: List[List[int]]):\n",
        "        if not matrix or not matrix[0]:\n",
        "            self.prefix=[]\n",
        "            return\n",
        "        rows=len(matrix)\n",
        "        cols=len(matrix[0])\n",
        "        self.prefix=[[0]*(cols+1) for _ in range(rows+1)]\n",
        "\n",
        "        for i in range(rows):\n",
        "            for j in range(cols):\n",
        "                self.prefix[i+1][j+1]=(matrix[i][j]+self.prefix[i][j+1]+self.prefix[i+1][j]-self.prefix[i][j])\n",
        "\n",
        "    def sumRegion(self, row1: int, col1: int, row2: int, col2: int) -> int:\n",
        "        return (self.prefix[row2+1][col2+1]+self.prefix[row1][col1]-self.prefix[row2+1][col1]-self.prefix[row1][col2+1])\n",
        "\n",
        "\n",
        "# Your NumMatrix object will be instantiated and called as such:\n",
        "# obj = NumMatrix(matrix)\n",
        "# param_1 = obj.sumRegion(row1,col1,row2,col2)"
      ],
      "metadata": {
        "id": "Oa2z6ClaLtcL"
      },
      "execution_count": null,
      "outputs": []
    },
    {
      "cell_type": "markdown",
      "source": [
        "Products of Array Except Self ##\n",
        "\n",
        "Given an integer array nums, return an array output where output[i] is the product of all the elements of nums except nums[i].\n",
        "\n",
        "Each product is guaranteed to fit in a 32-bit integer.\n",
        "\n",
        "Follow-up: Could you solve it in\n",
        "O\n",
        "(\n",
        "n\n",
        ")\n",
        "O(n) time without using the division operation?\n"
      ],
      "metadata": {
        "id": "ns96k6-SLvDz"
      }
    },
    {
      "cell_type": "code",
      "source": [
        "class Solution:\n",
        "    def productExceptSelf(self, nums: List[int]) -> List[int]:\n",
        "        output=[1]*len(nums)\n",
        "        n=len(nums)\n",
        "        prefix=1\n",
        "        for i in range(n):\n",
        "            output[i]=prefix\n",
        "            prefix*=nums[i]\n",
        "        suffix=1\n",
        "        for i in range(n-1,-1,-1):\n",
        "            output[i]*=suffix\n",
        "            suffix*=nums[i]\n",
        "        return output\n",
        "        # output=[]\n",
        "        # for i in range(len(nums)):\n",
        "        #     st= nums[:i] + nums[i+1:]\n",
        "        #     res=1\n",
        "        #     for j in st:\n",
        "        #         res*=j\n",
        "        #     output.append(res)\n",
        "        # return output"
      ],
      "metadata": {
        "collapsed": true,
        "id": "VEf_g1frNjwd"
      },
      "execution_count": null,
      "outputs": []
    },
    {
      "cell_type": "markdown",
      "source": [
        "Valid Sudoku ##\n",
        "\n",
        "You are given a 9 x 9 Sudoku board board. A Sudoku board is valid if the following rules are followed:\n",
        "\n",
        "Each row must contain the digits 1-9 without duplicates.\n",
        "Each column must contain the digits 1-9 without duplicates.\n",
        "Each of the nine 3 x 3 sub-boxes of the grid must contain the digits 1-9 without duplicates.\n",
        "Return true if the Sudoku board is valid, otherwise return false\n",
        "\n",
        "Note: A board does not need to be full or be solvable to be valid."
      ],
      "metadata": {
        "id": "DErKJf20vtt2"
      }
    },
    {
      "cell_type": "code",
      "source": [
        "class Solution:\n",
        "    def isValidSudoku(self, board: List[List[str]]) -> bool:\n",
        "        rows=[set() for _ in range(9)]\n",
        "        cols=[set() for _ in range(9)]\n",
        "        boxes=[set() for _ in range(9)]\n",
        "\n",
        "        for i in range(9):\n",
        "            for j in range(9):\n",
        "                num=board[i][j]\n",
        "                if num=='.':\n",
        "                    continue\n",
        "                box_index=(i//3)*3+(j//3)\n",
        "                if num in rows[i] or num in cols[j] or num in boxes[box_index]:\n",
        "                    return False\n",
        "                rows[i].add(num)\n",
        "                cols[j].add(num)\n",
        "                boxes[box_index].add(num)\n",
        "        return True"
      ],
      "metadata": {
        "id": "xnVPQJ0xvvll"
      },
      "execution_count": null,
      "outputs": []
    },
    {
      "cell_type": "markdown",
      "source": [
        "Longest Consecutive Sequence\n",
        "\n",
        "Given an array of integers nums, return the length of the longest consecutive sequence of elements that can be formed.\n",
        "\n",
        "A consecutive sequence is a sequence of elements in which each element is exactly 1 greater than the previous element. The elements do not have to be consecutive in the original array.\n",
        "\n",
        "You must write an algorithm that runs in O(n) time."
      ],
      "metadata": {
        "id": "_NR3xJ0qvxOx"
      }
    },
    {
      "cell_type": "code",
      "source": [
        "class Solution:\n",
        "    def longestConsecutive(self, nums: List[int]) -> int:\n",
        "        if not nums:\n",
        "            return 0\n",
        "        nums.sort()\n",
        "        count=1\n",
        "        total=1\n",
        "        for i in range(len(nums)-1):\n",
        "            if nums[i] == nums[i + 1]:\n",
        "                continue\n",
        "            elif nums[i]+1==nums[i+1]:\n",
        "                count+=1\n",
        "            else:\n",
        "                total=max(total,count)\n",
        "                count=1\n",
        "        return max(total,count)"
      ],
      "metadata": {
        "id": "NyE2tZFOhcB0"
      },
      "execution_count": null,
      "outputs": []
    }
  ]
}